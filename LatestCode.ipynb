{
 "cells": [
  {
   "cell_type": "markdown",
   "metadata": {},
   "source": [
    "#### Variables\n",
    "**Starting**<br>\n",
    "salary\t\t： Original Dataset, Replace '?' to 'NaN'<br>\n",
    "new_salary\t: Remove Missing Values<br>\n",
    "new_salary1\t: Remove Outliers<br>\n",
    "\n",
    "**Split data**<br>\n",
    "X_train, X_test, y_train, y_test<br>\n",
    "X_train_num<br>\n",
    "X_train_cat <br>\n",
    "X_train_num_tr : Standardize (numeric)<br>\n",
    "X_train_tr      : Finalize Test Set<br>\n",
    "X_test_tr      : Finalize Test Set<br>\n",
    "X_train_cat_1 ~ 8 <br>\n",
    "X_test_cat_1 ~ 8 "
   ]
  },
  {
   "cell_type": "markdown",
   "metadata": {},
   "source": [
    "# Data Explore"
   ]
  },
  {
   "cell_type": "markdown",
   "metadata": {},
   "source": [
    "## Import Python Libraries"
   ]
  },
  {
   "cell_type": "code",
   "execution_count": 2,
   "metadata": {},
   "outputs": [],
   "source": [
    "import numpy as np\n",
    "import pandas as pd\n",
    "import matplotlib.pyplot as plt\n",
    "import seaborn as sb"
   ]
  },
  {
   "cell_type": "markdown",
   "metadata": {},
   "source": [
    "## Data Collection"
   ]
  },
  {
   "cell_type": "code",
   "execution_count": 3,
   "metadata": {},
   "outputs": [],
   "source": [
    "#salary = pd.read_csv('SalaryBackup.csv')\n",
    "salary = pd.read_csv(\"SalaryBackup.csv\", na_values = \"?\")"
   ]
  },
  {
   "cell_type": "code",
   "execution_count": 3,
   "metadata": {},
   "outputs": [
    {
     "data": {
      "text/html": [
       "<div>\n",
       "<style scoped>\n",
       "    .dataframe tbody tr th:only-of-type {\n",
       "        vertical-align: middle;\n",
       "    }\n",
       "\n",
       "    .dataframe tbody tr th {\n",
       "        vertical-align: top;\n",
       "    }\n",
       "\n",
       "    .dataframe thead th {\n",
       "        text-align: right;\n",
       "    }\n",
       "</style>\n",
       "<table border=\"1\" class=\"dataframe\">\n",
       "  <thead>\n",
       "    <tr style=\"text-align: right;\">\n",
       "      <th></th>\n",
       "      <th>work_type</th>\n",
       "      <th>age</th>\n",
       "      <th>weight</th>\n",
       "      <th>education</th>\n",
       "      <th>education_years</th>\n",
       "      <th>marital_status</th>\n",
       "      <th>occupation</th>\n",
       "      <th>relationship</th>\n",
       "      <th>race</th>\n",
       "      <th>sex</th>\n",
       "      <th>investment_gain</th>\n",
       "      <th>investment_loss</th>\n",
       "      <th>company_size</th>\n",
       "      <th>weekly_hours</th>\n",
       "      <th>country</th>\n",
       "      <th>salary_range</th>\n",
       "    </tr>\n",
       "  </thead>\n",
       "  <tbody>\n",
       "    <tr>\n",
       "      <th>0</th>\n",
       "      <td>Private</td>\n",
       "      <td>19</td>\n",
       "      <td>216804</td>\n",
       "      <td>7th-8th</td>\n",
       "      <td>4.0</td>\n",
       "      <td>Never-married</td>\n",
       "      <td>Other-service</td>\n",
       "      <td>Own-child</td>\n",
       "      <td>White</td>\n",
       "      <td>Male</td>\n",
       "      <td>0</td>\n",
       "      <td>0</td>\n",
       "      <td>825</td>\n",
       "      <td>33</td>\n",
       "      <td>United-States</td>\n",
       "      <td>low</td>\n",
       "    </tr>\n",
       "    <tr>\n",
       "      <th>1</th>\n",
       "      <td>Private</td>\n",
       "      <td>23</td>\n",
       "      <td>207546</td>\n",
       "      <td>11th</td>\n",
       "      <td>7.0</td>\n",
       "      <td>Married-civ-spouse</td>\n",
       "      <td>Machine-op-inspct</td>\n",
       "      <td>Husband</td>\n",
       "      <td>White</td>\n",
       "      <td>Male</td>\n",
       "      <td>0</td>\n",
       "      <td>0</td>\n",
       "      <td>865</td>\n",
       "      <td>40</td>\n",
       "      <td>United-States</td>\n",
       "      <td>low</td>\n",
       "    </tr>\n",
       "    <tr>\n",
       "      <th>2</th>\n",
       "      <td>Private</td>\n",
       "      <td>41</td>\n",
       "      <td>253759</td>\n",
       "      <td>HS-grad</td>\n",
       "      <td>9.0</td>\n",
       "      <td>Never-married</td>\n",
       "      <td>Sales</td>\n",
       "      <td>Unmarried</td>\n",
       "      <td>Black</td>\n",
       "      <td>Female</td>\n",
       "      <td>0</td>\n",
       "      <td>0</td>\n",
       "      <td>727</td>\n",
       "      <td>40</td>\n",
       "      <td>United-States</td>\n",
       "      <td>low</td>\n",
       "    </tr>\n",
       "    <tr>\n",
       "      <th>3</th>\n",
       "      <td>Private</td>\n",
       "      <td>28</td>\n",
       "      <td>180928</td>\n",
       "      <td>Some-college</td>\n",
       "      <td>10.0</td>\n",
       "      <td>Married-civ-spouse</td>\n",
       "      <td>Handlers-cleaners</td>\n",
       "      <td>Husband</td>\n",
       "      <td>White</td>\n",
       "      <td>Male</td>\n",
       "      <td>5013</td>\n",
       "      <td>0</td>\n",
       "      <td>328</td>\n",
       "      <td>55</td>\n",
       "      <td>United-States</td>\n",
       "      <td>low</td>\n",
       "    </tr>\n",
       "    <tr>\n",
       "      <th>4</th>\n",
       "      <td>Private</td>\n",
       "      <td>17</td>\n",
       "      <td>208463</td>\n",
       "      <td>HS-grad</td>\n",
       "      <td>9.0</td>\n",
       "      <td>Never-married</td>\n",
       "      <td>Sales</td>\n",
       "      <td>Own-child</td>\n",
       "      <td>White</td>\n",
       "      <td>Female</td>\n",
       "      <td>0</td>\n",
       "      <td>0</td>\n",
       "      <td>977</td>\n",
       "      <td>20</td>\n",
       "      <td>United-States</td>\n",
       "      <td>low</td>\n",
       "    </tr>\n",
       "    <tr>\n",
       "      <th>5</th>\n",
       "      <td>Private</td>\n",
       "      <td>73</td>\n",
       "      <td>333676</td>\n",
       "      <td>HS-grad</td>\n",
       "      <td>9.0</td>\n",
       "      <td>Married-civ-spouse</td>\n",
       "      <td>Farming-fishing</td>\n",
       "      <td>Husband</td>\n",
       "      <td>White</td>\n",
       "      <td>Male</td>\n",
       "      <td>0</td>\n",
       "      <td>0</td>\n",
       "      <td>118</td>\n",
       "      <td>50</td>\n",
       "      <td>United-States</td>\n",
       "      <td>low</td>\n",
       "    </tr>\n",
       "    <tr>\n",
       "      <th>6</th>\n",
       "      <td>Local-gov</td>\n",
       "      <td>65</td>\n",
       "      <td>24824</td>\n",
       "      <td>HS-grad</td>\n",
       "      <td>9.0</td>\n",
       "      <td>Married-civ-spouse</td>\n",
       "      <td>Craft-repair</td>\n",
       "      <td>Husband</td>\n",
       "      <td>White</td>\n",
       "      <td>Male</td>\n",
       "      <td>0</td>\n",
       "      <td>0</td>\n",
       "      <td>793</td>\n",
       "      <td>40</td>\n",
       "      <td>United-States</td>\n",
       "      <td>low</td>\n",
       "    </tr>\n",
       "    <tr>\n",
       "      <th>7</th>\n",
       "      <td>Private</td>\n",
       "      <td>37</td>\n",
       "      <td>96330</td>\n",
       "      <td>Some-college</td>\n",
       "      <td>10.0</td>\n",
       "      <td>Never-married</td>\n",
       "      <td>Exec-managerial</td>\n",
       "      <td>Unmarried</td>\n",
       "      <td>Black</td>\n",
       "      <td>Female</td>\n",
       "      <td>0</td>\n",
       "      <td>0</td>\n",
       "      <td>193</td>\n",
       "      <td>40</td>\n",
       "      <td>United-States</td>\n",
       "      <td>low</td>\n",
       "    </tr>\n",
       "    <tr>\n",
       "      <th>8</th>\n",
       "      <td>Private</td>\n",
       "      <td>53</td>\n",
       "      <td>47396</td>\n",
       "      <td>HS-grad</td>\n",
       "      <td>9.0</td>\n",
       "      <td>Married-civ-spouse</td>\n",
       "      <td>Craft-repair</td>\n",
       "      <td>Husband</td>\n",
       "      <td>White</td>\n",
       "      <td>Male</td>\n",
       "      <td>0</td>\n",
       "      <td>0</td>\n",
       "      <td>427</td>\n",
       "      <td>40</td>\n",
       "      <td>United-States</td>\n",
       "      <td>low</td>\n",
       "    </tr>\n",
       "    <tr>\n",
       "      <th>9</th>\n",
       "      <td>NaN</td>\n",
       "      <td>61</td>\n",
       "      <td>166855</td>\n",
       "      <td>Bachelors</td>\n",
       "      <td>13.0</td>\n",
       "      <td>Married-civ-spouse</td>\n",
       "      <td>NaN</td>\n",
       "      <td>Husband</td>\n",
       "      <td>White</td>\n",
       "      <td>Male</td>\n",
       "      <td>0</td>\n",
       "      <td>0</td>\n",
       "      <td>164</td>\n",
       "      <td>10</td>\n",
       "      <td>United-States</td>\n",
       "      <td>low</td>\n",
       "    </tr>\n",
       "  </tbody>\n",
       "</table>\n",
       "</div>"
      ],
      "text/plain": [
       "   work_type  age  weight     education  education_years      marital_status  \\\n",
       "0    Private   19  216804       7th-8th              4.0       Never-married   \n",
       "1    Private   23  207546          11th              7.0  Married-civ-spouse   \n",
       "2    Private   41  253759       HS-grad              9.0       Never-married   \n",
       "3    Private   28  180928  Some-college             10.0  Married-civ-spouse   \n",
       "4    Private   17  208463       HS-grad              9.0       Never-married   \n",
       "5    Private   73  333676       HS-grad              9.0  Married-civ-spouse   \n",
       "6  Local-gov   65   24824       HS-grad              9.0  Married-civ-spouse   \n",
       "7    Private   37   96330  Some-college             10.0       Never-married   \n",
       "8    Private   53   47396       HS-grad              9.0  Married-civ-spouse   \n",
       "9        NaN   61  166855     Bachelors             13.0  Married-civ-spouse   \n",
       "\n",
       "          occupation relationship   race     sex  investment_gain  \\\n",
       "0      Other-service    Own-child  White    Male                0   \n",
       "1  Machine-op-inspct      Husband  White    Male                0   \n",
       "2              Sales    Unmarried  Black  Female                0   \n",
       "3  Handlers-cleaners      Husband  White    Male             5013   \n",
       "4              Sales    Own-child  White  Female                0   \n",
       "5    Farming-fishing      Husband  White    Male                0   \n",
       "6       Craft-repair      Husband  White    Male                0   \n",
       "7    Exec-managerial    Unmarried  Black  Female                0   \n",
       "8       Craft-repair      Husband  White    Male                0   \n",
       "9                NaN      Husband  White    Male                0   \n",
       "\n",
       "   investment_loss  company_size  weekly_hours        country salary_range  \n",
       "0                0           825            33  United-States          low  \n",
       "1                0           865            40  United-States          low  \n",
       "2                0           727            40  United-States          low  \n",
       "3                0           328            55  United-States          low  \n",
       "4                0           977            20  United-States          low  \n",
       "5                0           118            50  United-States          low  \n",
       "6                0           793            40  United-States          low  \n",
       "7                0           193            40  United-States          low  \n",
       "8                0           427            40  United-States          low  \n",
       "9                0           164            10  United-States          low  "
      ]
     },
     "execution_count": 3,
     "metadata": {},
     "output_type": "execute_result"
    }
   ],
   "source": [
    "salary.head(10)"
   ]
  },
  {
   "cell_type": "code",
   "execution_count": 32,
   "metadata": {},
   "outputs": [
    {
     "data": {
      "text/plain": [
       "work_type          1836\n",
       "age                   0\n",
       "weight                0\n",
       "education             0\n",
       "education_years       9\n",
       "marital_status        0\n",
       "occupation         1843\n",
       "relationship          0\n",
       "race                  0\n",
       "sex                   0\n",
       "investment_gain       0\n",
       "investment_loss       0\n",
       "company_size          0\n",
       "weekly_hours          0\n",
       "country             583\n",
       "salary_range          0\n",
       "dtype: int64"
      ]
     },
     "execution_count": 32,
     "metadata": {},
     "output_type": "execute_result"
    }
   ],
   "source": [
    "salary.isnull().sum()"
   ]
  },
  {
   "cell_type": "code",
   "execution_count": 33,
   "metadata": {},
   "outputs": [
    {
     "name": "stdout",
     "output_type": "stream",
     "text": [
      "Shape (32561, 16)\n"
     ]
    }
   ],
   "source": [
    "#original shape of dataset\n",
    "print(\"Shape\",salary.shape)"
   ]
  },
  {
   "cell_type": "code",
   "execution_count": 34,
   "metadata": {
    "scrolled": false
   },
   "outputs": [
    {
     "name": "stdout",
     "output_type": "stream",
     "text": [
      "<class 'pandas.core.frame.DataFrame'>\n",
      "RangeIndex: 32561 entries, 0 to 32560\n",
      "Data columns (total 16 columns):\n",
      " #   Column           Non-Null Count  Dtype  \n",
      "---  ------           --------------  -----  \n",
      " 0   work_type        30725 non-null  object \n",
      " 1   age              32561 non-null  int64  \n",
      " 2   weight           32561 non-null  int64  \n",
      " 3   education        32561 non-null  object \n",
      " 4   education_years  32552 non-null  float64\n",
      " 5   marital_status   32561 non-null  object \n",
      " 6   occupation       30718 non-null  object \n",
      " 7   relationship     32561 non-null  object \n",
      " 8   race             32561 non-null  object \n",
      " 9   sex              32561 non-null  object \n",
      " 10  investment_gain  32561 non-null  int64  \n",
      " 11  investment_loss  32561 non-null  int64  \n",
      " 12  company_size     32561 non-null  int64  \n",
      " 13  weekly_hours     32561 non-null  int64  \n",
      " 14  country          31978 non-null  object \n",
      " 15  salary_range     32561 non-null  object \n",
      "dtypes: float64(1), int64(6), object(9)\n",
      "memory usage: 4.0+ MB\n"
     ]
    }
   ],
   "source": [
    "salary.info()"
   ]
  },
  {
   "cell_type": "code",
   "execution_count": 35,
   "metadata": {
    "scrolled": true
   },
   "outputs": [
    {
     "data": {
      "text/plain": [
       "salary_range\n",
       "high     7841\n",
       "low     24720\n",
       "dtype: int64"
      ]
     },
     "execution_count": 35,
     "metadata": {},
     "output_type": "execute_result"
    }
   ],
   "source": [
    "salary.groupby('salary_range').size()"
   ]
  },
  {
   "cell_type": "markdown",
   "metadata": {},
   "source": [
    "*Comment for the size of \"salary_range\":*<br>\n",
    "- Maybe need to rebalance the class **(avoid imbalanced class result)**"
   ]
  },
  {
   "cell_type": "markdown",
   "metadata": {},
   "source": [
    "## Numerical Feaures Analysis"
   ]
  },
  {
   "cell_type": "code",
   "execution_count": 36,
   "metadata": {},
   "outputs": [
    {
     "data": {
      "text/html": [
       "<div>\n",
       "<style scoped>\n",
       "    .dataframe tbody tr th:only-of-type {\n",
       "        vertical-align: middle;\n",
       "    }\n",
       "\n",
       "    .dataframe tbody tr th {\n",
       "        vertical-align: top;\n",
       "    }\n",
       "\n",
       "    .dataframe thead th {\n",
       "        text-align: right;\n",
       "    }\n",
       "</style>\n",
       "<table border=\"1\" class=\"dataframe\">\n",
       "  <thead>\n",
       "    <tr style=\"text-align: right;\">\n",
       "      <th></th>\n",
       "      <th>age</th>\n",
       "      <th>weight</th>\n",
       "      <th>education_years</th>\n",
       "      <th>investment_gain</th>\n",
       "      <th>investment_loss</th>\n",
       "      <th>company_size</th>\n",
       "      <th>weekly_hours</th>\n",
       "    </tr>\n",
       "  </thead>\n",
       "  <tbody>\n",
       "    <tr>\n",
       "      <th>count</th>\n",
       "      <td>32561.000000</td>\n",
       "      <td>3.256100e+04</td>\n",
       "      <td>32552.000000</td>\n",
       "      <td>32561.000000</td>\n",
       "      <td>32561.000000</td>\n",
       "      <td>32561.000000</td>\n",
       "      <td>32561.000000</td>\n",
       "    </tr>\n",
       "    <tr>\n",
       "      <th>mean</th>\n",
       "      <td>38.581647</td>\n",
       "      <td>1.897784e+05</td>\n",
       "      <td>10.080609</td>\n",
       "      <td>1077.648844</td>\n",
       "      <td>87.303830</td>\n",
       "      <td>500.930838</td>\n",
       "      <td>40.437456</td>\n",
       "    </tr>\n",
       "    <tr>\n",
       "      <th>std</th>\n",
       "      <td>13.640433</td>\n",
       "      <td>1.055500e+05</td>\n",
       "      <td>2.572762</td>\n",
       "      <td>7385.292085</td>\n",
       "      <td>402.960219</td>\n",
       "      <td>285.784842</td>\n",
       "      <td>12.347429</td>\n",
       "    </tr>\n",
       "    <tr>\n",
       "      <th>min</th>\n",
       "      <td>17.000000</td>\n",
       "      <td>1.228500e+04</td>\n",
       "      <td>1.000000</td>\n",
       "      <td>0.000000</td>\n",
       "      <td>0.000000</td>\n",
       "      <td>5.000000</td>\n",
       "      <td>1.000000</td>\n",
       "    </tr>\n",
       "    <tr>\n",
       "      <th>25%</th>\n",
       "      <td>28.000000</td>\n",
       "      <td>1.178270e+05</td>\n",
       "      <td>9.000000</td>\n",
       "      <td>0.000000</td>\n",
       "      <td>0.000000</td>\n",
       "      <td>254.000000</td>\n",
       "      <td>40.000000</td>\n",
       "    </tr>\n",
       "    <tr>\n",
       "      <th>50%</th>\n",
       "      <td>37.000000</td>\n",
       "      <td>1.783560e+05</td>\n",
       "      <td>10.000000</td>\n",
       "      <td>0.000000</td>\n",
       "      <td>0.000000</td>\n",
       "      <td>502.000000</td>\n",
       "      <td>40.000000</td>\n",
       "    </tr>\n",
       "    <tr>\n",
       "      <th>75%</th>\n",
       "      <td>48.000000</td>\n",
       "      <td>2.370510e+05</td>\n",
       "      <td>12.000000</td>\n",
       "      <td>0.000000</td>\n",
       "      <td>0.000000</td>\n",
       "      <td>745.000000</td>\n",
       "      <td>45.000000</td>\n",
       "    </tr>\n",
       "    <tr>\n",
       "      <th>max</th>\n",
       "      <td>90.000000</td>\n",
       "      <td>1.484705e+06</td>\n",
       "      <td>16.000000</td>\n",
       "      <td>99999.000000</td>\n",
       "      <td>4356.000000</td>\n",
       "      <td>1000.000000</td>\n",
       "      <td>99.000000</td>\n",
       "    </tr>\n",
       "  </tbody>\n",
       "</table>\n",
       "</div>"
      ],
      "text/plain": [
       "                age        weight  education_years  investment_gain  \\\n",
       "count  32561.000000  3.256100e+04     32552.000000     32561.000000   \n",
       "mean      38.581647  1.897784e+05        10.080609      1077.648844   \n",
       "std       13.640433  1.055500e+05         2.572762      7385.292085   \n",
       "min       17.000000  1.228500e+04         1.000000         0.000000   \n",
       "25%       28.000000  1.178270e+05         9.000000         0.000000   \n",
       "50%       37.000000  1.783560e+05        10.000000         0.000000   \n",
       "75%       48.000000  2.370510e+05        12.000000         0.000000   \n",
       "max       90.000000  1.484705e+06        16.000000     99999.000000   \n",
       "\n",
       "       investment_loss  company_size  weekly_hours  \n",
       "count     32561.000000  32561.000000  32561.000000  \n",
       "mean         87.303830    500.930838     40.437456  \n",
       "std         402.960219    285.784842     12.347429  \n",
       "min           0.000000      5.000000      1.000000  \n",
       "25%           0.000000    254.000000     40.000000  \n",
       "50%           0.000000    502.000000     40.000000  \n",
       "75%           0.000000    745.000000     45.000000  \n",
       "max        4356.000000   1000.000000     99.000000  "
      ]
     },
     "execution_count": 36,
     "metadata": {},
     "output_type": "execute_result"
    }
   ],
   "source": [
    "salary.describe() "
   ]
  },
  {
   "cell_type": "markdown",
   "metadata": {},
   "source": [
    "Summary of the describtion of the data:\n",
    "---\n",
    "1. Age   : 17 - 90 years old\n",
    "2. Weight: 1.376900e+04 - 1.484705e+06\n",
    "3. Education_years: 1 - 16 years\n",
    "4. investment_gain: 0.00 - 99999.00\n",
    "5. investment_loss: 0.00 - 4356.00\n",
    "6. company_size   : 5 - 1000 employees\n",
    "7. weekly_hours   : 1 - 99 hours"
   ]
  },
  {
   "cell_type": "code",
   "execution_count": 37,
   "metadata": {},
   "outputs": [
    {
     "data": {
      "image/png": "[encoded data removed]",
      "text/plain": [
       "<Figure size 1440x1080 with 9 Axes>"
      ]
     },
     "metadata": {
      "needs_background": "light"
     },
     "output_type": "display_data"
    }
   ],
   "source": [
    "salary.hist(bins = 50, figsize = (20,15))\n",
    "plt.show() "
   ]
  },
  {
   "cell_type": "markdown",
   "metadata": {},
   "source": [
    "Distribution data questions: <br>\n",
    "    a. How is the distribution data - heavy tail issue<br>\n",
    "        - 3 attributes (weight, investment_gain, investment_loss)<br>\n",
    "    b. What is peculiar about the graph<br>\n",
    "        - <br>\n",
    "    c. Features that have different scales<br>\n",
    "        - weekly_hours"
   ]
  },
  {
   "cell_type": "markdown",
   "metadata": {},
   "source": [
    "## Categorical Features Analysis"
   ]
  },
  {
   "cell_type": "code",
   "execution_count": 38,
   "metadata": {},
   "outputs": [
    {
     "data": {
      "text/plain": [
       "work_type    age  weight  education     education_years  marital_status      occupation         relationship   race                sex     investment_gain  investment_loss  company_size  weekly_hours  country        salary_range\n",
       "Federal-gov  17   99893   11th          7.0              Never-married       Adm-clerical       Not-in-family  Black               Female  0                1602             415           40            United-States  low             1\n",
       "Private      46   216164  HS-grad       9.0              Married-civ-spouse  Handlers-cleaners  Husband        White               Male    0                0                266           40            United-States  low             1\n",
       "                  224559  HS-grad       9.0              Married-civ-spouse  Transport-moving   Husband        Black               Male    0                0                300           40            United-States  low             1\n",
       "                  224202  Some-college  10.0             Married-civ-spouse  Sales              Husband        White               Male    0                0                696           50            United-States  low             1\n",
       "                  220269  Some-college  10.0             Married-civ-spouse  Tech-support       Husband        White               Male    0                0                181           40            United-States  high            1\n",
       "                                                                                                                                                                                                                                       ..\n",
       "             29   100405  10th          6.0              Married-civ-spouse  Farming-fishing    Wife           Amer-Indian-Eskimo  Female  0                0                812           40            United-States  low             1\n",
       "                  100219  Assoc-acdm    12.0             Never-married       Machine-op-inspct  Unmarried      White               Male    0                0                370           45            United-States  low             1\n",
       "                  99369   Bachelors     13.0             Never-married       Prof-specialty     Not-in-family  Other               Female  0                0                659           50            United-States  low             1\n",
       "                  95465   HS-grad       9.0              Never-married       Tech-support       Not-in-family  White               Male    0                0                654           42            United-States  low             1\n",
       "Without-pay  72   121004  HS-grad       9.0              Married-civ-spouse  Other-service      Husband        White               Male    0                0                281           55            United-States  low             1\n",
       "Length: 30153, dtype: int64"
      ]
     },
     "execution_count": 38,
     "metadata": {},
     "output_type": "execute_result"
    }
   ],
   "source": [
    "salary.value_counts()"
   ]
  },
  {
   "cell_type": "markdown",
   "metadata": {},
   "source": [
    "Formulate data question of the: <br>\n",
    "    a. How many possible values for the categorical feature<br>\n",
    "        - 10 attributes<br>\n",
    "    b. What is the most frequent value<br>\n",
    "        - <br>\n",
    "    c. What is the least frequent value<br>\n",
    "        - <br>"
   ]
  },
  {
   "cell_type": "markdown",
   "metadata": {},
   "source": [
    "# Data Visualization"
   ]
  },
  {
   "cell_type": "markdown",
   "metadata": {},
   "source": [
    "## Correlation"
   ]
  },
  {
   "cell_type": "code",
   "execution_count": 39,
   "metadata": {},
   "outputs": [
    {
     "data": {
      "text/html": [
       "<div>\n",
       "<style scoped>\n",
       "    .dataframe tbody tr th:only-of-type {\n",
       "        vertical-align: middle;\n",
       "    }\n",
       "\n",
       "    .dataframe tbody tr th {\n",
       "        vertical-align: top;\n",
       "    }\n",
       "\n",
       "    .dataframe thead th {\n",
       "        text-align: right;\n",
       "    }\n",
       "</style>\n",
       "<table border=\"1\" class=\"dataframe\">\n",
       "  <thead>\n",
       "    <tr style=\"text-align: right;\">\n",
       "      <th></th>\n",
       "      <th>age</th>\n",
       "      <th>weight</th>\n",
       "      <th>education_years</th>\n",
       "      <th>investment_gain</th>\n",
       "      <th>investment_loss</th>\n",
       "      <th>company_size</th>\n",
       "      <th>weekly_hours</th>\n",
       "    </tr>\n",
       "  </thead>\n",
       "  <tbody>\n",
       "    <tr>\n",
       "      <th>age</th>\n",
       "      <td>1.000000</td>\n",
       "      <td>-0.076646</td>\n",
       "      <td>0.036495</td>\n",
       "      <td>0.077674</td>\n",
       "      <td>0.057775</td>\n",
       "      <td>0.002589</td>\n",
       "      <td>0.068756</td>\n",
       "    </tr>\n",
       "    <tr>\n",
       "      <th>weight</th>\n",
       "      <td>-0.076646</td>\n",
       "      <td>1.000000</td>\n",
       "      <td>-0.043220</td>\n",
       "      <td>0.000432</td>\n",
       "      <td>-0.010252</td>\n",
       "      <td>0.004007</td>\n",
       "      <td>-0.018768</td>\n",
       "    </tr>\n",
       "    <tr>\n",
       "      <th>education_years</th>\n",
       "      <td>0.036495</td>\n",
       "      <td>-0.043220</td>\n",
       "      <td>1.000000</td>\n",
       "      <td>0.122649</td>\n",
       "      <td>0.079678</td>\n",
       "      <td>-0.007389</td>\n",
       "      <td>0.148050</td>\n",
       "    </tr>\n",
       "    <tr>\n",
       "      <th>investment_gain</th>\n",
       "      <td>0.077674</td>\n",
       "      <td>0.000432</td>\n",
       "      <td>0.122649</td>\n",
       "      <td>1.000000</td>\n",
       "      <td>-0.031615</td>\n",
       "      <td>0.004572</td>\n",
       "      <td>0.078409</td>\n",
       "    </tr>\n",
       "    <tr>\n",
       "      <th>investment_loss</th>\n",
       "      <td>0.057775</td>\n",
       "      <td>-0.010252</td>\n",
       "      <td>0.079678</td>\n",
       "      <td>-0.031615</td>\n",
       "      <td>1.000000</td>\n",
       "      <td>0.003726</td>\n",
       "      <td>0.054256</td>\n",
       "    </tr>\n",
       "    <tr>\n",
       "      <th>company_size</th>\n",
       "      <td>0.002589</td>\n",
       "      <td>0.004007</td>\n",
       "      <td>-0.007389</td>\n",
       "      <td>0.004572</td>\n",
       "      <td>0.003726</td>\n",
       "      <td>1.000000</td>\n",
       "      <td>0.000768</td>\n",
       "    </tr>\n",
       "    <tr>\n",
       "      <th>weekly_hours</th>\n",
       "      <td>0.068756</td>\n",
       "      <td>-0.018768</td>\n",
       "      <td>0.148050</td>\n",
       "      <td>0.078409</td>\n",
       "      <td>0.054256</td>\n",
       "      <td>0.000768</td>\n",
       "      <td>1.000000</td>\n",
       "    </tr>\n",
       "  </tbody>\n",
       "</table>\n",
       "</div>"
      ],
      "text/plain": [
       "                      age    weight  education_years  investment_gain  \\\n",
       "age              1.000000 -0.076646         0.036495         0.077674   \n",
       "weight          -0.076646  1.000000        -0.043220         0.000432   \n",
       "education_years  0.036495 -0.043220         1.000000         0.122649   \n",
       "investment_gain  0.077674  0.000432         0.122649         1.000000   \n",
       "investment_loss  0.057775 -0.010252         0.079678        -0.031615   \n",
       "company_size     0.002589  0.004007        -0.007389         0.004572   \n",
       "weekly_hours     0.068756 -0.018768         0.148050         0.078409   \n",
       "\n",
       "                 investment_loss  company_size  weekly_hours  \n",
       "age                     0.057775      0.002589      0.068756  \n",
       "weight                 -0.010252      0.004007     -0.018768  \n",
       "education_years         0.079678     -0.007389      0.148050  \n",
       "investment_gain        -0.031615      0.004572      0.078409  \n",
       "investment_loss         1.000000      0.003726      0.054256  \n",
       "company_size            0.003726      1.000000      0.000768  \n",
       "weekly_hours            0.054256      0.000768      1.000000  "
      ]
     },
     "execution_count": 39,
     "metadata": {},
     "output_type": "execute_result"
    }
   ],
   "source": [
    "salary.corr()"
   ]
  },
  {
   "cell_type": "code",
   "execution_count": 40,
   "metadata": {
    "scrolled": false
   },
   "outputs": [
    {
     "data": {
      "text/plain": [
       "Text(0.5, 1.0, '- Correlation matrix and Heatmap -')"
      ]
     },
     "execution_count": 40,
     "metadata": {},
     "output_type": "execute_result"
    },
    {
     "data": {
      "image/png": "[encoded data removed]",
      "text/plain": [
       "<Figure size 720x576 with 2 Axes>"
      ]
     },
     "metadata": {
      "needs_background": "light"
     },
     "output_type": "display_data"
    }
   ],
   "source": [
    "plt.figure(figsize =(10,8))\n",
    "corrmat = salary.corr()\n",
    "sb.heatmap(corrmat, square=True, annot=True, cbar=True, cmap=\"Blues\");  #Blues\n",
    "plt.title('- Correlation matrix and Heatmap -',fontsize = 25)"
   ]
  },
  {
   "cell_type": "markdown",
   "metadata": {},
   "source": [
    "### Positive Correlation\n",
    "- Age and Investment Gain\n",
    "- Age and Investment Loss\n",
    "- Weekly Hours and Age\n",
    "- Weekly Hours and Education Years\n",
    "- Education Years and Investment Gain\n",
    "- Education Years and Investment Lost\n",
    "\n",
    "### Negative Correlation\n",
    "- Age and Weight\n",
    "- Weight and Investment Lost\n",
    "- Weight and Weekly Hours\n",
    "- Investment Gain and Investment Loss\n",
    "- Education Years and Company Size\n",
    "\n",
    "*Observation: There are nothing much correlation between these numerical attributes"
   ]
  },
  {
   "cell_type": "markdown",
   "metadata": {},
   "source": [
    "### BarPlot - Investment"
   ]
  },
  {
   "cell_type": "code",
   "execution_count": 41,
   "metadata": {},
   "outputs": [
    {
     "data": {
      "text/plain": [
       "<AxesSubplot:xlabel='salary_range', ylabel='investment_gain'>"
      ]
     },
     "execution_count": 41,
     "metadata": {},
     "output_type": "execute_result"
    },
    {
     "data": {
      "image/png": "[encoded data removed]",
      "text/plain": [
       "<Figure size 432x288 with 1 Axes>"
      ]
     },
     "metadata": {
      "needs_background": "light"
     },
     "output_type": "display_data"
    }
   ],
   "source": [
    "sb.barplot(x='salary_range',y='investment_gain',data=salary,estimator=np.std,hue='sex')"
   ]
  },
  {
   "cell_type": "code",
   "execution_count": 42,
   "metadata": {},
   "outputs": [
    {
     "data": {
      "text/plain": [
       "<AxesSubplot:xlabel='salary_range', ylabel='education_years'>"
      ]
     },
     "execution_count": 42,
     "metadata": {},
     "output_type": "execute_result"
    },
    {
     "data": {
      "image/png": "[encoded data removed]",
      "text/plain": [
       "<Figure size 432x288 with 1 Axes>"
      ]
     },
     "metadata": {
      "needs_background": "light"
     },
     "output_type": "display_data"
    }
   ],
   "source": [
    "sb.barplot(x='salary_range',y='education_years',data=salary)"
   ]
  },
  {
   "cell_type": "code",
   "execution_count": 43,
   "metadata": {},
   "outputs": [
    {
     "data": {
      "text/plain": [
       "<AxesSubplot:xlabel='salary_range', ylabel='weekly_hours'>"
      ]
     },
     "execution_count": 43,
     "metadata": {},
     "output_type": "execute_result"
    },
    {
     "data": {
      "image/png": "[encoded data removed]",
      "text/plain": [
       "<Figure size 432x288 with 1 Axes>"
      ]
     },
     "metadata": {
      "needs_background": "light"
     },
     "output_type": "display_data"
    }
   ],
   "source": [
    "sb.barplot(x='salary_range',y='weekly_hours',data=salary, hue='sex')"
   ]
  },
  {
   "cell_type": "code",
   "execution_count": 44,
   "metadata": {},
   "outputs": [
    {
     "data": {
      "text/plain": [
       "Text(0.5, 1.0, '- Investment Gain of Different Races -')"
      ]
     },
     "execution_count": 44,
     "metadata": {},
     "output_type": "execute_result"
    },
    {
     "data": {
      "image/png": "[encoded data removed]",
      "text/plain": [
       "<Figure size 1152x504 with 1 Axes>"
      ]
     },
     "metadata": {
      "needs_background": "light"
     },
     "output_type": "display_data"
    }
   ],
   "source": [
    "plt.figure(figsize =(16,7))\n",
    "sb.barplot(x='race',y='investment_gain',data=salary, hue='sex',palette='vlag')\n",
    "\n",
    "plt.xlabel('Race',fontsize = 15,color='blue')\n",
    "plt.ylabel('Investment Gain',fontsize = 15,color='blue')\n",
    "plt.title('- Investment Gain of Different Races -',fontsize = 25)"
   ]
  },
  {
   "cell_type": "markdown",
   "metadata": {},
   "source": [
    "#### Asian Pacific Islanders has the highest investment gain while American Indian Eskimo has the lowest"
   ]
  },
  {
   "cell_type": "code",
   "execution_count": 45,
   "metadata": {},
   "outputs": [
    {
     "data": {
      "image/png": "[encoded data removed]",
      "text/plain": [
       "<Figure size 720x432 with 1 Axes>"
      ]
     },
     "metadata": {},
     "output_type": "display_data"
    }
   ],
   "source": [
    "co = salary.groupby('salary_range')\n",
    "top5 = co['country'].value_counts().tail(5)\n",
    "\n",
    "x = top5\n",
    "y = top5['low'].index.tolist()\n",
    "\n",
    "fig, ex = plt.subplots(figsize=(10, 6))\n",
    "explode = (0.1,0.1,0.1,0.1,0.1)\n",
    "plt.pie(x, explode=explode,labels=y, autopct='%1.1f%%', shadow=True)\n",
    "plt.title('- Top 5 Countries with Most Low Income Earners -',fontsize = 25)\n",
    "plt.show()"
   ]
  },
  {
   "cell_type": "markdown",
   "metadata": {},
   "source": [
    "### Honduras has the highest number of people that are considered in the low salary range"
   ]
  },
  {
   "cell_type": "code",
   "execution_count": 46,
   "metadata": {},
   "outputs": [
    {
     "data": {
      "text/plain": [
       "Text(0.5, 1.0, '- Top 5 Countries with Most Number of High Income Earners -')"
      ]
     },
     "execution_count": 46,
     "metadata": {},
     "output_type": "execute_result"
    },
    {
     "data": {
      "image/png": "[encoded data removed]",
      "text/plain": [
       "<Figure size 1080x576 with 1 Axes>"
      ]
     },
     "metadata": {
      "needs_background": "light"
     },
     "output_type": "display_data"
    }
   ],
   "source": [
    "co = salary.groupby('salary_range')\n",
    "top5 = co['country'].value_counts().head(5)\n",
    "\n",
    "x = top5\n",
    "y = top5['high'].index.tolist()\n",
    "\n",
    "plt.figure(figsize =(15,8))\n",
    "sb.barplot(x=x,y=y,data=salary,palette='vlag')\n",
    "\n",
    "plt.xlabel('Number of People',fontsize = 15,color='blue')\n",
    "plt.ylabel('Countries',fontsize = 15,color='blue')\n",
    "plt.title('- Top 5 Countries with Most Number of High Income Earners -',fontsize = 25)"
   ]
  },
  {
   "cell_type": "markdown",
   "metadata": {},
   "source": [
    "#### Education"
   ]
  },
  {
   "cell_type": "code",
   "execution_count": 6,
   "metadata": {},
   "outputs": [
    {
     "data": {
      "image/png": "[encoded data removed]",
      "text/plain": [
       "<Figure size 432x288 with 1 Axes>"
      ]
     },
     "metadata": {
      "needs_background": "light"
     },
     "output_type": "display_data"
    }
   ],
   "source": [
    "plot = sb.countplot(salary['education'])\n",
    "plot.set_xticklabels(plot.get_xticklabels(),rotation=90)\n",
    "plt.show()"
   ]
  },
  {
   "cell_type": "markdown",
   "metadata": {},
   "source": [
    "#### Salary Range (Target)"
   ]
  },
  {
   "cell_type": "code",
   "execution_count": 4,
   "metadata": {},
   "outputs": [
    {
     "data": {
      "text/plain": [
       "[Text(0, 0, 'low'), Text(0, 0, 'high')]"
      ]
     },
     "execution_count": 4,
     "metadata": {},
     "output_type": "execute_result"
    },
    {
     "data": {
      "image/png": "[encoded data removed]",
      "text/plain": [
       "<Figure size 432x288 with 1 Axes>"
      ]
     },
     "metadata": {
      "needs_background": "light"
     },
     "output_type": "display_data"
    }
   ],
   "source": [
    "plot = sb.countplot(salary['salary_range'])\n",
    "plot.set_xticklabels(plot.get_xticklabels())"
   ]
  },
  {
   "cell_type": "markdown",
   "metadata": {},
   "source": [
    "#### Country"
   ]
  },
  {
   "cell_type": "code",
   "execution_count": 5,
   "metadata": {},
   "outputs": [
    {
     "data": {
      "image/png": "[encoded data removed]",
      "text/plain": [
       "<Figure size 432x288 with 1 Axes>"
      ]
     },
     "metadata": {
      "needs_background": "light"
     },
     "output_type": "display_data"
    }
   ],
   "source": [
    "plot = sb.countplot(salary['country'])\n",
    "plot.set_xticklabels(plot.get_xticklabels(),rotation=90)\n",
    "plt.show()"
   ]
  },
  {
   "cell_type": "markdown",
   "metadata": {},
   "source": [
    "---"
   ]
  },
  {
   "cell_type": "markdown",
   "metadata": {},
   "source": [
    "# Data Preprocessing"
   ]
  },
  {
   "cell_type": "markdown",
   "metadata": {},
   "source": [
    "### Handle Missing Data"
   ]
  },
  {
   "cell_type": "code",
   "execution_count": 50,
   "metadata": {
    "scrolled": true
   },
   "outputs": [
    {
     "data": {
      "text/plain": [
       "work_type          1836\n",
       "age                   0\n",
       "weight                0\n",
       "education             0\n",
       "education_years       9\n",
       "marital_status        0\n",
       "occupation         1843\n",
       "relationship          0\n",
       "race                  0\n",
       "sex                   0\n",
       "investment_gain       0\n",
       "investment_loss       0\n",
       "company_size          0\n",
       "weekly_hours          0\n",
       "country             583\n",
       "salary_range          0\n",
       "dtype: int64"
      ]
     },
     "execution_count": 50,
     "metadata": {},
     "output_type": "execute_result"
    }
   ],
   "source": [
    "salary.isnull().sum()"
   ]
  },
  {
   "cell_type": "code",
   "execution_count": 51,
   "metadata": {},
   "outputs": [
    {
     "name": "stdout",
     "output_type": "stream",
     "text": [
      "Original Attribute Shape: (32561, 16)\n",
      "Clean Attribute Shape: (30153, 16)\n"
     ]
    }
   ],
   "source": [
    "#Drop First - for new_salary \n",
    "import copy\n",
    "new_salary = copy.deepcopy(salary)\n",
    "new_salary.dropna(inplace = True)\n",
    "print('Original Attribute Shape:',salary.shape)\n",
    "print('Clean Attribute Shape:',new_salary.shape)"
   ]
  },
  {
   "cell_type": "markdown",
   "metadata": {},
   "source": [
    "* Result: 32561-30153 = 2408 missing values (have been removed)"
   ]
  },
  {
   "cell_type": "code",
   "execution_count": 52,
   "metadata": {
    "scrolled": false
   },
   "outputs": [
    {
     "data": {
      "text/html": [
       "<div>\n",
       "<style scoped>\n",
       "    .dataframe tbody tr th:only-of-type {\n",
       "        vertical-align: middle;\n",
       "    }\n",
       "\n",
       "    .dataframe tbody tr th {\n",
       "        vertical-align: top;\n",
       "    }\n",
       "\n",
       "    .dataframe thead th {\n",
       "        text-align: right;\n",
       "    }\n",
       "</style>\n",
       "<table border=\"1\" class=\"dataframe\">\n",
       "  <thead>\n",
       "    <tr style=\"text-align: right;\">\n",
       "      <th></th>\n",
       "      <th>work_type</th>\n",
       "      <th>age</th>\n",
       "      <th>weight</th>\n",
       "      <th>education</th>\n",
       "      <th>education_years</th>\n",
       "      <th>marital_status</th>\n",
       "      <th>occupation</th>\n",
       "      <th>relationship</th>\n",
       "      <th>race</th>\n",
       "      <th>sex</th>\n",
       "      <th>investment_gain</th>\n",
       "      <th>investment_loss</th>\n",
       "      <th>company_size</th>\n",
       "      <th>weekly_hours</th>\n",
       "      <th>country</th>\n",
       "      <th>salary_range</th>\n",
       "    </tr>\n",
       "  </thead>\n",
       "  <tbody>\n",
       "    <tr>\n",
       "      <th>0</th>\n",
       "      <td>Private</td>\n",
       "      <td>19</td>\n",
       "      <td>216804</td>\n",
       "      <td>7th-8th</td>\n",
       "      <td>4.0</td>\n",
       "      <td>Never-married</td>\n",
       "      <td>Other-service</td>\n",
       "      <td>Own-child</td>\n",
       "      <td>White</td>\n",
       "      <td>Male</td>\n",
       "      <td>0</td>\n",
       "      <td>0</td>\n",
       "      <td>825</td>\n",
       "      <td>33</td>\n",
       "      <td>United-States</td>\n",
       "      <td>low</td>\n",
       "    </tr>\n",
       "    <tr>\n",
       "      <th>1</th>\n",
       "      <td>Private</td>\n",
       "      <td>23</td>\n",
       "      <td>207546</td>\n",
       "      <td>11th</td>\n",
       "      <td>7.0</td>\n",
       "      <td>Married-civ-spouse</td>\n",
       "      <td>Machine-op-inspct</td>\n",
       "      <td>Husband</td>\n",
       "      <td>White</td>\n",
       "      <td>Male</td>\n",
       "      <td>0</td>\n",
       "      <td>0</td>\n",
       "      <td>865</td>\n",
       "      <td>40</td>\n",
       "      <td>United-States</td>\n",
       "      <td>low</td>\n",
       "    </tr>\n",
       "    <tr>\n",
       "      <th>2</th>\n",
       "      <td>Private</td>\n",
       "      <td>41</td>\n",
       "      <td>253759</td>\n",
       "      <td>HS-grad</td>\n",
       "      <td>9.0</td>\n",
       "      <td>Never-married</td>\n",
       "      <td>Sales</td>\n",
       "      <td>Unmarried</td>\n",
       "      <td>Black</td>\n",
       "      <td>Female</td>\n",
       "      <td>0</td>\n",
       "      <td>0</td>\n",
       "      <td>727</td>\n",
       "      <td>40</td>\n",
       "      <td>United-States</td>\n",
       "      <td>low</td>\n",
       "    </tr>\n",
       "    <tr>\n",
       "      <th>3</th>\n",
       "      <td>Private</td>\n",
       "      <td>28</td>\n",
       "      <td>180928</td>\n",
       "      <td>Some-college</td>\n",
       "      <td>10.0</td>\n",
       "      <td>Married-civ-spouse</td>\n",
       "      <td>Handlers-cleaners</td>\n",
       "      <td>Husband</td>\n",
       "      <td>White</td>\n",
       "      <td>Male</td>\n",
       "      <td>5013</td>\n",
       "      <td>0</td>\n",
       "      <td>328</td>\n",
       "      <td>55</td>\n",
       "      <td>United-States</td>\n",
       "      <td>low</td>\n",
       "    </tr>\n",
       "    <tr>\n",
       "      <th>4</th>\n",
       "      <td>Private</td>\n",
       "      <td>17</td>\n",
       "      <td>208463</td>\n",
       "      <td>HS-grad</td>\n",
       "      <td>9.0</td>\n",
       "      <td>Never-married</td>\n",
       "      <td>Sales</td>\n",
       "      <td>Own-child</td>\n",
       "      <td>White</td>\n",
       "      <td>Female</td>\n",
       "      <td>0</td>\n",
       "      <td>0</td>\n",
       "      <td>977</td>\n",
       "      <td>20</td>\n",
       "      <td>United-States</td>\n",
       "      <td>low</td>\n",
       "    </tr>\n",
       "    <tr>\n",
       "      <th>5</th>\n",
       "      <td>Private</td>\n",
       "      <td>73</td>\n",
       "      <td>333676</td>\n",
       "      <td>HS-grad</td>\n",
       "      <td>9.0</td>\n",
       "      <td>Married-civ-spouse</td>\n",
       "      <td>Farming-fishing</td>\n",
       "      <td>Husband</td>\n",
       "      <td>White</td>\n",
       "      <td>Male</td>\n",
       "      <td>0</td>\n",
       "      <td>0</td>\n",
       "      <td>118</td>\n",
       "      <td>50</td>\n",
       "      <td>United-States</td>\n",
       "      <td>low</td>\n",
       "    </tr>\n",
       "    <tr>\n",
       "      <th>6</th>\n",
       "      <td>Local-gov</td>\n",
       "      <td>65</td>\n",
       "      <td>24824</td>\n",
       "      <td>HS-grad</td>\n",
       "      <td>9.0</td>\n",
       "      <td>Married-civ-spouse</td>\n",
       "      <td>Craft-repair</td>\n",
       "      <td>Husband</td>\n",
       "      <td>White</td>\n",
       "      <td>Male</td>\n",
       "      <td>0</td>\n",
       "      <td>0</td>\n",
       "      <td>793</td>\n",
       "      <td>40</td>\n",
       "      <td>United-States</td>\n",
       "      <td>low</td>\n",
       "    </tr>\n",
       "    <tr>\n",
       "      <th>7</th>\n",
       "      <td>Private</td>\n",
       "      <td>37</td>\n",
       "      <td>96330</td>\n",
       "      <td>Some-college</td>\n",
       "      <td>10.0</td>\n",
       "      <td>Never-married</td>\n",
       "      <td>Exec-managerial</td>\n",
       "      <td>Unmarried</td>\n",
       "      <td>Black</td>\n",
       "      <td>Female</td>\n",
       "      <td>0</td>\n",
       "      <td>0</td>\n",
       "      <td>193</td>\n",
       "      <td>40</td>\n",
       "      <td>United-States</td>\n",
       "      <td>low</td>\n",
       "    </tr>\n",
       "    <tr>\n",
       "      <th>8</th>\n",
       "      <td>Private</td>\n",
       "      <td>53</td>\n",
       "      <td>47396</td>\n",
       "      <td>HS-grad</td>\n",
       "      <td>9.0</td>\n",
       "      <td>Married-civ-spouse</td>\n",
       "      <td>Craft-repair</td>\n",
       "      <td>Husband</td>\n",
       "      <td>White</td>\n",
       "      <td>Male</td>\n",
       "      <td>0</td>\n",
       "      <td>0</td>\n",
       "      <td>427</td>\n",
       "      <td>40</td>\n",
       "      <td>United-States</td>\n",
       "      <td>low</td>\n",
       "    </tr>\n",
       "    <tr>\n",
       "      <th>10</th>\n",
       "      <td>Local-gov</td>\n",
       "      <td>30</td>\n",
       "      <td>44566</td>\n",
       "      <td>Bachelors</td>\n",
       "      <td>13.0</td>\n",
       "      <td>Married-civ-spouse</td>\n",
       "      <td>Prof-specialty</td>\n",
       "      <td>Husband</td>\n",
       "      <td>White</td>\n",
       "      <td>Male</td>\n",
       "      <td>0</td>\n",
       "      <td>0</td>\n",
       "      <td>833</td>\n",
       "      <td>80</td>\n",
       "      <td>United-States</td>\n",
       "      <td>low</td>\n",
       "    </tr>\n",
       "  </tbody>\n",
       "</table>\n",
       "</div>"
      ],
      "text/plain": [
       "    work_type  age  weight     education  education_years      marital_status  \\\n",
       "0     Private   19  216804       7th-8th              4.0       Never-married   \n",
       "1     Private   23  207546          11th              7.0  Married-civ-spouse   \n",
       "2     Private   41  253759       HS-grad              9.0       Never-married   \n",
       "3     Private   28  180928  Some-college             10.0  Married-civ-spouse   \n",
       "4     Private   17  208463       HS-grad              9.0       Never-married   \n",
       "5     Private   73  333676       HS-grad              9.0  Married-civ-spouse   \n",
       "6   Local-gov   65   24824       HS-grad              9.0  Married-civ-spouse   \n",
       "7     Private   37   96330  Some-college             10.0       Never-married   \n",
       "8     Private   53   47396       HS-grad              9.0  Married-civ-spouse   \n",
       "10  Local-gov   30   44566     Bachelors             13.0  Married-civ-spouse   \n",
       "\n",
       "           occupation relationship   race     sex  investment_gain  \\\n",
       "0       Other-service    Own-child  White    Male                0   \n",
       "1   Machine-op-inspct      Husband  White    Male                0   \n",
       "2               Sales    Unmarried  Black  Female                0   \n",
       "3   Handlers-cleaners      Husband  White    Male             5013   \n",
       "4               Sales    Own-child  White  Female                0   \n",
       "5     Farming-fishing      Husband  White    Male                0   \n",
       "6        Craft-repair      Husband  White    Male                0   \n",
       "7     Exec-managerial    Unmarried  Black  Female                0   \n",
       "8        Craft-repair      Husband  White    Male                0   \n",
       "10     Prof-specialty      Husband  White    Male                0   \n",
       "\n",
       "    investment_loss  company_size  weekly_hours        country salary_range  \n",
       "0                 0           825            33  United-States          low  \n",
       "1                 0           865            40  United-States          low  \n",
       "2                 0           727            40  United-States          low  \n",
       "3                 0           328            55  United-States          low  \n",
       "4                 0           977            20  United-States          low  \n",
       "5                 0           118            50  United-States          low  \n",
       "6                 0           793            40  United-States          low  \n",
       "7                 0           193            40  United-States          low  \n",
       "8                 0           427            40  United-States          low  \n",
       "10                0           833            80  United-States          low  "
      ]
     },
     "execution_count": 52,
     "metadata": {},
     "output_type": "execute_result"
    }
   ],
   "source": [
    "new_salary.head(10)"
   ]
  },
  {
   "cell_type": "code",
   "execution_count": 53,
   "metadata": {
    "scrolled": false
   },
   "outputs": [
    {
     "name": "stdout",
     "output_type": "stream",
     "text": [
      "<class 'pandas.core.frame.DataFrame'>\n",
      "Int64Index: 30153 entries, 0 to 32558\n",
      "Data columns (total 16 columns):\n",
      " #   Column           Non-Null Count  Dtype  \n",
      "---  ------           --------------  -----  \n",
      " 0   work_type        30153 non-null  object \n",
      " 1   age              30153 non-null  int64  \n",
      " 2   weight           30153 non-null  int64  \n",
      " 3   education        30153 non-null  object \n",
      " 4   education_years  30153 non-null  float64\n",
      " 5   marital_status   30153 non-null  object \n",
      " 6   occupation       30153 non-null  object \n",
      " 7   relationship     30153 non-null  object \n",
      " 8   race             30153 non-null  object \n",
      " 9   sex              30153 non-null  object \n",
      " 10  investment_gain  30153 non-null  int64  \n",
      " 11  investment_loss  30153 non-null  int64  \n",
      " 12  company_size     30153 non-null  int64  \n",
      " 13  weekly_hours     30153 non-null  int64  \n",
      " 14  country          30153 non-null  object \n",
      " 15  salary_range     30153 non-null  object \n",
      "dtypes: float64(1), int64(6), object(9)\n",
      "memory usage: 3.9+ MB\n"
     ]
    }
   ],
   "source": [
    "new_salary.info()"
   ]
  },
  {
   "cell_type": "markdown",
   "metadata": {},
   "source": [
    "---"
   ]
  },
  {
   "cell_type": "markdown",
   "metadata": {},
   "source": [
    "### Remove Outlier"
   ]
  },
  {
   "cell_type": "code",
   "execution_count": 54,
   "metadata": {},
   "outputs": [
    {
     "data": {
      "text/plain": [
       "<AxesSubplot:>"
      ]
     },
     "execution_count": 54,
     "metadata": {},
     "output_type": "execute_result"
    },
    {
     "data": {
      "image/png": "[encoded data removed]",
      "text/plain": [
       "<Figure size 1440x720 with 1 Axes>"
      ]
     },
     "metadata": {
      "needs_background": "light"
     },
     "output_type": "display_data"
    }
   ],
   "source": [
    "new_salary.boxplot(figsize=(20,10))"
   ]
  },
  {
   "cell_type": "code",
   "execution_count": 55,
   "metadata": {},
   "outputs": [
    {
     "data": {
      "text/html": [
       "<div>\n",
       "<style scoped>\n",
       "    .dataframe tbody tr th:only-of-type {\n",
       "        vertical-align: middle;\n",
       "    }\n",
       "\n",
       "    .dataframe tbody tr th {\n",
       "        vertical-align: top;\n",
       "    }\n",
       "\n",
       "    .dataframe thead th {\n",
       "        text-align: right;\n",
       "    }\n",
       "</style>\n",
       "<table border=\"1\" class=\"dataframe\">\n",
       "  <thead>\n",
       "    <tr style=\"text-align: right;\">\n",
       "      <th></th>\n",
       "      <th>age</th>\n",
       "      <th>company_size</th>\n",
       "      <th>education_years</th>\n",
       "      <th>investment_gain</th>\n",
       "      <th>investment_loss</th>\n",
       "      <th>weekly_hours</th>\n",
       "      <th>weight</th>\n",
       "    </tr>\n",
       "  </thead>\n",
       "  <tbody>\n",
       "    <tr>\n",
       "      <th>count</th>\n",
       "      <td>3.015300e+04</td>\n",
       "      <td>3.015300e+04</td>\n",
       "      <td>3.015300e+04</td>\n",
       "      <td>3.015300e+04</td>\n",
       "      <td>3.015300e+04</td>\n",
       "      <td>3.015300e+04</td>\n",
       "      <td>3.015300e+04</td>\n",
       "    </tr>\n",
       "    <tr>\n",
       "      <th>mean</th>\n",
       "      <td>-1.218326e-16</td>\n",
       "      <td>-7.536247e-17</td>\n",
       "      <td>-1.572641e-16</td>\n",
       "      <td>-2.879212e-15</td>\n",
       "      <td>1.874327e-15</td>\n",
       "      <td>-7.237271e-16</td>\n",
       "      <td>-1.126092e-16</td>\n",
       "    </tr>\n",
       "    <tr>\n",
       "      <th>std</th>\n",
       "      <td>1.000000e+00</td>\n",
       "      <td>1.000000e+00</td>\n",
       "      <td>1.000000e+00</td>\n",
       "      <td>1.000000e+00</td>\n",
       "      <td>1.000000e+00</td>\n",
       "      <td>1.000000e+00</td>\n",
       "      <td>1.000000e+00</td>\n",
       "    </tr>\n",
       "    <tr>\n",
       "      <th>min</th>\n",
       "      <td>-1.632126e+00</td>\n",
       "      <td>-1.738309e+00</td>\n",
       "      <td>-3.576911e+00</td>\n",
       "      <td>-1.474647e-01</td>\n",
       "      <td>-2.185333e-01</td>\n",
       "      <td>-3.332833e+00</td>\n",
       "      <td>-1.665962e+00</td>\n",
       "    </tr>\n",
       "    <tr>\n",
       "      <th>25%</th>\n",
       "      <td>-7.946425e-01</td>\n",
       "      <td>-8.629447e-01</td>\n",
       "      <td>-4.396992e-01</td>\n",
       "      <td>-1.474647e-01</td>\n",
       "      <td>-2.185333e-01</td>\n",
       "      <td>-7.762613e-02</td>\n",
       "      <td>-6.830671e-01</td>\n",
       "    </tr>\n",
       "    <tr>\n",
       "      <th>50%</th>\n",
       "      <td>-1.094289e-01</td>\n",
       "      <td>5.416791e-03</td>\n",
       "      <td>-4.754771e-02</td>\n",
       "      <td>-1.474647e-01</td>\n",
       "      <td>-2.185333e-01</td>\n",
       "      <td>-7.762613e-02</td>\n",
       "      <td>-1.076257e-01</td>\n",
       "    </tr>\n",
       "    <tr>\n",
       "      <th>75%</th>\n",
       "      <td>6.519197e-01</td>\n",
       "      <td>8.562710e-01</td>\n",
       "      <td>1.128907e+00</td>\n",
       "      <td>-1.474647e-01</td>\n",
       "      <td>-2.185333e-01</td>\n",
       "      <td>3.397081e-01</td>\n",
       "      <td>4.527480e-01</td>\n",
       "    </tr>\n",
       "    <tr>\n",
       "      <th>max</th>\n",
       "      <td>3.925718e+00</td>\n",
       "      <td>1.745641e+00</td>\n",
       "      <td>2.305361e+00</td>\n",
       "      <td>1.335236e+01</td>\n",
       "      <td>1.055805e+01</td>\n",
       "      <td>4.846918e+00</td>\n",
       "      <td>1.225594e+01</td>\n",
       "    </tr>\n",
       "  </tbody>\n",
       "</table>\n",
       "</div>"
      ],
      "text/plain": [
       "                age  company_size  education_years  investment_gain  \\\n",
       "count  3.015300e+04  3.015300e+04     3.015300e+04     3.015300e+04   \n",
       "mean  -1.218326e-16 -7.536247e-17    -1.572641e-16    -2.879212e-15   \n",
       "std    1.000000e+00  1.000000e+00     1.000000e+00     1.000000e+00   \n",
       "min   -1.632126e+00 -1.738309e+00    -3.576911e+00    -1.474647e-01   \n",
       "25%   -7.946425e-01 -8.629447e-01    -4.396992e-01    -1.474647e-01   \n",
       "50%   -1.094289e-01  5.416791e-03    -4.754771e-02    -1.474647e-01   \n",
       "75%    6.519197e-01  8.562710e-01     1.128907e+00    -1.474647e-01   \n",
       "max    3.925718e+00  1.745641e+00     2.305361e+00     1.335236e+01   \n",
       "\n",
       "       investment_loss  weekly_hours        weight  \n",
       "count     3.015300e+04  3.015300e+04  3.015300e+04  \n",
       "mean      1.874327e-15 -7.237271e-16 -1.126092e-16  \n",
       "std       1.000000e+00  1.000000e+00  1.000000e+00  \n",
       "min      -2.185333e-01 -3.332833e+00 -1.665962e+00  \n",
       "25%      -2.185333e-01 -7.762613e-02 -6.830671e-01  \n",
       "50%      -2.185333e-01 -7.762613e-02 -1.076257e-01  \n",
       "75%      -2.185333e-01  3.397081e-01  4.527480e-01  \n",
       "max       1.055805e+01  4.846918e+00  1.225594e+01  "
      ]
     },
     "execution_count": 55,
     "metadata": {},
     "output_type": "execute_result"
    }
   ],
   "source": [
    "Z = (new_salary-new_salary.mean())/new_salary.std()\n",
    "Z.describe()"
   ]
  },
  {
   "cell_type": "code",
   "execution_count": 56,
   "metadata": {},
   "outputs": [
    {
     "data": {
      "text/html": [
       "<div>\n",
       "<style scoped>\n",
       "    .dataframe tbody tr th:only-of-type {\n",
       "        vertical-align: middle;\n",
       "    }\n",
       "\n",
       "    .dataframe tbody tr th {\n",
       "        vertical-align: top;\n",
       "    }\n",
       "\n",
       "    .dataframe thead th {\n",
       "        text-align: right;\n",
       "    }\n",
       "</style>\n",
       "<table border=\"1\" class=\"dataframe\">\n",
       "  <thead>\n",
       "    <tr style=\"text-align: right;\">\n",
       "      <th></th>\n",
       "      <th>work_type</th>\n",
       "      <th>age</th>\n",
       "      <th>weight</th>\n",
       "      <th>education</th>\n",
       "      <th>education_years</th>\n",
       "      <th>marital_status</th>\n",
       "      <th>occupation</th>\n",
       "      <th>relationship</th>\n",
       "      <th>race</th>\n",
       "      <th>sex</th>\n",
       "      <th>investment_gain</th>\n",
       "      <th>investment_loss</th>\n",
       "      <th>company_size</th>\n",
       "      <th>weekly_hours</th>\n",
       "      <th>country</th>\n",
       "      <th>salary_range</th>\n",
       "    </tr>\n",
       "  </thead>\n",
       "  <tbody>\n",
       "    <tr>\n",
       "      <th>0</th>\n",
       "      <td>Private</td>\n",
       "      <td>19</td>\n",
       "      <td>216804</td>\n",
       "      <td>7th-8th</td>\n",
       "      <td>4.0</td>\n",
       "      <td>Never-married</td>\n",
       "      <td>Other-service</td>\n",
       "      <td>Own-child</td>\n",
       "      <td>White</td>\n",
       "      <td>Male</td>\n",
       "      <td>0</td>\n",
       "      <td>0</td>\n",
       "      <td>825</td>\n",
       "      <td>33</td>\n",
       "      <td>United-States</td>\n",
       "      <td>low</td>\n",
       "    </tr>\n",
       "    <tr>\n",
       "      <th>1</th>\n",
       "      <td>Private</td>\n",
       "      <td>23</td>\n",
       "      <td>207546</td>\n",
       "      <td>11th</td>\n",
       "      <td>7.0</td>\n",
       "      <td>Married-civ-spouse</td>\n",
       "      <td>Machine-op-inspct</td>\n",
       "      <td>Husband</td>\n",
       "      <td>White</td>\n",
       "      <td>Male</td>\n",
       "      <td>0</td>\n",
       "      <td>0</td>\n",
       "      <td>865</td>\n",
       "      <td>40</td>\n",
       "      <td>United-States</td>\n",
       "      <td>low</td>\n",
       "    </tr>\n",
       "    <tr>\n",
       "      <th>2</th>\n",
       "      <td>Private</td>\n",
       "      <td>41</td>\n",
       "      <td>253759</td>\n",
       "      <td>HS-grad</td>\n",
       "      <td>9.0</td>\n",
       "      <td>Never-married</td>\n",
       "      <td>Sales</td>\n",
       "      <td>Unmarried</td>\n",
       "      <td>Black</td>\n",
       "      <td>Female</td>\n",
       "      <td>0</td>\n",
       "      <td>0</td>\n",
       "      <td>727</td>\n",
       "      <td>40</td>\n",
       "      <td>United-States</td>\n",
       "      <td>low</td>\n",
       "    </tr>\n",
       "    <tr>\n",
       "      <th>3</th>\n",
       "      <td>Private</td>\n",
       "      <td>28</td>\n",
       "      <td>180928</td>\n",
       "      <td>Some-college</td>\n",
       "      <td>10.0</td>\n",
       "      <td>Married-civ-spouse</td>\n",
       "      <td>Handlers-cleaners</td>\n",
       "      <td>Husband</td>\n",
       "      <td>White</td>\n",
       "      <td>Male</td>\n",
       "      <td>5013</td>\n",
       "      <td>0</td>\n",
       "      <td>328</td>\n",
       "      <td>55</td>\n",
       "      <td>United-States</td>\n",
       "      <td>low</td>\n",
       "    </tr>\n",
       "    <tr>\n",
       "      <th>4</th>\n",
       "      <td>Private</td>\n",
       "      <td>17</td>\n",
       "      <td>208463</td>\n",
       "      <td>HS-grad</td>\n",
       "      <td>9.0</td>\n",
       "      <td>Never-married</td>\n",
       "      <td>Sales</td>\n",
       "      <td>Own-child</td>\n",
       "      <td>White</td>\n",
       "      <td>Female</td>\n",
       "      <td>0</td>\n",
       "      <td>0</td>\n",
       "      <td>977</td>\n",
       "      <td>20</td>\n",
       "      <td>United-States</td>\n",
       "      <td>low</td>\n",
       "    </tr>\n",
       "    <tr>\n",
       "      <th>...</th>\n",
       "      <td>...</td>\n",
       "      <td>...</td>\n",
       "      <td>...</td>\n",
       "      <td>...</td>\n",
       "      <td>...</td>\n",
       "      <td>...</td>\n",
       "      <td>...</td>\n",
       "      <td>...</td>\n",
       "      <td>...</td>\n",
       "      <td>...</td>\n",
       "      <td>...</td>\n",
       "      <td>...</td>\n",
       "      <td>...</td>\n",
       "      <td>...</td>\n",
       "      <td>...</td>\n",
       "      <td>...</td>\n",
       "    </tr>\n",
       "    <tr>\n",
       "      <th>32553</th>\n",
       "      <td>Private</td>\n",
       "      <td>52</td>\n",
       "      <td>146378</td>\n",
       "      <td>HS-grad</td>\n",
       "      <td>9.0</td>\n",
       "      <td>Married-civ-spouse</td>\n",
       "      <td>Craft-repair</td>\n",
       "      <td>Husband</td>\n",
       "      <td>White</td>\n",
       "      <td>Male</td>\n",
       "      <td>0</td>\n",
       "      <td>0</td>\n",
       "      <td>940</td>\n",
       "      <td>40</td>\n",
       "      <td>United-States</td>\n",
       "      <td>high</td>\n",
       "    </tr>\n",
       "    <tr>\n",
       "      <th>32555</th>\n",
       "      <td>Private</td>\n",
       "      <td>54</td>\n",
       "      <td>210736</td>\n",
       "      <td>HS-grad</td>\n",
       "      <td>9.0</td>\n",
       "      <td>Married-civ-spouse</td>\n",
       "      <td>Craft-repair</td>\n",
       "      <td>Husband</td>\n",
       "      <td>White</td>\n",
       "      <td>Male</td>\n",
       "      <td>0</td>\n",
       "      <td>0</td>\n",
       "      <td>843</td>\n",
       "      <td>40</td>\n",
       "      <td>United-States</td>\n",
       "      <td>high</td>\n",
       "    </tr>\n",
       "    <tr>\n",
       "      <th>32556</th>\n",
       "      <td>Self-emp-not-inc</td>\n",
       "      <td>56</td>\n",
       "      <td>84774</td>\n",
       "      <td>Assoc-acdm</td>\n",
       "      <td>12.0</td>\n",
       "      <td>Married-civ-spouse</td>\n",
       "      <td>Farming-fishing</td>\n",
       "      <td>Wife</td>\n",
       "      <td>White</td>\n",
       "      <td>Female</td>\n",
       "      <td>0</td>\n",
       "      <td>0</td>\n",
       "      <td>544</td>\n",
       "      <td>40</td>\n",
       "      <td>United-States</td>\n",
       "      <td>low</td>\n",
       "    </tr>\n",
       "    <tr>\n",
       "      <th>32557</th>\n",
       "      <td>Self-emp-inc</td>\n",
       "      <td>42</td>\n",
       "      <td>50122</td>\n",
       "      <td>HS-grad</td>\n",
       "      <td>9.0</td>\n",
       "      <td>Married-civ-spouse</td>\n",
       "      <td>Sales</td>\n",
       "      <td>Husband</td>\n",
       "      <td>White</td>\n",
       "      <td>Male</td>\n",
       "      <td>0</td>\n",
       "      <td>0</td>\n",
       "      <td>596</td>\n",
       "      <td>60</td>\n",
       "      <td>United-States</td>\n",
       "      <td>low</td>\n",
       "    </tr>\n",
       "    <tr>\n",
       "      <th>32558</th>\n",
       "      <td>Private</td>\n",
       "      <td>27</td>\n",
       "      <td>660870</td>\n",
       "      <td>Bachelors</td>\n",
       "      <td>13.0</td>\n",
       "      <td>Never-married</td>\n",
       "      <td>Prof-specialty</td>\n",
       "      <td>Not-in-family</td>\n",
       "      <td>White</td>\n",
       "      <td>Female</td>\n",
       "      <td>0</td>\n",
       "      <td>0</td>\n",
       "      <td>453</td>\n",
       "      <td>60</td>\n",
       "      <td>United-States</td>\n",
       "      <td>low</td>\n",
       "    </tr>\n",
       "  </tbody>\n",
       "</table>\n",
       "<p>30153 rows × 16 columns</p>\n",
       "</div>"
      ],
      "text/plain": [
       "              work_type  age  weight     education  education_years  \\\n",
       "0               Private   19  216804       7th-8th              4.0   \n",
       "1               Private   23  207546          11th              7.0   \n",
       "2               Private   41  253759       HS-grad              9.0   \n",
       "3               Private   28  180928  Some-college             10.0   \n",
       "4               Private   17  208463       HS-grad              9.0   \n",
       "...                 ...  ...     ...           ...              ...   \n",
       "32553           Private   52  146378       HS-grad              9.0   \n",
       "32555           Private   54  210736       HS-grad              9.0   \n",
       "32556  Self-emp-not-inc   56   84774    Assoc-acdm             12.0   \n",
       "32557      Self-emp-inc   42   50122       HS-grad              9.0   \n",
       "32558           Private   27  660870     Bachelors             13.0   \n",
       "\n",
       "           marital_status         occupation   relationship   race     sex  \\\n",
       "0           Never-married      Other-service      Own-child  White    Male   \n",
       "1      Married-civ-spouse  Machine-op-inspct        Husband  White    Male   \n",
       "2           Never-married              Sales      Unmarried  Black  Female   \n",
       "3      Married-civ-spouse  Handlers-cleaners        Husband  White    Male   \n",
       "4           Never-married              Sales      Own-child  White  Female   \n",
       "...                   ...                ...            ...    ...     ...   \n",
       "32553  Married-civ-spouse       Craft-repair        Husband  White    Male   \n",
       "32555  Married-civ-spouse       Craft-repair        Husband  White    Male   \n",
       "32556  Married-civ-spouse    Farming-fishing           Wife  White  Female   \n",
       "32557  Married-civ-spouse              Sales        Husband  White    Male   \n",
       "32558       Never-married     Prof-specialty  Not-in-family  White  Female   \n",
       "\n",
       "       investment_gain  investment_loss  company_size  weekly_hours  \\\n",
       "0                    0                0           825            33   \n",
       "1                    0                0           865            40   \n",
       "2                    0                0           727            40   \n",
       "3                 5013                0           328            55   \n",
       "4                    0                0           977            20   \n",
       "...                ...              ...           ...           ...   \n",
       "32553                0                0           940            40   \n",
       "32555                0                0           843            40   \n",
       "32556                0                0           544            40   \n",
       "32557                0                0           596            60   \n",
       "32558                0                0           453            60   \n",
       "\n",
       "             country salary_range  \n",
       "0      United-States          low  \n",
       "1      United-States          low  \n",
       "2      United-States          low  \n",
       "3      United-States          low  \n",
       "4      United-States          low  \n",
       "...              ...          ...  \n",
       "32553  United-States         high  \n",
       "32555  United-States         high  \n",
       "32556  United-States          low  \n",
       "32557  United-States          low  \n",
       "32558  United-States          low  \n",
       "\n",
       "[30153 rows x 16 columns]"
      ]
     },
     "execution_count": 56,
     "metadata": {},
     "output_type": "execute_result"
    }
   ],
   "source": [
    "new_salary"
   ]
  },
  {
   "cell_type": "code",
   "execution_count": 57,
   "metadata": {},
   "outputs": [
    {
     "name": "stdout",
     "output_type": "stream",
     "text": [
      "<class 'pandas.core.frame.DataFrame'>\n",
      "Int64Index: 30153 entries, 0 to 32558\n",
      "Data columns (total 16 columns):\n",
      " #   Column           Non-Null Count  Dtype  \n",
      "---  ------           --------------  -----  \n",
      " 0   work_type        30153 non-null  object \n",
      " 1   age              30153 non-null  int64  \n",
      " 2   weight           30153 non-null  int64  \n",
      " 3   education        30153 non-null  object \n",
      " 4   education_years  30153 non-null  float64\n",
      " 5   marital_status   30153 non-null  object \n",
      " 6   occupation       30153 non-null  object \n",
      " 7   relationship     30153 non-null  object \n",
      " 8   race             30153 non-null  object \n",
      " 9   sex              30153 non-null  object \n",
      " 10  investment_gain  30153 non-null  int64  \n",
      " 11  investment_loss  30153 non-null  int64  \n",
      " 12  company_size     30153 non-null  int64  \n",
      " 13  weekly_hours     30153 non-null  int64  \n",
      " 14  country          30153 non-null  object \n",
      " 15  salary_range     30153 non-null  object \n",
      "dtypes: float64(1), int64(6), object(9)\n",
      "memory usage: 3.9+ MB\n"
     ]
    }
   ],
   "source": [
    "new_salary.info()"
   ]
  },
  {
   "cell_type": "code",
   "execution_count": 58,
   "metadata": {},
   "outputs": [
    {
     "name": "stdout",
     "output_type": "stream",
     "text": [
      "Number of rows before discarding outliers = 30153\n",
      "Number of rows after discarding outliers = 27613\n"
     ]
    }
   ],
   "source": [
    "import scipy.stats as stats\n",
    "import numpy as np\n",
    "print('Number of rows before discarding outliers = %d' % (new_salary.shape[0]))\n",
    "\n",
    "#since it can be remove the numerical attributes so we have to declare it before process\n",
    "num_attribute = ['age','weight','education_years','investment_gain','investment_loss','company_size','weekly_hours']\n",
    "z_scores = stats.zscore(new_salary[num_attribute])\n",
    "\n",
    "abs_z_scores = np.abs(z_scores)\n",
    "filtered_entries = (abs_z_scores <= 3).all(axis=1)\n",
    "new_salary1 = new_salary[filtered_entries]\n",
    "\n",
    "print('Number of rows after discarding outliers = %d' % new_salary1.shape[0])"
   ]
  },
  {
   "cell_type": "markdown",
   "metadata": {},
   "source": [
    "### Check Duplicate"
   ]
  },
  {
   "cell_type": "code",
   "execution_count": 59,
   "metadata": {
    "scrolled": true
   },
   "outputs": [
    {
     "name": "stdout",
     "output_type": "stream",
     "text": [
      "Number of duplicate rows = 0\n"
     ]
    }
   ],
   "source": [
    "dups = new_salary1.duplicated()\n",
    "print('Number of duplicate rows = %d' % (dups.sum()))"
   ]
  },
  {
   "cell_type": "markdown",
   "metadata": {},
   "source": [
    "*There is no any duplicate data*\n",
    "\n",
    "---"
   ]
  },
  {
   "cell_type": "markdown",
   "metadata": {},
   "source": [
    "### Separate output vector from input matrix "
   ]
  },
  {
   "cell_type": "code",
   "execution_count": 60,
   "metadata": {},
   "outputs": [
    {
     "data": {
      "text/html": [
       "<div>\n",
       "<style scoped>\n",
       "    .dataframe tbody tr th:only-of-type {\n",
       "        vertical-align: middle;\n",
       "    }\n",
       "\n",
       "    .dataframe tbody tr th {\n",
       "        vertical-align: top;\n",
       "    }\n",
       "\n",
       "    .dataframe thead th {\n",
       "        text-align: right;\n",
       "    }\n",
       "</style>\n",
       "<table border=\"1\" class=\"dataframe\">\n",
       "  <thead>\n",
       "    <tr style=\"text-align: right;\">\n",
       "      <th></th>\n",
       "      <th>work_type</th>\n",
       "      <th>age</th>\n",
       "      <th>weight</th>\n",
       "      <th>education</th>\n",
       "      <th>education_years</th>\n",
       "      <th>marital_status</th>\n",
       "      <th>occupation</th>\n",
       "      <th>relationship</th>\n",
       "      <th>race</th>\n",
       "      <th>sex</th>\n",
       "      <th>investment_gain</th>\n",
       "      <th>investment_loss</th>\n",
       "      <th>company_size</th>\n",
       "      <th>weekly_hours</th>\n",
       "      <th>country</th>\n",
       "      <th>salary_range</th>\n",
       "    </tr>\n",
       "  </thead>\n",
       "  <tbody>\n",
       "    <tr>\n",
       "      <th>0</th>\n",
       "      <td>Private</td>\n",
       "      <td>19</td>\n",
       "      <td>216804</td>\n",
       "      <td>7th-8th</td>\n",
       "      <td>4.0</td>\n",
       "      <td>Never-married</td>\n",
       "      <td>Other-service</td>\n",
       "      <td>Own-child</td>\n",
       "      <td>White</td>\n",
       "      <td>Male</td>\n",
       "      <td>0</td>\n",
       "      <td>0</td>\n",
       "      <td>825</td>\n",
       "      <td>33</td>\n",
       "      <td>United-States</td>\n",
       "      <td>low</td>\n",
       "    </tr>\n",
       "    <tr>\n",
       "      <th>1</th>\n",
       "      <td>Private</td>\n",
       "      <td>23</td>\n",
       "      <td>207546</td>\n",
       "      <td>11th</td>\n",
       "      <td>7.0</td>\n",
       "      <td>Married-civ-spouse</td>\n",
       "      <td>Machine-op-inspct</td>\n",
       "      <td>Husband</td>\n",
       "      <td>White</td>\n",
       "      <td>Male</td>\n",
       "      <td>0</td>\n",
       "      <td>0</td>\n",
       "      <td>865</td>\n",
       "      <td>40</td>\n",
       "      <td>United-States</td>\n",
       "      <td>low</td>\n",
       "    </tr>\n",
       "    <tr>\n",
       "      <th>2</th>\n",
       "      <td>Private</td>\n",
       "      <td>41</td>\n",
       "      <td>253759</td>\n",
       "      <td>HS-grad</td>\n",
       "      <td>9.0</td>\n",
       "      <td>Never-married</td>\n",
       "      <td>Sales</td>\n",
       "      <td>Unmarried</td>\n",
       "      <td>Black</td>\n",
       "      <td>Female</td>\n",
       "      <td>0</td>\n",
       "      <td>0</td>\n",
       "      <td>727</td>\n",
       "      <td>40</td>\n",
       "      <td>United-States</td>\n",
       "      <td>low</td>\n",
       "    </tr>\n",
       "    <tr>\n",
       "      <th>3</th>\n",
       "      <td>Private</td>\n",
       "      <td>28</td>\n",
       "      <td>180928</td>\n",
       "      <td>Some-college</td>\n",
       "      <td>10.0</td>\n",
       "      <td>Married-civ-spouse</td>\n",
       "      <td>Handlers-cleaners</td>\n",
       "      <td>Husband</td>\n",
       "      <td>White</td>\n",
       "      <td>Male</td>\n",
       "      <td>5013</td>\n",
       "      <td>0</td>\n",
       "      <td>328</td>\n",
       "      <td>55</td>\n",
       "      <td>United-States</td>\n",
       "      <td>low</td>\n",
       "    </tr>\n",
       "    <tr>\n",
       "      <th>4</th>\n",
       "      <td>Private</td>\n",
       "      <td>17</td>\n",
       "      <td>208463</td>\n",
       "      <td>HS-grad</td>\n",
       "      <td>9.0</td>\n",
       "      <td>Never-married</td>\n",
       "      <td>Sales</td>\n",
       "      <td>Own-child</td>\n",
       "      <td>White</td>\n",
       "      <td>Female</td>\n",
       "      <td>0</td>\n",
       "      <td>0</td>\n",
       "      <td>977</td>\n",
       "      <td>20</td>\n",
       "      <td>United-States</td>\n",
       "      <td>low</td>\n",
       "    </tr>\n",
       "    <tr>\n",
       "      <th>...</th>\n",
       "      <td>...</td>\n",
       "      <td>...</td>\n",
       "      <td>...</td>\n",
       "      <td>...</td>\n",
       "      <td>...</td>\n",
       "      <td>...</td>\n",
       "      <td>...</td>\n",
       "      <td>...</td>\n",
       "      <td>...</td>\n",
       "      <td>...</td>\n",
       "      <td>...</td>\n",
       "      <td>...</td>\n",
       "      <td>...</td>\n",
       "      <td>...</td>\n",
       "      <td>...</td>\n",
       "      <td>...</td>\n",
       "    </tr>\n",
       "    <tr>\n",
       "      <th>32552</th>\n",
       "      <td>Local-gov</td>\n",
       "      <td>40</td>\n",
       "      <td>26929</td>\n",
       "      <td>Masters</td>\n",
       "      <td>14.0</td>\n",
       "      <td>Never-married</td>\n",
       "      <td>Prof-specialty</td>\n",
       "      <td>Not-in-family</td>\n",
       "      <td>White</td>\n",
       "      <td>Female</td>\n",
       "      <td>0</td>\n",
       "      <td>0</td>\n",
       "      <td>796</td>\n",
       "      <td>40</td>\n",
       "      <td>United-States</td>\n",
       "      <td>low</td>\n",
       "    </tr>\n",
       "    <tr>\n",
       "      <th>32553</th>\n",
       "      <td>Private</td>\n",
       "      <td>52</td>\n",
       "      <td>146378</td>\n",
       "      <td>HS-grad</td>\n",
       "      <td>9.0</td>\n",
       "      <td>Married-civ-spouse</td>\n",
       "      <td>Craft-repair</td>\n",
       "      <td>Husband</td>\n",
       "      <td>White</td>\n",
       "      <td>Male</td>\n",
       "      <td>0</td>\n",
       "      <td>0</td>\n",
       "      <td>940</td>\n",
       "      <td>40</td>\n",
       "      <td>United-States</td>\n",
       "      <td>high</td>\n",
       "    </tr>\n",
       "    <tr>\n",
       "      <th>32555</th>\n",
       "      <td>Private</td>\n",
       "      <td>54</td>\n",
       "      <td>210736</td>\n",
       "      <td>HS-grad</td>\n",
       "      <td>9.0</td>\n",
       "      <td>Married-civ-spouse</td>\n",
       "      <td>Craft-repair</td>\n",
       "      <td>Husband</td>\n",
       "      <td>White</td>\n",
       "      <td>Male</td>\n",
       "      <td>0</td>\n",
       "      <td>0</td>\n",
       "      <td>843</td>\n",
       "      <td>40</td>\n",
       "      <td>United-States</td>\n",
       "      <td>high</td>\n",
       "    </tr>\n",
       "    <tr>\n",
       "      <th>32556</th>\n",
       "      <td>Self-emp-not-inc</td>\n",
       "      <td>56</td>\n",
       "      <td>84774</td>\n",
       "      <td>Assoc-acdm</td>\n",
       "      <td>12.0</td>\n",
       "      <td>Married-civ-spouse</td>\n",
       "      <td>Farming-fishing</td>\n",
       "      <td>Wife</td>\n",
       "      <td>White</td>\n",
       "      <td>Female</td>\n",
       "      <td>0</td>\n",
       "      <td>0</td>\n",
       "      <td>544</td>\n",
       "      <td>40</td>\n",
       "      <td>United-States</td>\n",
       "      <td>low</td>\n",
       "    </tr>\n",
       "    <tr>\n",
       "      <th>32557</th>\n",
       "      <td>Self-emp-inc</td>\n",
       "      <td>42</td>\n",
       "      <td>50122</td>\n",
       "      <td>HS-grad</td>\n",
       "      <td>9.0</td>\n",
       "      <td>Married-civ-spouse</td>\n",
       "      <td>Sales</td>\n",
       "      <td>Husband</td>\n",
       "      <td>White</td>\n",
       "      <td>Male</td>\n",
       "      <td>0</td>\n",
       "      <td>0</td>\n",
       "      <td>596</td>\n",
       "      <td>60</td>\n",
       "      <td>United-States</td>\n",
       "      <td>low</td>\n",
       "    </tr>\n",
       "  </tbody>\n",
       "</table>\n",
       "<p>27613 rows × 16 columns</p>\n",
       "</div>"
      ],
      "text/plain": [
       "              work_type  age  weight     education  education_years  \\\n",
       "0               Private   19  216804       7th-8th              4.0   \n",
       "1               Private   23  207546          11th              7.0   \n",
       "2               Private   41  253759       HS-grad              9.0   \n",
       "3               Private   28  180928  Some-college             10.0   \n",
       "4               Private   17  208463       HS-grad              9.0   \n",
       "...                 ...  ...     ...           ...              ...   \n",
       "32552         Local-gov   40   26929       Masters             14.0   \n",
       "32553           Private   52  146378       HS-grad              9.0   \n",
       "32555           Private   54  210736       HS-grad              9.0   \n",
       "32556  Self-emp-not-inc   56   84774    Assoc-acdm             12.0   \n",
       "32557      Self-emp-inc   42   50122       HS-grad              9.0   \n",
       "\n",
       "           marital_status         occupation   relationship   race     sex  \\\n",
       "0           Never-married      Other-service      Own-child  White    Male   \n",
       "1      Married-civ-spouse  Machine-op-inspct        Husband  White    Male   \n",
       "2           Never-married              Sales      Unmarried  Black  Female   \n",
       "3      Married-civ-spouse  Handlers-cleaners        Husband  White    Male   \n",
       "4           Never-married              Sales      Own-child  White  Female   \n",
       "...                   ...                ...            ...    ...     ...   \n",
       "32552       Never-married     Prof-specialty  Not-in-family  White  Female   \n",
       "32553  Married-civ-spouse       Craft-repair        Husband  White    Male   \n",
       "32555  Married-civ-spouse       Craft-repair        Husband  White    Male   \n",
       "32556  Married-civ-spouse    Farming-fishing           Wife  White  Female   \n",
       "32557  Married-civ-spouse              Sales        Husband  White    Male   \n",
       "\n",
       "       investment_gain  investment_loss  company_size  weekly_hours  \\\n",
       "0                    0                0           825            33   \n",
       "1                    0                0           865            40   \n",
       "2                    0                0           727            40   \n",
       "3                 5013                0           328            55   \n",
       "4                    0                0           977            20   \n",
       "...                ...              ...           ...           ...   \n",
       "32552                0                0           796            40   \n",
       "32553                0                0           940            40   \n",
       "32555                0                0           843            40   \n",
       "32556                0                0           544            40   \n",
       "32557                0                0           596            60   \n",
       "\n",
       "             country salary_range  \n",
       "0      United-States          low  \n",
       "1      United-States          low  \n",
       "2      United-States          low  \n",
       "3      United-States          low  \n",
       "4      United-States          low  \n",
       "...              ...          ...  \n",
       "32552  United-States          low  \n",
       "32553  United-States         high  \n",
       "32555  United-States         high  \n",
       "32556  United-States          low  \n",
       "32557  United-States          low  \n",
       "\n",
       "[27613 rows x 16 columns]"
      ]
     },
     "execution_count": 60,
     "metadata": {},
     "output_type": "execute_result"
    }
   ],
   "source": [
    "new_salary1"
   ]
  },
  {
   "cell_type": "code",
   "execution_count": 61,
   "metadata": {},
   "outputs": [
    {
     "name": "stderr",
     "output_type": "stream",
     "text": [
      "<ipython-input-61-c0b1cbdd65ef>:5: SettingWithCopyWarning: \n",
      "A value is trying to be set on a copy of a slice from a DataFrame.\n",
      "Try using .loc[row_indexer,col_indexer] = value instead\n",
      "\n",
      "See the caveats in the documentation: https://pandas.pydata.org/pandas-docs/stable/user_guide/indexing.html#returning-a-view-versus-a-copy\n",
      "  new_salary1['salary_range'] = [1 if x=='high' else 0 for x in new_salary1['salary_range']]\n"
     ]
    }
   ],
   "source": [
    "#Drop targeted variable from the matrix X as the input matrix Y \n",
    "X = new_salary1.drop('salary_range', axis = 1)\n",
    "\n",
    "#Convert the target attribute's value into boolean type (easy when process, since it only has \"high\" and \"low\")\n",
    "new_salary1['salary_range'] = [1 if x=='high' else 0 for x in new_salary1['salary_range']]\n",
    "y = new_salary1['salary_range']"
   ]
  },
  {
   "cell_type": "code",
   "execution_count": 62,
   "metadata": {},
   "outputs": [
    {
     "name": "stdout",
     "output_type": "stream",
     "text": [
      "Shape original dataFrame (27613, 16)\n",
      "X shape (27613, 15) type =  <class 'pandas.core.frame.DataFrame'>\n",
      "Y shape (27613,) type =  <class 'pandas.core.series.Series'>\n"
     ]
    }
   ],
   "source": [
    "#Show the shape and type class of the dataFrame for matrix X and Y\n",
    "print(\"Shape original dataFrame\", new_salary1.shape)\n",
    "print(\"X shape\",  X.shape, \"type = \", type(X))\n",
    "print(\"Y shape\",  y.shape, \"type = \", type(y))"
   ]
  },
  {
   "cell_type": "markdown",
   "metadata": {},
   "source": [
    "### Split the Dataset - Training, Testing"
   ]
  },
  {
   "cell_type": "code",
   "execution_count": 63,
   "metadata": {
    "scrolled": true
   },
   "outputs": [],
   "source": [
    "#Load the python library - sklearn  \n",
    "from sklearn.model_selection import train_test_split\n",
    "\n",
    "#Split dataset into train and test set\n",
    "X_train, X_test, y_train, y_test = train_test_split(X, y, test_size=0.2, random_state=30)"
   ]
  },
  {
   "cell_type": "markdown",
   "metadata": {},
   "source": [
    "### Split the input matrix - numerical and categorical sets"
   ]
  },
  {
   "cell_type": "code",
   "execution_count": 64,
   "metadata": {},
   "outputs": [],
   "source": [
    "cat_attribute = ['work_type','education', 'marital_status', 'occupation', 'relationship','race','sex','country']\n",
    "X_train_num = X_train.drop(cat_attribute, axis = 1)\n",
    "X_train_cat = X_train[cat_attribute]"
   ]
  },
  {
   "cell_type": "markdown",
   "metadata": {},
   "source": [
    "### Standardize numeric data"
   ]
  },
  {
   "cell_type": "code",
   "execution_count": 65,
   "metadata": {},
   "outputs": [],
   "source": [
    "from sklearn.preprocessing import StandardScaler\n",
    "scaler = StandardScaler(copy = False)\n",
    "scaler.fit(X_train_num)       \n",
    "X_train_num_tr = scaler.transform(X_train_num)"
   ]
  },
  {
   "cell_type": "code",
   "execution_count": 66,
   "metadata": {},
   "outputs": [
    {
     "name": "stdout",
     "output_type": "stream",
     "text": [
      "Mean:\n",
      " [ 1.18048522e-16 -5.27519279e-17 -7.88062337e-18  4.93745179e-17\n",
      "  2.57326477e-18 -3.34524421e-17 -3.69906811e-17]\n",
      "\n",
      "Standard Deviation:\n",
      " [1. 1. 1. 1. 1. 1. 1.]\n"
     ]
    }
   ],
   "source": [
    "print('Mean:\\n',X_train_num_tr.mean (axis=0))\n",
    "print('\\nStandard Deviation:\\n',X_train_num_tr.std (axis=0))"
   ]
  },
  {
   "cell_type": "code",
   "execution_count": 67,
   "metadata": {},
   "outputs": [
    {
     "data": {
      "text/plain": [
       "array([[-0.00299268,  0.16173441, -0.45958199, ..., -0.03712353,\n",
       "        -0.26518422,  1.81954084],\n",
       "       [ 0.54142947,  0.41933834,  1.18749425, ..., -0.03712353,\n",
       "        -1.69861319,  0.89248625],\n",
       "       [-0.62518943,  1.65268294, -0.04781293, ..., -0.03712353,\n",
       "        -1.48482549, -0.03456835],\n",
       "       ...,\n",
       "       [-0.85851321, -1.07365442, -0.45958199, ..., -0.03712353,\n",
       "         0.4918345 ,  1.81954084],\n",
       "       [ 1.94137214, -1.65814344,  1.59926331, ..., -0.03712353,\n",
       "         1.12618814, -0.03456835],\n",
       "       [-1.0140624 ,  0.18722895, -0.04781293, ..., -0.03712353,\n",
       "         1.51170694, -0.03456835]])"
      ]
     },
     "execution_count": 67,
     "metadata": {},
     "output_type": "execute_result"
    }
   ],
   "source": [
    "X_train_num_tr  #transformed into ndArray"
   ]
  },
  {
   "cell_type": "markdown",
   "metadata": {},
   "source": [
    "### One-hot encode categorical data"
   ]
  },
  {
   "cell_type": "code",
   "execution_count": 68,
   "metadata": {},
   "outputs": [
    {
     "name": "stdout",
     "output_type": "stream",
     "text": [
      "<class 'pandas.core.frame.DataFrame'>\n",
      "Int64Index: 22090 entries, 7281 to 6961\n",
      "Data columns (total 8 columns):\n",
      " #   Column          Non-Null Count  Dtype \n",
      "---  ------          --------------  ----- \n",
      " 0   work_type       22090 non-null  object\n",
      " 1   education       22090 non-null  object\n",
      " 2   marital_status  22090 non-null  object\n",
      " 3   occupation      22090 non-null  object\n",
      " 4   relationship    22090 non-null  object\n",
      " 5   race            22090 non-null  object\n",
      " 6   sex             22090 non-null  object\n",
      " 7   country         22090 non-null  object\n",
      "dtypes: object(8)\n",
      "memory usage: 1.5+ MB\n"
     ]
    }
   ],
   "source": [
    "X_train_cat.info()"
   ]
  },
  {
   "cell_type": "code",
   "execution_count": 69,
   "metadata": {},
   "outputs": [],
   "source": [
    "#Seperate each of the Categorical Attribute for One Hot Encoding\n",
    "X_train_cat1=X_train_cat.work_type\n",
    "X_train_cat2=X_train_cat.education\n",
    "X_train_cat3=X_train_cat.marital_status\n",
    "X_train_cat4=X_train_cat.occupation\n",
    "X_train_cat5=X_train_cat.relationship\n",
    "X_train_cat6=X_train_cat.race\n",
    "X_train_cat7=X_train_cat.sex\n",
    "X_train_cat8=X_train_cat.country"
   ]
  },
  {
   "cell_type": "code",
   "execution_count": 70,
   "metadata": {},
   "outputs": [],
   "source": [
    "#One hot Encoding for Training Set\n",
    "from sklearn.preprocessing import LabelBinarizer\n",
    "\n",
    "\n",
    "#FIXME!:Convert These to Loops!\n",
    "\n",
    "#Instantaneous the LabelBinarizer Object for each Category\n",
    "lb_encoder=LabelBinarizer()\n",
    "cat1_encoder=LabelBinarizer()\n",
    "cat2_encoder=LabelBinarizer()\n",
    "cat3_encoder=LabelBinarizer()\n",
    "cat4_encoder=LabelBinarizer()\n",
    "cat5_encoder=LabelBinarizer()\n",
    "cat6_encoder=LabelBinarizer()\n",
    "cat7_encoder=LabelBinarizer()\n",
    "cat8_encoder=LabelBinarizer()\n",
    "\n",
    "#Create the Label Binarizer Encoder based on Training Set Values\n",
    "cat1_encoder.fit(X_train_cat1)\n",
    "cat2_encoder.fit(X_train_cat2)\n",
    "cat3_encoder.fit(X_train_cat3)\n",
    "cat4_encoder.fit(X_train_cat4)\n",
    "cat5_encoder.fit(X_train_cat5)\n",
    "cat6_encoder.fit(X_train_cat6)\n",
    "cat7_encoder.fit(X_train_cat7)\n",
    "cat8_encoder.fit(X_train_cat8)\n",
    "\n",
    "#Return the One Hot Encoded value as another Variable\n",
    "X_train_cat_1=cat1_encoder.transform(X_train_cat1)\n",
    "X_train_cat_2=cat2_encoder.transform(X_train_cat2)\n",
    "X_train_cat_3=cat3_encoder.transform(X_train_cat3)\n",
    "X_train_cat_4=cat4_encoder.transform(X_train_cat4)\n",
    "X_train_cat_5=cat5_encoder.transform(X_train_cat5)\n",
    "X_train_cat_6=cat6_encoder.transform(X_train_cat6)\n",
    "X_train_cat_7=cat7_encoder.transform(X_train_cat7)\n",
    "X_train_cat_8=cat8_encoder.transform(X_train_cat8)"
   ]
  },
  {
   "cell_type": "code",
   "execution_count": 71,
   "metadata": {},
   "outputs": [
    {
     "name": "stdout",
     "output_type": "stream",
     "text": [
      "These are the number of different values per category\n",
      "(22090, 7)\n",
      "(22090, 14)\n",
      "(22090, 7)\n",
      "(22090, 14)\n",
      "(22090, 6)\n",
      "(22090, 5)\n",
      "(22090, 1)\n",
      "(22090, 40)\n"
     ]
    }
   ],
   "source": [
    "print(\"These are the number of different values per category\")\n",
    "print(X_train_cat_1.shape)\n",
    "print(X_train_cat_2.shape)\n",
    "print(X_train_cat_3.shape)\n",
    "print(X_train_cat_4.shape)\n",
    "print(X_train_cat_5.shape)\n",
    "print(X_train_cat_6.shape)\n",
    "print(X_train_cat_7.shape)\n",
    "print(X_train_cat_8.shape)"
   ]
  },
  {
   "cell_type": "code",
   "execution_count": 72,
   "metadata": {},
   "outputs": [
    {
     "data": {
      "text/plain": [
       "(22090, 94)"
      ]
     },
     "execution_count": 72,
     "metadata": {},
     "output_type": "execute_result"
    }
   ],
   "source": [
    "#Combine all One Hot Encoded Category Lable in to one Numpy Array\n",
    "combine=np.hstack((X_train_cat_1,X_train_cat_2,X_train_cat_3,X_train_cat_4,X_train_cat_5,X_train_cat_6,X_train_cat_7,X_train_cat_8))\n",
    "combine.shape"
   ]
  },
  {
   "cell_type": "code",
   "execution_count": 73,
   "metadata": {},
   "outputs": [
    {
     "name": "stdout",
     "output_type": "stream",
     "text": [
      "(22090, 101)\n",
      "(22090,)\n"
     ]
    }
   ],
   "source": [
    "#Combine Categorical and Numerical Data Together for Training Set\n",
    "\n",
    "#Original Traning Set\n",
    "X_train_tr=np.hstack((X_train_num,combine))\n",
    "\n",
    "print(X_train_tr.shape)          #Severly Inflate the Attribute Count\n",
    "\n",
    "#Make sure the Samples are the same for X and y!\n",
    "print(y_train.shape)"
   ]
  },
  {
   "cell_type": "code",
   "execution_count": 74,
   "metadata": {
    "scrolled": false
   },
   "outputs": [
    {
     "data": {
      "text/plain": [
       "0    16966\n",
       "1     5124\n",
       "Name: salary_range, dtype: int64"
      ]
     },
     "execution_count": 74,
     "metadata": {},
     "output_type": "execute_result"
    }
   ],
   "source": [
    "y_train.value_counts()"
   ]
  },
  {
   "cell_type": "markdown",
   "metadata": {},
   "source": [
    "*Observation: May cause Imbalanced Class result"
   ]
  },
  {
   "cell_type": "markdown",
   "metadata": {},
   "source": [
    "## Preprocessing on Test set"
   ]
  },
  {
   "cell_type": "markdown",
   "metadata": {},
   "source": [
    "*The preprocessing steps are almost same with training set"
   ]
  },
  {
   "cell_type": "code",
   "execution_count": 75,
   "metadata": {},
   "outputs": [
    {
     "name": "stdout",
     "output_type": "stream",
     "text": [
      "(5523, 7)\n",
      "(5523, 8)\n"
     ]
    }
   ],
   "source": [
    "#Seperate Numerical and Categorical Data for Processing\n",
    "cat_attribute = ['work_type','education', 'marital_status', 'occupation', 'relationship','race','sex','country']\n",
    "X_test_num = X_test.drop(cat_attribute, axis = 1)\n",
    "X_test_cat = X_test[cat_attribute]\n",
    "print(X_test_num.shape)\n",
    "print(X_test_cat.shape)"
   ]
  },
  {
   "cell_type": "markdown",
   "metadata": {},
   "source": [
    "### Standardize on Test Set "
   ]
  },
  {
   "cell_type": "code",
   "execution_count": 76,
   "metadata": {},
   "outputs": [],
   "source": [
    "from sklearn.preprocessing import StandardScaler\n",
    "scaler = StandardScaler(copy = False)\n",
    "scaler.fit(X_test_num)       \n",
    "X_test_num_tr = scaler.transform(X_test_num)"
   ]
  },
  {
   "cell_type": "code",
   "execution_count": 77,
   "metadata": {},
   "outputs": [
    {
     "name": "stdout",
     "output_type": "stream",
     "text": [
      "Mean:\n",
      " [ 1.13535029e-16  4.76010886e-17  6.68988272e-17 -2.57303182e-17\n",
      "  1.02921273e-17 -6.17527636e-17  1.19645979e-16]\n",
      "\n",
      "Standard Deviation:\n",
      " [1. 1. 1. 1. 1. 1. 1.]\n"
     ]
    },
    {
     "data": {
      "text/plain": [
       "array([[ 0.70371022, -0.32711859, -0.45880732, ..., -0.03989615,\n",
       "         0.64285778, -0.50706923],\n",
       "       [-0.85469774, -0.02614861,  0.36165336, ..., -0.03989615,\n",
       "        -0.87535767, -0.03812359],\n",
       "       [ 1.249153  , -0.49738275, -0.45880732, ..., -0.03989615,\n",
       "        -0.80223261, -0.03812359],\n",
       "       ...,\n",
       "       [ 1.1712326 , -1.08641752,  1.18211405, ..., -0.03989615,\n",
       "         1.1338403 , -1.82011703],\n",
       "       [-0.54301615, -0.29990708, -0.04857698, ..., -0.03989615,\n",
       "        -1.05642924, -0.50706923],\n",
       "       [-0.15341416, -0.15372558, -0.45880732, ..., -0.03989615,\n",
       "         0.81000077, -0.03812359]])"
      ]
     },
     "execution_count": 77,
     "metadata": {},
     "output_type": "execute_result"
    }
   ],
   "source": [
    "print('Mean:\\n',X_test_num_tr.mean (axis=0))\n",
    "print('\\nStandard Deviation:\\n',X_test_num_tr.std (axis=0))\n",
    "X_test_num_tr  #transformed into ndArray"
   ]
  },
  {
   "cell_type": "markdown",
   "metadata": {},
   "source": [
    "### One Hot Encoding on Test Set"
   ]
  },
  {
   "cell_type": "code",
   "execution_count": 78,
   "metadata": {},
   "outputs": [],
   "source": [
    "#Seperate each of the Categorical Attribute for One Hot Encoding\n",
    "X_test_cat1=X_test_cat.work_type\n",
    "X_test_cat2=X_test_cat.education\n",
    "X_test_cat3=X_test_cat.marital_status\n",
    "X_test_cat4=X_test_cat.occupation\n",
    "X_test_cat5=X_test_cat.relationship\n",
    "X_test_cat6=X_test_cat.race\n",
    "X_test_cat7=X_test_cat.sex\n",
    "X_test_cat8=X_test_cat.country"
   ]
  },
  {
   "cell_type": "code",
   "execution_count": 79,
   "metadata": {},
   "outputs": [],
   "source": [
    "#One hot Encoding for Testing Set\n",
    "from sklearn.preprocessing import LabelBinarizer\n",
    "\n",
    "#Instantaneous the LabelBinarizer Object for each Category\n",
    "lb_encoder=LabelBinarizer()\n",
    "cat1_encoder=LabelBinarizer()\n",
    "cat2_encoder=LabelBinarizer()\n",
    "cat3_encoder=LabelBinarizer()\n",
    "cat4_encoder=LabelBinarizer()\n",
    "cat5_encoder=LabelBinarizer()\n",
    "cat6_encoder=LabelBinarizer()\n",
    "cat7_encoder=LabelBinarizer()\n",
    "cat8_encoder=LabelBinarizer()\n",
    "\n",
    "#Create the Label Binarizer Encoder based on Testing Set Values\n",
    "cat1_encoder.fit(X_test_cat1)\n",
    "cat2_encoder.fit(X_test_cat2)\n",
    "cat3_encoder.fit(X_test_cat3)\n",
    "cat4_encoder.fit(X_test_cat4)\n",
    "cat5_encoder.fit(X_test_cat5)\n",
    "cat6_encoder.fit(X_test_cat6)\n",
    "cat7_encoder.fit(X_test_cat7)\n",
    "cat8_encoder.fit(X_test_cat8)\n",
    "\n",
    "#Return the One Hot Encoded value as another Variable\n",
    "X_test_cat_1=cat1_encoder.transform(X_test_cat1)\n",
    "X_test_cat_2=cat2_encoder.transform(X_test_cat2)\n",
    "X_test_cat_3=cat3_encoder.transform(X_test_cat3)\n",
    "X_test_cat_4=cat4_encoder.transform(X_test_cat4)\n",
    "X_test_cat_5=cat5_encoder.transform(X_test_cat5)\n",
    "X_test_cat_6=cat6_encoder.transform(X_test_cat6)\n",
    "X_test_cat_7=cat7_encoder.transform(X_test_cat7)\n",
    "X_test_cat_8=cat8_encoder.transform(X_test_cat8)"
   ]
  },
  {
   "cell_type": "code",
   "execution_count": 80,
   "metadata": {},
   "outputs": [
    {
     "name": "stdout",
     "output_type": "stream",
     "text": [
      "These are the number of different values per category\n",
      "(5523, 7)\n",
      "(5523, 14)\n",
      "(5523, 7)\n",
      "(5523, 14)\n",
      "(5523, 6)\n",
      "(5523, 5)\n",
      "(5523, 1)\n",
      "(5523, 38)\n"
     ]
    }
   ],
   "source": [
    "print(\"These are the number of different values per category\")\n",
    "print(X_test_cat_1.shape)\n",
    "print(X_test_cat_2.shape)\n",
    "print(X_test_cat_3.shape)\n",
    "print(X_test_cat_4.shape)\n",
    "print(X_test_cat_5.shape)\n",
    "print(X_test_cat_6.shape)\n",
    "print(X_test_cat_7.shape)\n",
    "print(X_test_cat_8.shape)"
   ]
  },
  {
   "cell_type": "code",
   "execution_count": 81,
   "metadata": {},
   "outputs": [
    {
     "data": {
      "text/plain": [
       "(5523, 92)"
      ]
     },
     "execution_count": 81,
     "metadata": {},
     "output_type": "execute_result"
    }
   ],
   "source": [
    "#Combine all One Hot Encoded Category Lable in to one Numpy Array\n",
    "combine_test=np.hstack((X_test_cat_1,X_test_cat_2,X_test_cat_3,X_test_cat_4,X_test_cat_5,X_test_cat_6,X_test_cat_7,X_test_cat_8))\n",
    "combine_test.shape"
   ]
  },
  {
   "cell_type": "markdown",
   "metadata": {},
   "source": [
    "### Finalize Test Set"
   ]
  },
  {
   "cell_type": "code",
   "execution_count": 82,
   "metadata": {},
   "outputs": [
    {
     "name": "stdout",
     "output_type": "stream",
     "text": [
      "(5523, 99)\n",
      "(5523,)\n"
     ]
    }
   ],
   "source": [
    "#Combine Categorical and Numerical Data Together for Testing Dataset\n",
    "X_test_tr=np.hstack((X_test_num,combine_test))\n",
    "#X_test_tr_std=np.hstack((X_test_num_std,combine_test))\n",
    "\n",
    "print(X_test_tr.shape) \n",
    "print(y_test.shape)        #Make Sure the Sample Count on Both are the Same"
   ]
  },
  {
   "cell_type": "code",
   "execution_count": 83,
   "metadata": {
    "scrolled": true
   },
   "outputs": [
    {
     "name": "stdout",
     "output_type": "stream",
     "text": [
      "Just the Summarize and Check,These are the information per array\n",
      "\n",
      "Original Dataset\n",
      "Salary (27613, 16)\n",
      "\n",
      "Preprocessed and Combined Training Set\n",
      "\n",
      "X_train_tr (22090, 101)\n",
      "y_train (22090,)\n",
      "\n",
      "Preprocessed and Combined Testing Set\n",
      "X_test_tr (5523, 99)\n",
      "y_test (5523,)\n",
      "\n",
      "Note: Make sure both X,Y have same No. of sample and Train/Test have same number of attribute\n"
     ]
    }
   ],
   "source": [
    "print(\"Just the Summarize and Check,These are the information per array\")\n",
    "print('\\nOriginal Dataset')\n",
    "print('Salary',new_salary1.shape)\n",
    "print('\\nPreprocessed and Combined Training Set\\n')\n",
    "print('X_train_tr',X_train_tr.shape)\n",
    "print('y_train',y_train.shape)\n",
    "\n",
    "print('\\nPreprocessed and Combined Testing Set')\n",
    "print('X_test_tr',X_test_tr.shape)\n",
    "print('y_test',y_test.shape)\n",
    "\n",
    "print('\\nNote: Make sure both X,Y have same No. of sample and Train/Test have same number of attribute')"
   ]
  },
  {
   "cell_type": "markdown",
   "metadata": {},
   "source": [
    "### Data Preprocessing End\n",
    "---"
   ]
  }
 ],
 "metadata": {
  "kernelspec": {
   "display_name": "Python 3",
   "language": "python",
   "name": "python3"
  },
  "language_info": {
   "codemirror_mode": {
    "name": "ipython",
    "version": 3
   },
   "file_extension": ".py",
   "mimetype": "text/x-python",
   "name": "python",
   "nbconvert_exporter": "python",
   "pygments_lexer": "ipython3",
   "version": "3.8.3"
  }
 },
 "nbformat": 4,
 "nbformat_minor": 5
}
