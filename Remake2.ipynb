{
 "cells": [
  {
   "cell_type": "markdown",
   "metadata": {},
   "source": [
    "#### Variables\n",
    "**Starting**<br>\n",
    "salary\t\t： Original Dataset, Replace '?' to 'NaN'<br>\n",
    "new_salary\t: Remove Missing Values<br>\n",
    "new_salary1\t: Remove Outliers<br>\n",
    "\n",
    "**Split data**<br>\n",
    "X_train, X_test, y_train, y_test<br>\n",
    "X_train_num<br>\n",
    "X_train_cat <br>\n",
    "X_train_num_tr : Standardize (numeric)<br>\n",
    "X_train_tr      : Finalize Test Set<br>\n",
    "X_test_tr      : Finalize Test Set<br>\n",
    "X_train_cat_1 ~ 8 <br>\n",
    "X_test_cat_1 ~ 8 "
   ]
  },
  {
   "cell_type": "markdown",
   "metadata": {},
   "source": [
    "# Salary Prediction Model"
   ]
  },
  {
   "cell_type": "markdown",
   "metadata": {},
   "source": [
    "## Import Python Libraries"
   ]
  },
  {
   "cell_type": "code",
   "execution_count": 1,
   "metadata": {},
   "outputs": [],
   "source": [
    "import numpy as np\n",
    "import pandas as pd\n",
    "import matplotlib.pyplot as plt\n",
    "import seaborn as sb\n",
    "\n",
    "pd.options.mode.chained_assignment = None #turn off warning for SettingWithCopyWarning, \n",
    "                                          #used when convert quality into categorical type\n",
    "import warnings\n",
    "warnings.filterwarnings(\"ignore\")"
   ]
  },
  {
   "cell_type": "markdown",
   "metadata": {},
   "source": [
    "# Data Collection"
   ]
  },
  {
   "cell_type": "code",
   "execution_count": 2,
   "metadata": {},
   "outputs": [],
   "source": [
    "#salary = pd.read_csv('SalaryBackup.csv')\n",
    "salary = pd.read_csv(\"Salary.csv\", na_values = \"?\")"
   ]
  },
  {
   "cell_type": "markdown",
   "metadata": {},
   "source": [
    "# Data Explore"
   ]
  },
  {
   "cell_type": "code",
   "execution_count": 3,
   "metadata": {
    "scrolled": false
   },
   "outputs": [
    {
     "data": {
      "text/html": [
       "<div>\n",
       "<style scoped>\n",
       "    .dataframe tbody tr th:only-of-type {\n",
       "        vertical-align: middle;\n",
       "    }\n",
       "\n",
       "    .dataframe tbody tr th {\n",
       "        vertical-align: top;\n",
       "    }\n",
       "\n",
       "    .dataframe thead th {\n",
       "        text-align: right;\n",
       "    }\n",
       "</style>\n",
       "<table border=\"1\" class=\"dataframe\">\n",
       "  <thead>\n",
       "    <tr style=\"text-align: right;\">\n",
       "      <th></th>\n",
       "      <th>work_type</th>\n",
       "      <th>age</th>\n",
       "      <th>weight</th>\n",
       "      <th>education</th>\n",
       "      <th>education_years</th>\n",
       "      <th>marital_status</th>\n",
       "      <th>occupation</th>\n",
       "      <th>relationship</th>\n",
       "      <th>race</th>\n",
       "      <th>sex</th>\n",
       "      <th>investment_gain</th>\n",
       "      <th>investment_loss</th>\n",
       "      <th>company_size</th>\n",
       "      <th>weekly_hours</th>\n",
       "      <th>country</th>\n",
       "      <th>salary_range</th>\n",
       "    </tr>\n",
       "  </thead>\n",
       "  <tbody>\n",
       "    <tr>\n",
       "      <th>0</th>\n",
       "      <td>Private</td>\n",
       "      <td>19</td>\n",
       "      <td>216804</td>\n",
       "      <td>7th-8th</td>\n",
       "      <td>4.0</td>\n",
       "      <td>Never-married</td>\n",
       "      <td>Other-service</td>\n",
       "      <td>Own-child</td>\n",
       "      <td>White</td>\n",
       "      <td>Male</td>\n",
       "      <td>0</td>\n",
       "      <td>0</td>\n",
       "      <td>825</td>\n",
       "      <td>33</td>\n",
       "      <td>United-States</td>\n",
       "      <td>low</td>\n",
       "    </tr>\n",
       "    <tr>\n",
       "      <th>1</th>\n",
       "      <td>Private</td>\n",
       "      <td>23</td>\n",
       "      <td>207546</td>\n",
       "      <td>11th</td>\n",
       "      <td>7.0</td>\n",
       "      <td>Married-civ-spouse</td>\n",
       "      <td>Machine-op-inspct</td>\n",
       "      <td>Husband</td>\n",
       "      <td>White</td>\n",
       "      <td>Male</td>\n",
       "      <td>0</td>\n",
       "      <td>0</td>\n",
       "      <td>865</td>\n",
       "      <td>40</td>\n",
       "      <td>United-States</td>\n",
       "      <td>low</td>\n",
       "    </tr>\n",
       "    <tr>\n",
       "      <th>2</th>\n",
       "      <td>Private</td>\n",
       "      <td>41</td>\n",
       "      <td>253759</td>\n",
       "      <td>HS-grad</td>\n",
       "      <td>9.0</td>\n",
       "      <td>Never-married</td>\n",
       "      <td>Sales</td>\n",
       "      <td>Unmarried</td>\n",
       "      <td>Black</td>\n",
       "      <td>Female</td>\n",
       "      <td>0</td>\n",
       "      <td>0</td>\n",
       "      <td>727</td>\n",
       "      <td>40</td>\n",
       "      <td>United-States</td>\n",
       "      <td>low</td>\n",
       "    </tr>\n",
       "    <tr>\n",
       "      <th>3</th>\n",
       "      <td>Private</td>\n",
       "      <td>28</td>\n",
       "      <td>180928</td>\n",
       "      <td>Some-college</td>\n",
       "      <td>10.0</td>\n",
       "      <td>Married-civ-spouse</td>\n",
       "      <td>Handlers-cleaners</td>\n",
       "      <td>Husband</td>\n",
       "      <td>White</td>\n",
       "      <td>Male</td>\n",
       "      <td>5013</td>\n",
       "      <td>0</td>\n",
       "      <td>328</td>\n",
       "      <td>55</td>\n",
       "      <td>United-States</td>\n",
       "      <td>low</td>\n",
       "    </tr>\n",
       "    <tr>\n",
       "      <th>4</th>\n",
       "      <td>Private</td>\n",
       "      <td>17</td>\n",
       "      <td>208463</td>\n",
       "      <td>HS-grad</td>\n",
       "      <td>9.0</td>\n",
       "      <td>Never-married</td>\n",
       "      <td>Sales</td>\n",
       "      <td>Own-child</td>\n",
       "      <td>White</td>\n",
       "      <td>Female</td>\n",
       "      <td>0</td>\n",
       "      <td>0</td>\n",
       "      <td>977</td>\n",
       "      <td>20</td>\n",
       "      <td>United-States</td>\n",
       "      <td>low</td>\n",
       "    </tr>\n",
       "    <tr>\n",
       "      <th>5</th>\n",
       "      <td>Private</td>\n",
       "      <td>73</td>\n",
       "      <td>333676</td>\n",
       "      <td>HS-grad</td>\n",
       "      <td>9.0</td>\n",
       "      <td>Married-civ-spouse</td>\n",
       "      <td>Farming-fishing</td>\n",
       "      <td>Husband</td>\n",
       "      <td>White</td>\n",
       "      <td>Male</td>\n",
       "      <td>0</td>\n",
       "      <td>0</td>\n",
       "      <td>118</td>\n",
       "      <td>50</td>\n",
       "      <td>United-States</td>\n",
       "      <td>low</td>\n",
       "    </tr>\n",
       "    <tr>\n",
       "      <th>6</th>\n",
       "      <td>Local-gov</td>\n",
       "      <td>65</td>\n",
       "      <td>24824</td>\n",
       "      <td>HS-grad</td>\n",
       "      <td>9.0</td>\n",
       "      <td>Married-civ-spouse</td>\n",
       "      <td>Craft-repair</td>\n",
       "      <td>Husband</td>\n",
       "      <td>White</td>\n",
       "      <td>Male</td>\n",
       "      <td>0</td>\n",
       "      <td>0</td>\n",
       "      <td>793</td>\n",
       "      <td>40</td>\n",
       "      <td>United-States</td>\n",
       "      <td>low</td>\n",
       "    </tr>\n",
       "    <tr>\n",
       "      <th>7</th>\n",
       "      <td>Private</td>\n",
       "      <td>37</td>\n",
       "      <td>96330</td>\n",
       "      <td>Some-college</td>\n",
       "      <td>10.0</td>\n",
       "      <td>Never-married</td>\n",
       "      <td>Exec-managerial</td>\n",
       "      <td>Unmarried</td>\n",
       "      <td>Black</td>\n",
       "      <td>Female</td>\n",
       "      <td>0</td>\n",
       "      <td>0</td>\n",
       "      <td>193</td>\n",
       "      <td>40</td>\n",
       "      <td>United-States</td>\n",
       "      <td>low</td>\n",
       "    </tr>\n",
       "    <tr>\n",
       "      <th>8</th>\n",
       "      <td>Private</td>\n",
       "      <td>53</td>\n",
       "      <td>47396</td>\n",
       "      <td>HS-grad</td>\n",
       "      <td>9.0</td>\n",
       "      <td>Married-civ-spouse</td>\n",
       "      <td>Craft-repair</td>\n",
       "      <td>Husband</td>\n",
       "      <td>White</td>\n",
       "      <td>Male</td>\n",
       "      <td>0</td>\n",
       "      <td>0</td>\n",
       "      <td>427</td>\n",
       "      <td>40</td>\n",
       "      <td>United-States</td>\n",
       "      <td>low</td>\n",
       "    </tr>\n",
       "    <tr>\n",
       "      <th>9</th>\n",
       "      <td>NaN</td>\n",
       "      <td>61</td>\n",
       "      <td>166855</td>\n",
       "      <td>Bachelors</td>\n",
       "      <td>13.0</td>\n",
       "      <td>Married-civ-spouse</td>\n",
       "      <td>NaN</td>\n",
       "      <td>Husband</td>\n",
       "      <td>White</td>\n",
       "      <td>Male</td>\n",
       "      <td>0</td>\n",
       "      <td>0</td>\n",
       "      <td>164</td>\n",
       "      <td>10</td>\n",
       "      <td>United-States</td>\n",
       "      <td>low</td>\n",
       "    </tr>\n",
       "  </tbody>\n",
       "</table>\n",
       "</div>"
      ],
      "text/plain": [
       "   work_type  age  weight     education  education_years      marital_status  \\\n",
       "0    Private   19  216804       7th-8th              4.0       Never-married   \n",
       "1    Private   23  207546          11th              7.0  Married-civ-spouse   \n",
       "2    Private   41  253759       HS-grad              9.0       Never-married   \n",
       "3    Private   28  180928  Some-college             10.0  Married-civ-spouse   \n",
       "4    Private   17  208463       HS-grad              9.0       Never-married   \n",
       "5    Private   73  333676       HS-grad              9.0  Married-civ-spouse   \n",
       "6  Local-gov   65   24824       HS-grad              9.0  Married-civ-spouse   \n",
       "7    Private   37   96330  Some-college             10.0       Never-married   \n",
       "8    Private   53   47396       HS-grad              9.0  Married-civ-spouse   \n",
       "9        NaN   61  166855     Bachelors             13.0  Married-civ-spouse   \n",
       "\n",
       "          occupation relationship   race     sex  investment_gain  \\\n",
       "0      Other-service    Own-child  White    Male                0   \n",
       "1  Machine-op-inspct      Husband  White    Male                0   \n",
       "2              Sales    Unmarried  Black  Female                0   \n",
       "3  Handlers-cleaners      Husband  White    Male             5013   \n",
       "4              Sales    Own-child  White  Female                0   \n",
       "5    Farming-fishing      Husband  White    Male                0   \n",
       "6       Craft-repair      Husband  White    Male                0   \n",
       "7    Exec-managerial    Unmarried  Black  Female                0   \n",
       "8       Craft-repair      Husband  White    Male                0   \n",
       "9                NaN      Husband  White    Male                0   \n",
       "\n",
       "   investment_loss  company_size  weekly_hours        country salary_range  \n",
       "0                0           825            33  United-States          low  \n",
       "1                0           865            40  United-States          low  \n",
       "2                0           727            40  United-States          low  \n",
       "3                0           328            55  United-States          low  \n",
       "4                0           977            20  United-States          low  \n",
       "5                0           118            50  United-States          low  \n",
       "6                0           793            40  United-States          low  \n",
       "7                0           193            40  United-States          low  \n",
       "8                0           427            40  United-States          low  \n",
       "9                0           164            10  United-States          low  "
      ]
     },
     "execution_count": 3,
     "metadata": {},
     "output_type": "execute_result"
    }
   ],
   "source": [
    "salary.head(10)"
   ]
  },
  {
   "cell_type": "code",
   "execution_count": 4,
   "metadata": {},
   "outputs": [
    {
     "data": {
      "text/plain": [
       "work_type          1836\n",
       "age                   0\n",
       "weight                0\n",
       "education             0\n",
       "education_years       9\n",
       "marital_status        0\n",
       "occupation         1843\n",
       "relationship          0\n",
       "race                  0\n",
       "sex                   0\n",
       "investment_gain       0\n",
       "investment_loss       0\n",
       "company_size          0\n",
       "weekly_hours          0\n",
       "country             583\n",
       "salary_range          0\n",
       "dtype: int64"
      ]
     },
     "execution_count": 4,
     "metadata": {},
     "output_type": "execute_result"
    }
   ],
   "source": [
    "salary.isnull().sum()"
   ]
  },
  {
   "cell_type": "code",
   "execution_count": 5,
   "metadata": {},
   "outputs": [
    {
     "name": "stdout",
     "output_type": "stream",
     "text": [
      "Shape (32561, 16)\n"
     ]
    }
   ],
   "source": [
    "#original shape of dataset\n",
    "print(\"Shape\",salary.shape)"
   ]
  },
  {
   "cell_type": "code",
   "execution_count": 6,
   "metadata": {
    "scrolled": false
   },
   "outputs": [
    {
     "name": "stdout",
     "output_type": "stream",
     "text": [
      "<class 'pandas.core.frame.DataFrame'>\n",
      "RangeIndex: 32561 entries, 0 to 32560\n",
      "Data columns (total 16 columns):\n",
      " #   Column           Non-Null Count  Dtype  \n",
      "---  ------           --------------  -----  \n",
      " 0   work_type        30725 non-null  object \n",
      " 1   age              32561 non-null  int64  \n",
      " 2   weight           32561 non-null  int64  \n",
      " 3   education        32561 non-null  object \n",
      " 4   education_years  32552 non-null  float64\n",
      " 5   marital_status   32561 non-null  object \n",
      " 6   occupation       30718 non-null  object \n",
      " 7   relationship     32561 non-null  object \n",
      " 8   race             32561 non-null  object \n",
      " 9   sex              32561 non-null  object \n",
      " 10  investment_gain  32561 non-null  int64  \n",
      " 11  investment_loss  32561 non-null  int64  \n",
      " 12  company_size     32561 non-null  int64  \n",
      " 13  weekly_hours     32561 non-null  int64  \n",
      " 14  country          31978 non-null  object \n",
      " 15  salary_range     32561 non-null  object \n",
      "dtypes: float64(1), int64(6), object(9)\n",
      "memory usage: 4.0+ MB\n"
     ]
    }
   ],
   "source": [
    "salary.info()"
   ]
  },
  {
   "cell_type": "code",
   "execution_count": 7,
   "metadata": {
    "scrolled": true
   },
   "outputs": [
    {
     "data": {
      "text/plain": [
       "salary_range\n",
       "high     7841\n",
       "low     24720\n",
       "dtype: int64"
      ]
     },
     "execution_count": 7,
     "metadata": {},
     "output_type": "execute_result"
    }
   ],
   "source": [
    "salary.groupby('salary_range').size()"
   ]
  },
  {
   "cell_type": "code",
   "execution_count": 8,
   "metadata": {},
   "outputs": [
    {
     "data": {
      "text/plain": [
       "Index(['work_type', 'age', 'weight', 'education', 'education_years',\n",
       "       'marital_status', 'occupation', 'relationship', 'race', 'sex',\n",
       "       'investment_gain', 'investment_loss', 'company_size', 'weekly_hours',\n",
       "       'country', 'salary_range'],\n",
       "      dtype='object')"
      ]
     },
     "execution_count": 8,
     "metadata": {},
     "output_type": "execute_result"
    }
   ],
   "source": [
    "salary.columns"
   ]
  },
  {
   "cell_type": "markdown",
   "metadata": {},
   "source": [
    "*Comment for the size of \"salary_range\":*<br>\n",
    "- Maybe need to rebalance the class **(avoid imbalanced class result / imbalanced classification challenge)**"
   ]
  },
  {
   "cell_type": "markdown",
   "metadata": {},
   "source": [
    "## Numerical Feaures Analysis"
   ]
  },
  {
   "cell_type": "code",
   "execution_count": 9,
   "metadata": {},
   "outputs": [
    {
     "data": {
      "text/html": [
       "<div>\n",
       "<style scoped>\n",
       "    .dataframe tbody tr th:only-of-type {\n",
       "        vertical-align: middle;\n",
       "    }\n",
       "\n",
       "    .dataframe tbody tr th {\n",
       "        vertical-align: top;\n",
       "    }\n",
       "\n",
       "    .dataframe thead th {\n",
       "        text-align: right;\n",
       "    }\n",
       "</style>\n",
       "<table border=\"1\" class=\"dataframe\">\n",
       "  <thead>\n",
       "    <tr style=\"text-align: right;\">\n",
       "      <th></th>\n",
       "      <th>age</th>\n",
       "      <th>weight</th>\n",
       "      <th>education_years</th>\n",
       "      <th>investment_gain</th>\n",
       "      <th>investment_loss</th>\n",
       "      <th>company_size</th>\n",
       "      <th>weekly_hours</th>\n",
       "    </tr>\n",
       "  </thead>\n",
       "  <tbody>\n",
       "    <tr>\n",
       "      <th>count</th>\n",
       "      <td>32561.000000</td>\n",
       "      <td>3.256100e+04</td>\n",
       "      <td>32552.000000</td>\n",
       "      <td>32561.000000</td>\n",
       "      <td>32561.000000</td>\n",
       "      <td>32561.000000</td>\n",
       "      <td>32561.000000</td>\n",
       "    </tr>\n",
       "    <tr>\n",
       "      <th>mean</th>\n",
       "      <td>38.581647</td>\n",
       "      <td>1.897784e+05</td>\n",
       "      <td>10.080609</td>\n",
       "      <td>1077.648844</td>\n",
       "      <td>87.303830</td>\n",
       "      <td>500.930838</td>\n",
       "      <td>40.437456</td>\n",
       "    </tr>\n",
       "    <tr>\n",
       "      <th>std</th>\n",
       "      <td>13.640433</td>\n",
       "      <td>1.055500e+05</td>\n",
       "      <td>2.572762</td>\n",
       "      <td>7385.292085</td>\n",
       "      <td>402.960219</td>\n",
       "      <td>285.784842</td>\n",
       "      <td>12.347429</td>\n",
       "    </tr>\n",
       "    <tr>\n",
       "      <th>min</th>\n",
       "      <td>17.000000</td>\n",
       "      <td>1.228500e+04</td>\n",
       "      <td>1.000000</td>\n",
       "      <td>0.000000</td>\n",
       "      <td>0.000000</td>\n",
       "      <td>5.000000</td>\n",
       "      <td>1.000000</td>\n",
       "    </tr>\n",
       "    <tr>\n",
       "      <th>25%</th>\n",
       "      <td>28.000000</td>\n",
       "      <td>1.178270e+05</td>\n",
       "      <td>9.000000</td>\n",
       "      <td>0.000000</td>\n",
       "      <td>0.000000</td>\n",
       "      <td>254.000000</td>\n",
       "      <td>40.000000</td>\n",
       "    </tr>\n",
       "    <tr>\n",
       "      <th>50%</th>\n",
       "      <td>37.000000</td>\n",
       "      <td>1.783560e+05</td>\n",
       "      <td>10.000000</td>\n",
       "      <td>0.000000</td>\n",
       "      <td>0.000000</td>\n",
       "      <td>502.000000</td>\n",
       "      <td>40.000000</td>\n",
       "    </tr>\n",
       "    <tr>\n",
       "      <th>75%</th>\n",
       "      <td>48.000000</td>\n",
       "      <td>2.370510e+05</td>\n",
       "      <td>12.000000</td>\n",
       "      <td>0.000000</td>\n",
       "      <td>0.000000</td>\n",
       "      <td>745.000000</td>\n",
       "      <td>45.000000</td>\n",
       "    </tr>\n",
       "    <tr>\n",
       "      <th>max</th>\n",
       "      <td>90.000000</td>\n",
       "      <td>1.484705e+06</td>\n",
       "      <td>16.000000</td>\n",
       "      <td>99999.000000</td>\n",
       "      <td>4356.000000</td>\n",
       "      <td>1000.000000</td>\n",
       "      <td>99.000000</td>\n",
       "    </tr>\n",
       "  </tbody>\n",
       "</table>\n",
       "</div>"
      ],
      "text/plain": [
       "                age        weight  education_years  investment_gain  \\\n",
       "count  32561.000000  3.256100e+04     32552.000000     32561.000000   \n",
       "mean      38.581647  1.897784e+05        10.080609      1077.648844   \n",
       "std       13.640433  1.055500e+05         2.572762      7385.292085   \n",
       "min       17.000000  1.228500e+04         1.000000         0.000000   \n",
       "25%       28.000000  1.178270e+05         9.000000         0.000000   \n",
       "50%       37.000000  1.783560e+05        10.000000         0.000000   \n",
       "75%       48.000000  2.370510e+05        12.000000         0.000000   \n",
       "max       90.000000  1.484705e+06        16.000000     99999.000000   \n",
       "\n",
       "       investment_loss  company_size  weekly_hours  \n",
       "count     32561.000000  32561.000000  32561.000000  \n",
       "mean         87.303830    500.930838     40.437456  \n",
       "std         402.960219    285.784842     12.347429  \n",
       "min           0.000000      5.000000      1.000000  \n",
       "25%           0.000000    254.000000     40.000000  \n",
       "50%           0.000000    502.000000     40.000000  \n",
       "75%           0.000000    745.000000     45.000000  \n",
       "max        4356.000000   1000.000000     99.000000  "
      ]
     },
     "execution_count": 9,
     "metadata": {},
     "output_type": "execute_result"
    }
   ],
   "source": [
    "salary.describe() "
   ]
  },
  {
   "cell_type": "markdown",
   "metadata": {},
   "source": [
    "Summary of the describtion of the data:\n",
    "---\n",
    "1. Age   : 17 - 90 years old\n",
    "2. Weight: 1.376900e+04 - 1.484705e+06\n",
    "3. Education_years: 1 - 16 years\n",
    "4. investment_gain: 0.00 - 99999.00\n",
    "5. investment_loss: 0.00 - 4356.00\n",
    "6. company_size   : 5 - 1000 employees\n",
    "7. weekly_hours   : 1 - 99 hours"
   ]
  },
  {
   "cell_type": "code",
   "execution_count": 10,
   "metadata": {},
   "outputs": [
    {
     "data": {
      "image/png": "[encoded data removed]",
      "text/plain": [
       "<Figure size 1440x1080 with 9 Axes>"
      ]
     },
     "metadata": {
      "needs_background": "light"
     },
     "output_type": "display_data"
    }
   ],
   "source": [
    "salary.hist(bins = 50, figsize = (20,15))\n",
    "plt.show() "
   ]
  },
  {
   "cell_type": "markdown",
   "metadata": {},
   "source": [
    "Distribution data questions: <br>\n",
    "    a. How is the distribution data - heavy tail issue<br>\n",
    "        - 3 attributes (weight, investment_gain, investment_loss)<br>\n",
    "    b. What is peculiar about the graph<br>\n",
    "        - <br>\n",
    "    c. Features that have different scales<br>\n",
    "        - weekly_hours"
   ]
  },
  {
   "cell_type": "markdown",
   "metadata": {},
   "source": [
    "## Categorical Features Analysis"
   ]
  },
  {
   "cell_type": "code",
   "execution_count": 11,
   "metadata": {},
   "outputs": [],
   "source": [
    "#salary.value_counts()"
   ]
  },
  {
   "cell_type": "markdown",
   "metadata": {},
   "source": [
    "Formulate data question of the: <br>\n",
    "    a. How many possible values for the categorical feature<br>\n",
    "        - 10 attributes<br>\n",
    "    b. What is the most frequent value<br>\n",
    "        - <br>\n",
    "    c. What is the least frequent value<br>\n",
    "        - <br>"
   ]
  },
  {
   "cell_type": "markdown",
   "metadata": {},
   "source": [
    "# Data Visualization"
   ]
  },
  {
   "cell_type": "markdown",
   "metadata": {},
   "source": [
    "## Correlation\n",
    "1. Gives quantifiable relationship between features\n",
    "2. Corr is calculated using various methods like 'pearson', 'spearman', etc.\n",
    "3. Corr can be represented using correlation heatmap"
   ]
  },
  {
   "cell_type": "code",
   "execution_count": 12,
   "metadata": {},
   "outputs": [
    {
     "data": {
      "text/html": [
       "<div>\n",
       "<style scoped>\n",
       "    .dataframe tbody tr th:only-of-type {\n",
       "        vertical-align: middle;\n",
       "    }\n",
       "\n",
       "    .dataframe tbody tr th {\n",
       "        vertical-align: top;\n",
       "    }\n",
       "\n",
       "    .dataframe thead th {\n",
       "        text-align: right;\n",
       "    }\n",
       "</style>\n",
       "<table border=\"1\" class=\"dataframe\">\n",
       "  <thead>\n",
       "    <tr style=\"text-align: right;\">\n",
       "      <th></th>\n",
       "      <th>age</th>\n",
       "      <th>weight</th>\n",
       "      <th>education_years</th>\n",
       "      <th>investment_gain</th>\n",
       "      <th>investment_loss</th>\n",
       "      <th>company_size</th>\n",
       "      <th>weekly_hours</th>\n",
       "    </tr>\n",
       "  </thead>\n",
       "  <tbody>\n",
       "    <tr>\n",
       "      <th>age</th>\n",
       "      <td>1.000000</td>\n",
       "      <td>-0.078141</td>\n",
       "      <td>0.066267</td>\n",
       "      <td>0.124948</td>\n",
       "      <td>0.058484</td>\n",
       "      <td>0.002759</td>\n",
       "      <td>0.142907</td>\n",
       "    </tr>\n",
       "    <tr>\n",
       "      <th>weight</th>\n",
       "      <td>-0.078141</td>\n",
       "      <td>1.000000</td>\n",
       "      <td>-0.035704</td>\n",
       "      <td>-0.006039</td>\n",
       "      <td>-0.006914</td>\n",
       "      <td>0.003158</td>\n",
       "      <td>-0.021621</td>\n",
       "    </tr>\n",
       "    <tr>\n",
       "      <th>education_years</th>\n",
       "      <td>0.066267</td>\n",
       "      <td>-0.035704</td>\n",
       "      <td>1.000000</td>\n",
       "      <td>0.119170</td>\n",
       "      <td>0.074539</td>\n",
       "      <td>-0.010157</td>\n",
       "      <td>0.167127</td>\n",
       "    </tr>\n",
       "    <tr>\n",
       "      <th>investment_gain</th>\n",
       "      <td>0.124948</td>\n",
       "      <td>-0.006039</td>\n",
       "      <td>0.119170</td>\n",
       "      <td>1.000000</td>\n",
       "      <td>-0.066569</td>\n",
       "      <td>0.002377</td>\n",
       "      <td>0.093322</td>\n",
       "    </tr>\n",
       "    <tr>\n",
       "      <th>investment_loss</th>\n",
       "      <td>0.058484</td>\n",
       "      <td>-0.006914</td>\n",
       "      <td>0.074539</td>\n",
       "      <td>-0.066569</td>\n",
       "      <td>1.000000</td>\n",
       "      <td>0.003499</td>\n",
       "      <td>0.059852</td>\n",
       "    </tr>\n",
       "    <tr>\n",
       "      <th>company_size</th>\n",
       "      <td>0.002759</td>\n",
       "      <td>0.003158</td>\n",
       "      <td>-0.010157</td>\n",
       "      <td>0.002377</td>\n",
       "      <td>0.003499</td>\n",
       "      <td>1.000000</td>\n",
       "      <td>0.001347</td>\n",
       "    </tr>\n",
       "    <tr>\n",
       "      <th>weekly_hours</th>\n",
       "      <td>0.142907</td>\n",
       "      <td>-0.021621</td>\n",
       "      <td>0.167127</td>\n",
       "      <td>0.093322</td>\n",
       "      <td>0.059852</td>\n",
       "      <td>0.001347</td>\n",
       "      <td>1.000000</td>\n",
       "    </tr>\n",
       "  </tbody>\n",
       "</table>\n",
       "</div>"
      ],
      "text/plain": [
       "                      age    weight  education_years  investment_gain  \\\n",
       "age              1.000000 -0.078141         0.066267         0.124948   \n",
       "weight          -0.078141  1.000000        -0.035704        -0.006039   \n",
       "education_years  0.066267 -0.035704         1.000000         0.119170   \n",
       "investment_gain  0.124948 -0.006039         0.119170         1.000000   \n",
       "investment_loss  0.058484 -0.006914         0.074539        -0.066569   \n",
       "company_size     0.002759  0.003158        -0.010157         0.002377   \n",
       "weekly_hours     0.142907 -0.021621         0.167127         0.093322   \n",
       "\n",
       "                 investment_loss  company_size  weekly_hours  \n",
       "age                     0.058484      0.002759      0.142907  \n",
       "weight                 -0.006914      0.003158     -0.021621  \n",
       "education_years         0.074539     -0.010157      0.167127  \n",
       "investment_gain        -0.066569      0.002377      0.093322  \n",
       "investment_loss         1.000000      0.003499      0.059852  \n",
       "company_size            0.003499      1.000000      0.001347  \n",
       "weekly_hours            0.059852      0.001347      1.000000  "
      ]
     },
     "execution_count": 12,
     "metadata": {},
     "output_type": "execute_result"
    }
   ],
   "source": [
    "salary.corr(method='spearman')"
   ]
  },
  {
   "cell_type": "code",
   "execution_count": 13,
   "metadata": {},
   "outputs": [
    {
     "data": {
      "text/html": [
       "<div>\n",
       "<style scoped>\n",
       "    .dataframe tbody tr th:only-of-type {\n",
       "        vertical-align: middle;\n",
       "    }\n",
       "\n",
       "    .dataframe tbody tr th {\n",
       "        vertical-align: top;\n",
       "    }\n",
       "\n",
       "    .dataframe thead th {\n",
       "        text-align: right;\n",
       "    }\n",
       "</style>\n",
       "<table border=\"1\" class=\"dataframe\">\n",
       "  <thead>\n",
       "    <tr style=\"text-align: right;\">\n",
       "      <th></th>\n",
       "      <th>age</th>\n",
       "      <th>weight</th>\n",
       "      <th>education_years</th>\n",
       "      <th>investment_gain</th>\n",
       "      <th>investment_loss</th>\n",
       "      <th>company_size</th>\n",
       "      <th>weekly_hours</th>\n",
       "    </tr>\n",
       "  </thead>\n",
       "  <tbody>\n",
       "    <tr>\n",
       "      <th>age</th>\n",
       "      <td>1.000000</td>\n",
       "      <td>-0.076646</td>\n",
       "      <td>0.036495</td>\n",
       "      <td>0.077674</td>\n",
       "      <td>0.057775</td>\n",
       "      <td>0.002589</td>\n",
       "      <td>0.068756</td>\n",
       "    </tr>\n",
       "    <tr>\n",
       "      <th>weight</th>\n",
       "      <td>-0.076646</td>\n",
       "      <td>1.000000</td>\n",
       "      <td>-0.043220</td>\n",
       "      <td>0.000432</td>\n",
       "      <td>-0.010252</td>\n",
       "      <td>0.004007</td>\n",
       "      <td>-0.018768</td>\n",
       "    </tr>\n",
       "    <tr>\n",
       "      <th>education_years</th>\n",
       "      <td>0.036495</td>\n",
       "      <td>-0.043220</td>\n",
       "      <td>1.000000</td>\n",
       "      <td>0.122649</td>\n",
       "      <td>0.079678</td>\n",
       "      <td>-0.007389</td>\n",
       "      <td>0.148050</td>\n",
       "    </tr>\n",
       "    <tr>\n",
       "      <th>investment_gain</th>\n",
       "      <td>0.077674</td>\n",
       "      <td>0.000432</td>\n",
       "      <td>0.122649</td>\n",
       "      <td>1.000000</td>\n",
       "      <td>-0.031615</td>\n",
       "      <td>0.004572</td>\n",
       "      <td>0.078409</td>\n",
       "    </tr>\n",
       "    <tr>\n",
       "      <th>investment_loss</th>\n",
       "      <td>0.057775</td>\n",
       "      <td>-0.010252</td>\n",
       "      <td>0.079678</td>\n",
       "      <td>-0.031615</td>\n",
       "      <td>1.000000</td>\n",
       "      <td>0.003726</td>\n",
       "      <td>0.054256</td>\n",
       "    </tr>\n",
       "    <tr>\n",
       "      <th>company_size</th>\n",
       "      <td>0.002589</td>\n",
       "      <td>0.004007</td>\n",
       "      <td>-0.007389</td>\n",
       "      <td>0.004572</td>\n",
       "      <td>0.003726</td>\n",
       "      <td>1.000000</td>\n",
       "      <td>0.000768</td>\n",
       "    </tr>\n",
       "    <tr>\n",
       "      <th>weekly_hours</th>\n",
       "      <td>0.068756</td>\n",
       "      <td>-0.018768</td>\n",
       "      <td>0.148050</td>\n",
       "      <td>0.078409</td>\n",
       "      <td>0.054256</td>\n",
       "      <td>0.000768</td>\n",
       "      <td>1.000000</td>\n",
       "    </tr>\n",
       "  </tbody>\n",
       "</table>\n",
       "</div>"
      ],
      "text/plain": [
       "                      age    weight  education_years  investment_gain  \\\n",
       "age              1.000000 -0.076646         0.036495         0.077674   \n",
       "weight          -0.076646  1.000000        -0.043220         0.000432   \n",
       "education_years  0.036495 -0.043220         1.000000         0.122649   \n",
       "investment_gain  0.077674  0.000432         0.122649         1.000000   \n",
       "investment_loss  0.057775 -0.010252         0.079678        -0.031615   \n",
       "company_size     0.002589  0.004007        -0.007389         0.004572   \n",
       "weekly_hours     0.068756 -0.018768         0.148050         0.078409   \n",
       "\n",
       "                 investment_loss  company_size  weekly_hours  \n",
       "age                     0.057775      0.002589      0.068756  \n",
       "weight                 -0.010252      0.004007     -0.018768  \n",
       "education_years         0.079678     -0.007389      0.148050  \n",
       "investment_gain        -0.031615      0.004572      0.078409  \n",
       "investment_loss         1.000000      0.003726      0.054256  \n",
       "company_size            0.003726      1.000000      0.000768  \n",
       "weekly_hours            0.054256      0.000768      1.000000  "
      ]
     },
     "execution_count": 13,
     "metadata": {},
     "output_type": "execute_result"
    }
   ],
   "source": [
    "salary.corr()"
   ]
  },
  {
   "cell_type": "code",
   "execution_count": 14,
   "metadata": {
    "scrolled": false
   },
   "outputs": [
    {
     "data": {
      "text/plain": [
       "Text(0.5, 1.0, '- Correlation matrix and Heatmap -')"
      ]
     },
     "execution_count": 14,
     "metadata": {},
     "output_type": "execute_result"
    },
    {
     "data": {
      "image/png": "[encoded data removed]",
      "text/plain": [
       "<Figure size 720x576 with 2 Axes>"
      ]
     },
     "metadata": {
      "needs_background": "light"
     },
     "output_type": "display_data"
    }
   ],
   "source": [
    "plt.figure(figsize =(10,8))\n",
    "corrmat = salary.corr()\n",
    "sb.heatmap(corrmat, square=True, annot=True, cbar=True, cmap=\"Blues\");  #Blues\n",
    "plt.title('- Correlation matrix and Heatmap -',fontsize = 25)"
   ]
  },
  {
   "cell_type": "markdown",
   "metadata": {},
   "source": [
    "### Positive Correlation\n",
    "- Age and Investment Gain\n",
    "- Age and Investment Loss\n",
    "- Weekly Hours and Age\n",
    "- Weekly Hours and Education Years\n",
    "- Education Years and Investment Gain\n",
    "- Education Years and Investment Lost\n",
    "\n",
    "### Negative Correlation\n",
    "- Age and Weight\n",
    "- Weight and Investment Lost\n",
    "- Weight and Weekly Hours\n",
    "- Investment Gain and Investment Loss\n",
    "- Education Years and Company Size\n",
    "\n",
    "*Observation: There are nothing much correlation between these numerical attributes"
   ]
  },
  {
   "cell_type": "markdown",
   "metadata": {},
   "source": [
    "### BarPlot - Investment"
   ]
  },
  {
   "cell_type": "code",
   "execution_count": 15,
   "metadata": {},
   "outputs": [
    {
     "data": {
      "text/plain": [
       "<matplotlib.axes._subplots.AxesSubplot at 0x2d94fb95b20>"
      ]
     },
     "execution_count": 15,
     "metadata": {},
     "output_type": "execute_result"
    },
    {
     "data": {
      "image/png": "[encoded data removed]",
      "text/plain": [
       "<Figure size 432x288 with 1 Axes>"
      ]
     },
     "metadata": {
      "needs_background": "light"
     },
     "output_type": "display_data"
    }
   ],
   "source": [
    "sb.barplot(x='salary_range',y='investment_gain',data=salary,estimator=np.std,hue='sex')"
   ]
  },
  {
   "cell_type": "code",
   "execution_count": 5,
   "metadata": {},
   "outputs": [
    {
     "data": {
      "text/plain": [
       "<matplotlib.axes._subplots.AxesSubplot at 0x1f25aab8f40>"
      ]
     },
     "execution_count": 5,
     "metadata": {},
     "output_type": "execute_result"
    },
    {
     "data": {
      "image/png": "[encoded data removed]",
      "text/plain": [
       "<Figure size 432x288 with 1 Axes>"
      ]
     },
     "metadata": {
      "needs_background": "light"
     },
     "output_type": "display_data"
    }
   ],
   "source": [
    "sb.violinplot(x='salary_range',y='age',data=salary)"
   ]
  },
  {
   "cell_type": "code",
   "execution_count": 4,
   "metadata": {},
   "outputs": [
    {
     "data": {
      "text/plain": [
       "<seaborn.axisgrid.JointGrid at 0x1f25a85ff10>"
      ]
     },
     "execution_count": 4,
     "metadata": {},
     "output_type": "execute_result"
    },
    {
     "data": {
      "image/png": "[encoded data removed]",
      "text/plain": [
       "<Figure size 432x432 with 3 Axes>"
      ]
     },
     "metadata": {
      "needs_background": "light"
     },
     "output_type": "display_data"
    }
   ],
   "source": [
    "sb.jointplot(x='weekly_hours',y='age',data=salary, kind='reg')"
   ]
  },
  {
   "cell_type": "code",
   "execution_count": 16,
   "metadata": {},
   "outputs": [
    {
     "data": {
      "text/plain": [
       "<matplotlib.axes._subplots.AxesSubplot at 0x2d94fbaebb0>"
      ]
     },
     "execution_count": 16,
     "metadata": {},
     "output_type": "execute_result"
    },
    {
     "data": {
      "image/png": "[encoded data removed]",
      "text/plain": [
       "<Figure size 432x288 with 1 Axes>"
      ]
     },
     "metadata": {
      "needs_background": "light"
     },
     "output_type": "display_data"
    }
   ],
   "source": [
    "sb.barplot(x='salary_range',y='education_years',data=salary)"
   ]
  },
  {
   "cell_type": "code",
   "execution_count": 17,
   "metadata": {},
   "outputs": [
    {
     "data": {
      "text/plain": [
       "<matplotlib.axes._subplots.AxesSubplot at 0x2d94f44f940>"
      ]
     },
     "execution_count": 17,
     "metadata": {},
     "output_type": "execute_result"
    },
    {
     "data": {
      "image/png": "[encoded data removed]",
      "text/plain": [
       "<Figure size 432x288 with 1 Axes>"
      ]
     },
     "metadata": {
      "needs_background": "light"
     },
     "output_type": "display_data"
    }
   ],
   "source": [
    "sb.barplot(x='salary_range',y='weekly_hours',data=salary, hue='sex')"
   ]
  },
  {
   "cell_type": "code",
   "execution_count": 18,
   "metadata": {},
   "outputs": [
    {
     "data": {
      "text/plain": [
       "Text(0.5, 1.0, '- Investment Gain of Different Races -')"
      ]
     },
     "execution_count": 18,
     "metadata": {},
     "output_type": "execute_result"
    },
    {
     "data": {
      "image/png": "[encoded data removed]",
      "text/plain": [
       "<Figure size 1152x504 with 1 Axes>"
      ]
     },
     "metadata": {
      "needs_background": "light"
     },
     "output_type": "display_data"
    }
   ],
   "source": [
    "plt.figure(figsize =(16,7))\n",
    "sb.barplot(x='race',y='investment_gain',data=salary, hue='sex',palette='vlag')\n",
    "\n",
    "plt.xlabel('Race',fontsize = 15,color='blue')\n",
    "plt.ylabel('Investment Gain',fontsize = 15,color='blue')\n",
    "plt.title('- Investment Gain of Different Races -',fontsize = 25)"
   ]
  },
  {
   "cell_type": "markdown",
   "metadata": {},
   "source": [
    "#### Asian Pacific Islanders has the highest investment gain while American Indian Eskimo has the lowest"
   ]
  },
  {
   "cell_type": "code",
   "execution_count": 19,
   "metadata": {},
   "outputs": [
    {
     "data": {
      "image/png": "[encoded data removed]",
      "text/plain": [
       "<Figure size 720x432 with 1 Axes>"
      ]
     },
     "metadata": {},
     "output_type": "display_data"
    }
   ],
   "source": [
    "co = salary.groupby('salary_range')\n",
    "top5 = co['country'].value_counts().tail(5)\n",
    "\n",
    "x = top5\n",
    "y = top5['low'].index.tolist()\n",
    "\n",
    "fig, ex = plt.subplots(figsize=(10, 6))\n",
    "explode = (0.1,0.1,0.1,0.1,0.1)\n",
    "plt.pie(x, explode=explode,labels=y, autopct='%1.1f%%', shadow=True)\n",
    "plt.title('- Top 5 Countries with Most Low Income Earners -',fontsize = 25)\n",
    "plt.show()"
   ]
  },
  {
   "cell_type": "markdown",
   "metadata": {},
   "source": [
    "co = salary.groupby('salary_range')\n",
    "top5 = co['country'].value_counts().tail(5)\n",
    "\n",
    "x = top5\n",
    "y = top5['high'].index.tolist()\n",
    "\n",
    "fig, ex = plt.subplots(figsize=(10, 6))\n",
    "explode = (0.1,0.1,0.1,0.1,0.1)\n",
    "plt.pie(x, explode=explode,labels=y, autopct='%1.1f%%', shadow=True)\n",
    "plt.title('- Top 5 Countries with Most Low Income Earners -',fontsize = 25)\n",
    "plt.show()"
   ]
  },
  {
   "cell_type": "markdown",
   "metadata": {},
   "source": [
    "### Honduras has the highest number of people that are considered in the low salary range"
   ]
  },
  {
   "cell_type": "code",
   "execution_count": 20,
   "metadata": {},
   "outputs": [
    {
     "data": {
      "text/plain": [
       "Text(0.5, 1.0, '- Top 5 Countries with Most Number of High Income Earners -')"
      ]
     },
     "execution_count": 20,
     "metadata": {},
     "output_type": "execute_result"
    },
    {
     "data": {
      "image/png": "[encoded data removed]",
      "text/plain": [
       "<Figure size 1080x576 with 1 Axes>"
      ]
     },
     "metadata": {
      "needs_background": "light"
     },
     "output_type": "display_data"
    }
   ],
   "source": [
    "co = salary.groupby('salary_range')\n",
    "top5 = co['country'].value_counts().head(5)\n",
    "\n",
    "x = top5\n",
    "y = top5['high'].index.tolist()\n",
    "\n",
    "plt.figure(figsize =(15,8))\n",
    "sb.barplot(x=x,y=y,data=salary,palette='vlag')\n",
    "\n",
    "plt.xlabel('Number of People',fontsize = 15,color='blue')\n",
    "plt.ylabel('Countries',fontsize = 15,color='blue')\n",
    "plt.title('- Top 5 Countries with Most Number of High Income Earners -',fontsize = 25)"
   ]
  },
  {
   "cell_type": "markdown",
   "metadata": {},
   "source": [
    "**Sort this into top 5 and the rest become \"others\""
   ]
  },
  {
   "cell_type": "markdown",
   "metadata": {},
   "source": [
    "#### Education"
   ]
  },
  {
   "cell_type": "code",
   "execution_count": 21,
   "metadata": {},
   "outputs": [
    {
     "data": {
      "image/png": "[encoded data removed]",
      "text/plain": [
       "<Figure size 432x288 with 1 Axes>"
      ]
     },
     "metadata": {
      "needs_background": "light"
     },
     "output_type": "display_data"
    }
   ],
   "source": [
    "plot = sb.countplot(salary['education'])\n",
    "plot.set_xticklabels(plot.get_xticklabels(),rotation=90)\n",
    "plt.show()"
   ]
  },
  {
   "cell_type": "markdown",
   "metadata": {},
   "source": [
    "#### Salary Range (Target)"
   ]
  },
  {
   "cell_type": "code",
   "execution_count": 22,
   "metadata": {},
   "outputs": [
    {
     "data": {
      "text/plain": [
       "[Text(0, 0, 'low'), Text(0, 0, 'high')]"
      ]
     },
     "execution_count": 22,
     "metadata": {},
     "output_type": "execute_result"
    },
    {
     "data": {
      "image/png": "[encoded data removed]",
      "text/plain": [
       "<Figure size 432x288 with 1 Axes>"
      ]
     },
     "metadata": {
      "needs_background": "light"
     },
     "output_type": "display_data"
    }
   ],
   "source": [
    "plot = sb.countplot(salary['salary_range'])\n",
    "plot.set_xticklabels(plot.get_xticklabels())"
   ]
  },
  {
   "cell_type": "markdown",
   "metadata": {},
   "source": [
    "---"
   ]
  },
  {
   "cell_type": "markdown",
   "metadata": {},
   "source": [
    "# Data Preprocessing"
   ]
  },
  {
   "cell_type": "markdown",
   "metadata": {},
   "source": [
    "### Handle Missing Data"
   ]
  },
  {
   "cell_type": "code",
   "execution_count": 23,
   "metadata": {
    "scrolled": false
   },
   "outputs": [
    {
     "data": {
      "text/plain": [
       "work_type          1836\n",
       "age                   0\n",
       "weight                0\n",
       "education             0\n",
       "education_years       9\n",
       "marital_status        0\n",
       "occupation         1843\n",
       "relationship          0\n",
       "race                  0\n",
       "sex                   0\n",
       "investment_gain       0\n",
       "investment_loss       0\n",
       "company_size          0\n",
       "weekly_hours          0\n",
       "country             583\n",
       "salary_range          0\n",
       "dtype: int64"
      ]
     },
     "execution_count": 23,
     "metadata": {},
     "output_type": "execute_result"
    }
   ],
   "source": [
    "salary.isnull().sum()"
   ]
  },
  {
   "cell_type": "code",
   "execution_count": 24,
   "metadata": {
    "scrolled": true
   },
   "outputs": [
    {
     "name": "stdout",
     "output_type": "stream",
     "text": [
      "Original Attribute Shape: (32561, 16)\n",
      "Clean Attribute Shape: (30153, 16)\n"
     ]
    }
   ],
   "source": [
    "#Drop First - for new_salary \n",
    "import copy\n",
    "new_salary = copy.deepcopy(salary)\n",
    "new_salary.dropna(inplace = True)\n",
    "print('Original Attribute Shape:',salary.shape)\n",
    "print('Clean Attribute Shape:',new_salary.shape)"
   ]
  },
  {
   "cell_type": "markdown",
   "metadata": {},
   "source": [
    "from sklearn.impute import SimpleImputer   \n",
    "\n",
    "imputer = SimpleImputer(strategy = 'median')\n",
    "imputer.fit(salary)                              # compute the median     \n",
    "X_train_num_tr = imputer.transform(salary )       # fill up missing values with median value for the feature"
   ]
  },
  {
   "cell_type": "markdown",
   "metadata": {},
   "source": [
    "* Result: 32561-30153 = 2408 missing values (have been removed)"
   ]
  },
  {
   "cell_type": "code",
   "execution_count": 25,
   "metadata": {},
   "outputs": [
    {
     "data": {
      "text/plain": [
       "work_type          0\n",
       "age                0\n",
       "weight             0\n",
       "education          0\n",
       "education_years    0\n",
       "marital_status     0\n",
       "occupation         0\n",
       "relationship       0\n",
       "race               0\n",
       "sex                0\n",
       "investment_gain    0\n",
       "investment_loss    0\n",
       "company_size       0\n",
       "weekly_hours       0\n",
       "country            0\n",
       "salary_range       0\n",
       "dtype: int64"
      ]
     },
     "execution_count": 25,
     "metadata": {},
     "output_type": "execute_result"
    }
   ],
   "source": [
    "new_salary.isnull().sum()"
   ]
  },
  {
   "cell_type": "code",
   "execution_count": 26,
   "metadata": {
    "scrolled": false
   },
   "outputs": [
    {
     "data": {
      "text/html": [
       "<div>\n",
       "<style scoped>\n",
       "    .dataframe tbody tr th:only-of-type {\n",
       "        vertical-align: middle;\n",
       "    }\n",
       "\n",
       "    .dataframe tbody tr th {\n",
       "        vertical-align: top;\n",
       "    }\n",
       "\n",
       "    .dataframe thead th {\n",
       "        text-align: right;\n",
       "    }\n",
       "</style>\n",
       "<table border=\"1\" class=\"dataframe\">\n",
       "  <thead>\n",
       "    <tr style=\"text-align: right;\">\n",
       "      <th></th>\n",
       "      <th>work_type</th>\n",
       "      <th>age</th>\n",
       "      <th>weight</th>\n",
       "      <th>education</th>\n",
       "      <th>education_years</th>\n",
       "      <th>marital_status</th>\n",
       "      <th>occupation</th>\n",
       "      <th>relationship</th>\n",
       "      <th>race</th>\n",
       "      <th>sex</th>\n",
       "      <th>investment_gain</th>\n",
       "      <th>investment_loss</th>\n",
       "      <th>company_size</th>\n",
       "      <th>weekly_hours</th>\n",
       "      <th>country</th>\n",
       "      <th>salary_range</th>\n",
       "    </tr>\n",
       "  </thead>\n",
       "  <tbody>\n",
       "    <tr>\n",
       "      <th>0</th>\n",
       "      <td>Private</td>\n",
       "      <td>19</td>\n",
       "      <td>216804</td>\n",
       "      <td>7th-8th</td>\n",
       "      <td>4.0</td>\n",
       "      <td>Never-married</td>\n",
       "      <td>Other-service</td>\n",
       "      <td>Own-child</td>\n",
       "      <td>White</td>\n",
       "      <td>Male</td>\n",
       "      <td>0</td>\n",
       "      <td>0</td>\n",
       "      <td>825</td>\n",
       "      <td>33</td>\n",
       "      <td>United-States</td>\n",
       "      <td>low</td>\n",
       "    </tr>\n",
       "    <tr>\n",
       "      <th>1</th>\n",
       "      <td>Private</td>\n",
       "      <td>23</td>\n",
       "      <td>207546</td>\n",
       "      <td>11th</td>\n",
       "      <td>7.0</td>\n",
       "      <td>Married-civ-spouse</td>\n",
       "      <td>Machine-op-inspct</td>\n",
       "      <td>Husband</td>\n",
       "      <td>White</td>\n",
       "      <td>Male</td>\n",
       "      <td>0</td>\n",
       "      <td>0</td>\n",
       "      <td>865</td>\n",
       "      <td>40</td>\n",
       "      <td>United-States</td>\n",
       "      <td>low</td>\n",
       "    </tr>\n",
       "    <tr>\n",
       "      <th>2</th>\n",
       "      <td>Private</td>\n",
       "      <td>41</td>\n",
       "      <td>253759</td>\n",
       "      <td>HS-grad</td>\n",
       "      <td>9.0</td>\n",
       "      <td>Never-married</td>\n",
       "      <td>Sales</td>\n",
       "      <td>Unmarried</td>\n",
       "      <td>Black</td>\n",
       "      <td>Female</td>\n",
       "      <td>0</td>\n",
       "      <td>0</td>\n",
       "      <td>727</td>\n",
       "      <td>40</td>\n",
       "      <td>United-States</td>\n",
       "      <td>low</td>\n",
       "    </tr>\n",
       "    <tr>\n",
       "      <th>3</th>\n",
       "      <td>Private</td>\n",
       "      <td>28</td>\n",
       "      <td>180928</td>\n",
       "      <td>Some-college</td>\n",
       "      <td>10.0</td>\n",
       "      <td>Married-civ-spouse</td>\n",
       "      <td>Handlers-cleaners</td>\n",
       "      <td>Husband</td>\n",
       "      <td>White</td>\n",
       "      <td>Male</td>\n",
       "      <td>5013</td>\n",
       "      <td>0</td>\n",
       "      <td>328</td>\n",
       "      <td>55</td>\n",
       "      <td>United-States</td>\n",
       "      <td>low</td>\n",
       "    </tr>\n",
       "    <tr>\n",
       "      <th>4</th>\n",
       "      <td>Private</td>\n",
       "      <td>17</td>\n",
       "      <td>208463</td>\n",
       "      <td>HS-grad</td>\n",
       "      <td>9.0</td>\n",
       "      <td>Never-married</td>\n",
       "      <td>Sales</td>\n",
       "      <td>Own-child</td>\n",
       "      <td>White</td>\n",
       "      <td>Female</td>\n",
       "      <td>0</td>\n",
       "      <td>0</td>\n",
       "      <td>977</td>\n",
       "      <td>20</td>\n",
       "      <td>United-States</td>\n",
       "      <td>low</td>\n",
       "    </tr>\n",
       "    <tr>\n",
       "      <th>5</th>\n",
       "      <td>Private</td>\n",
       "      <td>73</td>\n",
       "      <td>333676</td>\n",
       "      <td>HS-grad</td>\n",
       "      <td>9.0</td>\n",
       "      <td>Married-civ-spouse</td>\n",
       "      <td>Farming-fishing</td>\n",
       "      <td>Husband</td>\n",
       "      <td>White</td>\n",
       "      <td>Male</td>\n",
       "      <td>0</td>\n",
       "      <td>0</td>\n",
       "      <td>118</td>\n",
       "      <td>50</td>\n",
       "      <td>United-States</td>\n",
       "      <td>low</td>\n",
       "    </tr>\n",
       "    <tr>\n",
       "      <th>6</th>\n",
       "      <td>Local-gov</td>\n",
       "      <td>65</td>\n",
       "      <td>24824</td>\n",
       "      <td>HS-grad</td>\n",
       "      <td>9.0</td>\n",
       "      <td>Married-civ-spouse</td>\n",
       "      <td>Craft-repair</td>\n",
       "      <td>Husband</td>\n",
       "      <td>White</td>\n",
       "      <td>Male</td>\n",
       "      <td>0</td>\n",
       "      <td>0</td>\n",
       "      <td>793</td>\n",
       "      <td>40</td>\n",
       "      <td>United-States</td>\n",
       "      <td>low</td>\n",
       "    </tr>\n",
       "    <tr>\n",
       "      <th>7</th>\n",
       "      <td>Private</td>\n",
       "      <td>37</td>\n",
       "      <td>96330</td>\n",
       "      <td>Some-college</td>\n",
       "      <td>10.0</td>\n",
       "      <td>Never-married</td>\n",
       "      <td>Exec-managerial</td>\n",
       "      <td>Unmarried</td>\n",
       "      <td>Black</td>\n",
       "      <td>Female</td>\n",
       "      <td>0</td>\n",
       "      <td>0</td>\n",
       "      <td>193</td>\n",
       "      <td>40</td>\n",
       "      <td>United-States</td>\n",
       "      <td>low</td>\n",
       "    </tr>\n",
       "    <tr>\n",
       "      <th>8</th>\n",
       "      <td>Private</td>\n",
       "      <td>53</td>\n",
       "      <td>47396</td>\n",
       "      <td>HS-grad</td>\n",
       "      <td>9.0</td>\n",
       "      <td>Married-civ-spouse</td>\n",
       "      <td>Craft-repair</td>\n",
       "      <td>Husband</td>\n",
       "      <td>White</td>\n",
       "      <td>Male</td>\n",
       "      <td>0</td>\n",
       "      <td>0</td>\n",
       "      <td>427</td>\n",
       "      <td>40</td>\n",
       "      <td>United-States</td>\n",
       "      <td>low</td>\n",
       "    </tr>\n",
       "    <tr>\n",
       "      <th>10</th>\n",
       "      <td>Local-gov</td>\n",
       "      <td>30</td>\n",
       "      <td>44566</td>\n",
       "      <td>Bachelors</td>\n",
       "      <td>13.0</td>\n",
       "      <td>Married-civ-spouse</td>\n",
       "      <td>Prof-specialty</td>\n",
       "      <td>Husband</td>\n",
       "      <td>White</td>\n",
       "      <td>Male</td>\n",
       "      <td>0</td>\n",
       "      <td>0</td>\n",
       "      <td>833</td>\n",
       "      <td>80</td>\n",
       "      <td>United-States</td>\n",
       "      <td>low</td>\n",
       "    </tr>\n",
       "  </tbody>\n",
       "</table>\n",
       "</div>"
      ],
      "text/plain": [
       "    work_type  age  weight     education  education_years      marital_status  \\\n",
       "0     Private   19  216804       7th-8th              4.0       Never-married   \n",
       "1     Private   23  207546          11th              7.0  Married-civ-spouse   \n",
       "2     Private   41  253759       HS-grad              9.0       Never-married   \n",
       "3     Private   28  180928  Some-college             10.0  Married-civ-spouse   \n",
       "4     Private   17  208463       HS-grad              9.0       Never-married   \n",
       "5     Private   73  333676       HS-grad              9.0  Married-civ-spouse   \n",
       "6   Local-gov   65   24824       HS-grad              9.0  Married-civ-spouse   \n",
       "7     Private   37   96330  Some-college             10.0       Never-married   \n",
       "8     Private   53   47396       HS-grad              9.0  Married-civ-spouse   \n",
       "10  Local-gov   30   44566     Bachelors             13.0  Married-civ-spouse   \n",
       "\n",
       "           occupation relationship   race     sex  investment_gain  \\\n",
       "0       Other-service    Own-child  White    Male                0   \n",
       "1   Machine-op-inspct      Husband  White    Male                0   \n",
       "2               Sales    Unmarried  Black  Female                0   \n",
       "3   Handlers-cleaners      Husband  White    Male             5013   \n",
       "4               Sales    Own-child  White  Female                0   \n",
       "5     Farming-fishing      Husband  White    Male                0   \n",
       "6        Craft-repair      Husband  White    Male                0   \n",
       "7     Exec-managerial    Unmarried  Black  Female                0   \n",
       "8        Craft-repair      Husband  White    Male                0   \n",
       "10     Prof-specialty      Husband  White    Male                0   \n",
       "\n",
       "    investment_loss  company_size  weekly_hours        country salary_range  \n",
       "0                 0           825            33  United-States          low  \n",
       "1                 0           865            40  United-States          low  \n",
       "2                 0           727            40  United-States          low  \n",
       "3                 0           328            55  United-States          low  \n",
       "4                 0           977            20  United-States          low  \n",
       "5                 0           118            50  United-States          low  \n",
       "6                 0           793            40  United-States          low  \n",
       "7                 0           193            40  United-States          low  \n",
       "8                 0           427            40  United-States          low  \n",
       "10                0           833            80  United-States          low  "
      ]
     },
     "execution_count": 26,
     "metadata": {},
     "output_type": "execute_result"
    }
   ],
   "source": [
    "new_salary.head(10)"
   ]
  },
  {
   "cell_type": "code",
   "execution_count": 27,
   "metadata": {
    "scrolled": false
   },
   "outputs": [
    {
     "name": "stdout",
     "output_type": "stream",
     "text": [
      "<class 'pandas.core.frame.DataFrame'>\n",
      "Int64Index: 30153 entries, 0 to 32558\n",
      "Data columns (total 16 columns):\n",
      " #   Column           Non-Null Count  Dtype  \n",
      "---  ------           --------------  -----  \n",
      " 0   work_type        30153 non-null  object \n",
      " 1   age              30153 non-null  int64  \n",
      " 2   weight           30153 non-null  int64  \n",
      " 3   education        30153 non-null  object \n",
      " 4   education_years  30153 non-null  float64\n",
      " 5   marital_status   30153 non-null  object \n",
      " 6   occupation       30153 non-null  object \n",
      " 7   relationship     30153 non-null  object \n",
      " 8   race             30153 non-null  object \n",
      " 9   sex              30153 non-null  object \n",
      " 10  investment_gain  30153 non-null  int64  \n",
      " 11  investment_loss  30153 non-null  int64  \n",
      " 12  company_size     30153 non-null  int64  \n",
      " 13  weekly_hours     30153 non-null  int64  \n",
      " 14  country          30153 non-null  object \n",
      " 15  salary_range     30153 non-null  object \n",
      "dtypes: float64(1), int64(6), object(9)\n",
      "memory usage: 3.9+ MB\n"
     ]
    }
   ],
   "source": [
    "new_salary.info()"
   ]
  },
  {
   "cell_type": "code",
   "execution_count": 28,
   "metadata": {
    "scrolled": true
   },
   "outputs": [
    {
     "name": "stdout",
     "output_type": "stream",
     "text": [
      "---- work_type ---\n",
      "Private             22279\n",
      "Self-emp-not-inc     2498\n",
      "Local-gov            2067\n",
      "State-gov            1279\n",
      "Self-emp-inc         1074\n",
      "Federal-gov           942\n",
      "Without-pay            14\n",
      "Name: work_type, dtype: int64\n",
      "---- age ---\n",
      "36    852\n",
      "31    851\n",
      "33    837\n",
      "34    836\n",
      "37    828\n",
      "     ... \n",
      "82      7\n",
      "83      5\n",
      "88      3\n",
      "85      3\n",
      "86      1\n",
      "Name: age, Length: 72, dtype: int64\n",
      "---- weight ---\n",
      "203488    13\n",
      "113364    12\n",
      "164190    12\n",
      "148995    12\n",
      "121124    12\n",
      "          ..\n",
      "144515     1\n",
      "297152     1\n",
      "240150     1\n",
      "236487     1\n",
      "229376     1\n",
      "Name: weight, Length: 20260, dtype: int64\n",
      "---- education ---\n",
      "HS-grad         9838\n",
      "Some-college    6675\n",
      "Bachelors       5043\n",
      "Masters         1627\n",
      "Assoc-voc       1306\n",
      "11th            1048\n",
      "Assoc-acdm      1008\n",
      "10th             819\n",
      "7th-8th          557\n",
      "Prof-school      541\n",
      "9th              455\n",
      "12th             377\n",
      "Doctorate        375\n",
      "5th-6th          288\n",
      "1st-4th          151\n",
      "Preschool         45\n",
      "Name: education, dtype: int64\n",
      "---- education_years ---\n",
      "9.0     9838\n",
      "10.0    6675\n",
      "13.0    5043\n",
      "14.0    1627\n",
      "11.0    1306\n",
      "7.0     1048\n",
      "12.0    1008\n",
      "6.0      819\n",
      "4.0      557\n",
      "15.0     541\n",
      "5.0      455\n",
      "8.0      377\n",
      "16.0     375\n",
      "3.0      288\n",
      "2.0      151\n",
      "1.0       45\n",
      "Name: education_years, dtype: int64\n",
      "---- marital_status ---\n",
      "Married-civ-spouse       14061\n",
      "Never-married             9722\n",
      "Divorced                  4214\n",
      "Separated                  938\n",
      "Widowed                    827\n",
      "Married-spouse-absent      370\n",
      "Married-AF-spouse           21\n",
      "Name: marital_status, dtype: int64\n",
      "---- occupation ---\n",
      "Prof-specialty       4036\n",
      "Craft-repair         4030\n",
      "Exec-managerial      3992\n",
      "Adm-clerical         3721\n",
      "Sales                3581\n",
      "Other-service        3211\n",
      "Machine-op-inspct    1964\n",
      "Transport-moving     1572\n",
      "Handlers-cleaners    1350\n",
      "Farming-fishing       989\n",
      "Tech-support          912\n",
      "Protective-serv       644\n",
      "Priv-house-serv       142\n",
      "Armed-Forces            9\n",
      "Name: occupation, dtype: int64\n",
      "---- relationship ---\n",
      "Husband           12459\n",
      "Not-in-family      7723\n",
      "Own-child          4464\n",
      "Unmarried          3212\n",
      "Wife               1406\n",
      "Other-relative      889\n",
      "Name: relationship, dtype: int64\n",
      "---- race ---\n",
      "White                 25925\n",
      "Black                  2817\n",
      "Asian-Pac-Islander      895\n",
      "Amer-Indian-Eskimo      286\n",
      "Other                   230\n",
      "Name: race, dtype: int64\n",
      "---- sex ---\n",
      "Male      20373\n",
      "Female     9780\n",
      "Name: sex, dtype: int64\n",
      "---- investment_gain ---\n",
      "0        27615\n",
      "15024      337\n",
      "7688       270\n",
      "7298       240\n",
      "99999      148\n",
      "         ...  \n",
      "401          1\n",
      "22040        1\n",
      "4931         1\n",
      "1455         1\n",
      "1639         1\n",
      "Name: investment_gain, Length: 118, dtype: int64\n",
      "---- investment_loss ---\n",
      "0       28727\n",
      "1902      194\n",
      "1977      161\n",
      "1887      155\n",
      "1848       50\n",
      "        ...  \n",
      "419         1\n",
      "1411        1\n",
      "1539        1\n",
      "2472        1\n",
      "2467        1\n",
      "Name: investment_loss, Length: 90, dtype: int64\n",
      "---- company_size ---\n",
      "809    50\n",
      "854    49\n",
      "793    47\n",
      "537    47\n",
      "711    46\n",
      "       ..\n",
      "225    17\n",
      "61     16\n",
      "53     16\n",
      "794    16\n",
      "134    14\n",
      "Name: company_size, Length: 996, dtype: int64\n",
      "---- weekly_hours ---\n",
      "40    14247\n",
      "50     2717\n",
      "45     1752\n",
      "60     1404\n",
      "35     1183\n",
      "      ...  \n",
      "94        1\n",
      "87        1\n",
      "74        1\n",
      "82        1\n",
      "92        1\n",
      "Name: weekly_hours, Length: 94, dtype: int64\n",
      "---- country ---\n",
      "United-States                 27496\n",
      "Mexico                          610\n",
      "Philippines                     188\n",
      "Germany                         128\n",
      "Puerto-Rico                     109\n",
      "Canada                          107\n",
      "El-Salvador                     100\n",
      "India                            99\n",
      "Cuba                             92\n",
      "England                          86\n",
      "Jamaica                          80\n",
      "South                            71\n",
      "Italy                            68\n",
      "China                            68\n",
      "Dominican-Republic               67\n",
      "Vietnam                          64\n",
      "Guatemala                        63\n",
      "Japan                            59\n",
      "Columbia                         56\n",
      "Poland                           56\n",
      "Taiwan                           42\n",
      "Haiti                            42\n",
      "Iran                             42\n",
      "Portugal                         34\n",
      "Nicaragua                        33\n",
      "Peru                             30\n",
      "Greece                           29\n",
      "Ecuador                          27\n",
      "France                           27\n",
      "Ireland                          24\n",
      "Hong                             19\n",
      "Trinadad&Tobago                  18\n",
      "Cambodia                         18\n",
      "Laos                             17\n",
      "Thailand                         17\n",
      "Yugoslavia                       16\n",
      "Outlying-US(Guam-USVI-etc)       14\n",
      "Hungary                          13\n",
      "Honduras                         12\n",
      "Scotland                         11\n",
      "Holand-Netherlands                1\n",
      "Name: country, dtype: int64\n",
      "---- salary_range ---\n",
      "low     22647\n",
      "high     7506\n",
      "Name: salary_range, dtype: int64\n"
     ]
    }
   ],
   "source": [
    "#running a loop for value_counts of each column to find out unique values. \n",
    "for c in new_salary.columns:\n",
    "    print (\"---- %s ---\" % c)\n",
    "    print (new_salary[c].value_counts())"
   ]
  },
  {
   "cell_type": "markdown",
   "metadata": {},
   "source": [
    "---"
   ]
  },
  {
   "cell_type": "markdown",
   "metadata": {},
   "source": [
    "### Remove Outlier"
   ]
  },
  {
   "cell_type": "code",
   "execution_count": 29,
   "metadata": {},
   "outputs": [
    {
     "data": {
      "text/plain": [
       "<matplotlib.axes._subplots.AxesSubplot at 0x2d94ecd75e0>"
      ]
     },
     "execution_count": 29,
     "metadata": {},
     "output_type": "execute_result"
    },
    {
     "data": {
      "image/png": "[encoded data removed]",
      "text/plain": [
       "<Figure size 1440x720 with 1 Axes>"
      ]
     },
     "metadata": {
      "needs_background": "light"
     },
     "output_type": "display_data"
    }
   ],
   "source": [
    "new_salary.boxplot(figsize=(20,10))"
   ]
  },
  {
   "cell_type": "code",
   "execution_count": 30,
   "metadata": {},
   "outputs": [
    {
     "ename": "TypeError",
     "evalue": "unsupported operand type(s) for -: 'str' and 'float'",
     "output_type": "error",
     "traceback": [
      "\u001b[1;31m---------------------------------------------------------------------------\u001b[0m",
      "\u001b[1;31mTypeError\u001b[0m                                 Traceback (most recent call last)",
      "\u001b[1;32mC:\\ProgramData\\Anaconda3\\lib\\site-packages\\pandas\\core\\ops\\array_ops.py\u001b[0m in \u001b[0;36mna_arithmetic_op\u001b[1;34m(left, right, op, str_rep)\u001b[0m\n\u001b[0;32m    148\u001b[0m     \u001b[1;32mtry\u001b[0m\u001b[1;33m:\u001b[0m\u001b[1;33m\u001b[0m\u001b[1;33m\u001b[0m\u001b[0m\n\u001b[1;32m--> 149\u001b[1;33m         \u001b[0mresult\u001b[0m \u001b[1;33m=\u001b[0m \u001b[0mexpressions\u001b[0m\u001b[1;33m.\u001b[0m\u001b[0mevaluate\u001b[0m\u001b[1;33m(\u001b[0m\u001b[0mop\u001b[0m\u001b[1;33m,\u001b[0m \u001b[0mstr_rep\u001b[0m\u001b[1;33m,\u001b[0m \u001b[0mleft\u001b[0m\u001b[1;33m,\u001b[0m \u001b[0mright\u001b[0m\u001b[1;33m)\u001b[0m\u001b[1;33m\u001b[0m\u001b[1;33m\u001b[0m\u001b[0m\n\u001b[0m\u001b[0;32m    150\u001b[0m     \u001b[1;32mexcept\u001b[0m \u001b[0mTypeError\u001b[0m\u001b[1;33m:\u001b[0m\u001b[1;33m\u001b[0m\u001b[1;33m\u001b[0m\u001b[0m\n",
      "\u001b[1;32mC:\\ProgramData\\Anaconda3\\lib\\site-packages\\pandas\\core\\computation\\expressions.py\u001b[0m in \u001b[0;36mevaluate\u001b[1;34m(op, op_str, a, b, use_numexpr)\u001b[0m\n\u001b[0;32m    207\u001b[0m     \u001b[1;32mif\u001b[0m \u001b[0muse_numexpr\u001b[0m\u001b[1;33m:\u001b[0m\u001b[1;33m\u001b[0m\u001b[1;33m\u001b[0m\u001b[0m\n\u001b[1;32m--> 208\u001b[1;33m         \u001b[1;32mreturn\u001b[0m \u001b[0m_evaluate\u001b[0m\u001b[1;33m(\u001b[0m\u001b[0mop\u001b[0m\u001b[1;33m,\u001b[0m \u001b[0mop_str\u001b[0m\u001b[1;33m,\u001b[0m \u001b[0ma\u001b[0m\u001b[1;33m,\u001b[0m \u001b[0mb\u001b[0m\u001b[1;33m)\u001b[0m\u001b[1;33m\u001b[0m\u001b[1;33m\u001b[0m\u001b[0m\n\u001b[0m\u001b[0;32m    209\u001b[0m     \u001b[1;32mreturn\u001b[0m \u001b[0m_evaluate_standard\u001b[0m\u001b[1;33m(\u001b[0m\u001b[0mop\u001b[0m\u001b[1;33m,\u001b[0m \u001b[0mop_str\u001b[0m\u001b[1;33m,\u001b[0m \u001b[0ma\u001b[0m\u001b[1;33m,\u001b[0m \u001b[0mb\u001b[0m\u001b[1;33m)\u001b[0m\u001b[1;33m\u001b[0m\u001b[1;33m\u001b[0m\u001b[0m\n",
      "\u001b[1;32mC:\\ProgramData\\Anaconda3\\lib\\site-packages\\pandas\\core\\computation\\expressions.py\u001b[0m in \u001b[0;36m_evaluate_numexpr\u001b[1;34m(op, op_str, a, b)\u001b[0m\n\u001b[0;32m    120\u001b[0m     \u001b[1;32mif\u001b[0m \u001b[0mresult\u001b[0m \u001b[1;32mis\u001b[0m \u001b[1;32mNone\u001b[0m\u001b[1;33m:\u001b[0m\u001b[1;33m\u001b[0m\u001b[1;33m\u001b[0m\u001b[0m\n\u001b[1;32m--> 121\u001b[1;33m         \u001b[0mresult\u001b[0m \u001b[1;33m=\u001b[0m \u001b[0m_evaluate_standard\u001b[0m\u001b[1;33m(\u001b[0m\u001b[0mop\u001b[0m\u001b[1;33m,\u001b[0m \u001b[0mop_str\u001b[0m\u001b[1;33m,\u001b[0m \u001b[0ma\u001b[0m\u001b[1;33m,\u001b[0m \u001b[0mb\u001b[0m\u001b[1;33m)\u001b[0m\u001b[1;33m\u001b[0m\u001b[1;33m\u001b[0m\u001b[0m\n\u001b[0m\u001b[0;32m    122\u001b[0m \u001b[1;33m\u001b[0m\u001b[0m\n",
      "\u001b[1;32mC:\\ProgramData\\Anaconda3\\lib\\site-packages\\pandas\\core\\computation\\expressions.py\u001b[0m in \u001b[0;36m_evaluate_standard\u001b[1;34m(op, op_str, a, b)\u001b[0m\n\u001b[0;32m     69\u001b[0m     \u001b[1;32mwith\u001b[0m \u001b[0mnp\u001b[0m\u001b[1;33m.\u001b[0m\u001b[0merrstate\u001b[0m\u001b[1;33m(\u001b[0m\u001b[0mall\u001b[0m\u001b[1;33m=\u001b[0m\u001b[1;34m\"ignore\"\u001b[0m\u001b[1;33m)\u001b[0m\u001b[1;33m:\u001b[0m\u001b[1;33m\u001b[0m\u001b[1;33m\u001b[0m\u001b[0m\n\u001b[1;32m---> 70\u001b[1;33m         \u001b[1;32mreturn\u001b[0m \u001b[0mop\u001b[0m\u001b[1;33m(\u001b[0m\u001b[0ma\u001b[0m\u001b[1;33m,\u001b[0m \u001b[0mb\u001b[0m\u001b[1;33m)\u001b[0m\u001b[1;33m\u001b[0m\u001b[1;33m\u001b[0m\u001b[0m\n\u001b[0m\u001b[0;32m     71\u001b[0m \u001b[1;33m\u001b[0m\u001b[0m\n",
      "\u001b[1;31mTypeError\u001b[0m: unsupported operand type(s) for -: 'str' and 'float'",
      "\nDuring handling of the above exception, another exception occurred:\n",
      "\u001b[1;31mTypeError\u001b[0m                                 Traceback (most recent call last)",
      "\u001b[1;32m<ipython-input-30-691bca7e9bf6>\u001b[0m in \u001b[0;36m<module>\u001b[1;34m\u001b[0m\n\u001b[1;32m----> 1\u001b[1;33m \u001b[0mZ\u001b[0m \u001b[1;33m=\u001b[0m \u001b[1;33m(\u001b[0m\u001b[0mnew_salary\u001b[0m\u001b[1;33m-\u001b[0m\u001b[0mnew_salary\u001b[0m\u001b[1;33m.\u001b[0m\u001b[0mmean\u001b[0m\u001b[1;33m(\u001b[0m\u001b[1;33m)\u001b[0m\u001b[1;33m)\u001b[0m\u001b[1;33m/\u001b[0m\u001b[0mnew_salary\u001b[0m\u001b[1;33m.\u001b[0m\u001b[0mstd\u001b[0m\u001b[1;33m(\u001b[0m\u001b[1;33m)\u001b[0m\u001b[1;33m\u001b[0m\u001b[1;33m\u001b[0m\u001b[0m\n\u001b[0m\u001b[0;32m      2\u001b[0m \u001b[0mZ\u001b[0m\u001b[1;33m.\u001b[0m\u001b[0mdescribe\u001b[0m\u001b[1;33m(\u001b[0m\u001b[1;33m)\u001b[0m\u001b[1;33m\u001b[0m\u001b[1;33m\u001b[0m\u001b[0m\n",
      "\u001b[1;32mC:\\ProgramData\\Anaconda3\\lib\\site-packages\\pandas\\core\\ops\\__init__.py\u001b[0m in \u001b[0;36mf\u001b[1;34m(self, other, axis, level, fill_value)\u001b[0m\n\u001b[0;32m    773\u001b[0m             \u001b[0mpass_op\u001b[0m \u001b[1;33m=\u001b[0m \u001b[0mop\u001b[0m \u001b[1;32mif\u001b[0m \u001b[0maxis\u001b[0m \u001b[1;32min\u001b[0m \u001b[1;33m[\u001b[0m\u001b[1;36m0\u001b[0m\u001b[1;33m,\u001b[0m \u001b[1;34m\"columns\"\u001b[0m\u001b[1;33m,\u001b[0m \u001b[1;32mNone\u001b[0m\u001b[1;33m]\u001b[0m \u001b[1;32melse\u001b[0m \u001b[0mna_op\u001b[0m\u001b[1;33m\u001b[0m\u001b[1;33m\u001b[0m\u001b[0m\n\u001b[0;32m    774\u001b[0m             \u001b[0mpass_op\u001b[0m \u001b[1;33m=\u001b[0m \u001b[0mpass_op\u001b[0m \u001b[1;32mif\u001b[0m \u001b[1;32mnot\u001b[0m \u001b[0mis_logical\u001b[0m \u001b[1;32melse\u001b[0m \u001b[0mop\u001b[0m\u001b[1;33m\u001b[0m\u001b[1;33m\u001b[0m\u001b[0m\n\u001b[1;32m--> 775\u001b[1;33m             return _combine_series_frame(\n\u001b[0m\u001b[0;32m    776\u001b[0m                 \u001b[0mself\u001b[0m\u001b[1;33m,\u001b[0m \u001b[0mother\u001b[0m\u001b[1;33m,\u001b[0m \u001b[0mpass_op\u001b[0m\u001b[1;33m,\u001b[0m \u001b[0mfill_value\u001b[0m\u001b[1;33m=\u001b[0m\u001b[0mfill_value\u001b[0m\u001b[1;33m,\u001b[0m \u001b[0maxis\u001b[0m\u001b[1;33m=\u001b[0m\u001b[0maxis\u001b[0m\u001b[1;33m,\u001b[0m \u001b[0mlevel\u001b[0m\u001b[1;33m=\u001b[0m\u001b[0mlevel\u001b[0m\u001b[1;33m\u001b[0m\u001b[1;33m\u001b[0m\u001b[0m\n\u001b[0;32m    777\u001b[0m             )\n",
      "\u001b[1;32mC:\\ProgramData\\Anaconda3\\lib\\site-packages\\pandas\\core\\ops\\__init__.py\u001b[0m in \u001b[0;36m_combine_series_frame\u001b[1;34m(self, other, func, fill_value, axis, level)\u001b[0m\n\u001b[0;32m    618\u001b[0m         \u001b[0mnew_data\u001b[0m \u001b[1;33m=\u001b[0m \u001b[0mleft\u001b[0m\u001b[1;33m.\u001b[0m\u001b[0m_combine_match_index\u001b[0m\u001b[1;33m(\u001b[0m\u001b[0mright\u001b[0m\u001b[1;33m,\u001b[0m \u001b[0mfunc\u001b[0m\u001b[1;33m)\u001b[0m\u001b[1;33m\u001b[0m\u001b[1;33m\u001b[0m\u001b[0m\n\u001b[0;32m    619\u001b[0m     \u001b[1;32melse\u001b[0m\u001b[1;33m:\u001b[0m\u001b[1;33m\u001b[0m\u001b[1;33m\u001b[0m\u001b[0m\n\u001b[1;32m--> 620\u001b[1;33m         \u001b[0mnew_data\u001b[0m \u001b[1;33m=\u001b[0m \u001b[0mdispatch_to_series\u001b[0m\u001b[1;33m(\u001b[0m\u001b[0mleft\u001b[0m\u001b[1;33m,\u001b[0m \u001b[0mright\u001b[0m\u001b[1;33m,\u001b[0m \u001b[0mfunc\u001b[0m\u001b[1;33m,\u001b[0m \u001b[0maxis\u001b[0m\u001b[1;33m=\u001b[0m\u001b[1;34m\"columns\"\u001b[0m\u001b[1;33m)\u001b[0m\u001b[1;33m\u001b[0m\u001b[1;33m\u001b[0m\u001b[0m\n\u001b[0m\u001b[0;32m    621\u001b[0m \u001b[1;33m\u001b[0m\u001b[0m\n\u001b[0;32m    622\u001b[0m     \u001b[1;32mreturn\u001b[0m \u001b[0mleft\u001b[0m\u001b[1;33m.\u001b[0m\u001b[0m_construct_result\u001b[0m\u001b[1;33m(\u001b[0m\u001b[0mnew_data\u001b[0m\u001b[1;33m)\u001b[0m\u001b[1;33m\u001b[0m\u001b[1;33m\u001b[0m\u001b[0m\n",
      "\u001b[1;32mC:\\ProgramData\\Anaconda3\\lib\\site-packages\\pandas\\core\\ops\\__init__.py\u001b[0m in \u001b[0;36mdispatch_to_series\u001b[1;34m(left, right, func, str_rep, axis)\u001b[0m\n\u001b[0;32m    417\u001b[0m         \u001b[1;32mraise\u001b[0m \u001b[0mNotImplementedError\u001b[0m\u001b[1;33m(\u001b[0m\u001b[0mright\u001b[0m\u001b[1;33m)\u001b[0m\u001b[1;33m\u001b[0m\u001b[1;33m\u001b[0m\u001b[0m\n\u001b[0;32m    418\u001b[0m \u001b[1;33m\u001b[0m\u001b[0m\n\u001b[1;32m--> 419\u001b[1;33m     \u001b[0mnew_data\u001b[0m \u001b[1;33m=\u001b[0m \u001b[0mexpressions\u001b[0m\u001b[1;33m.\u001b[0m\u001b[0mevaluate\u001b[0m\u001b[1;33m(\u001b[0m\u001b[0mcolumn_op\u001b[0m\u001b[1;33m,\u001b[0m \u001b[0mstr_rep\u001b[0m\u001b[1;33m,\u001b[0m \u001b[0mleft\u001b[0m\u001b[1;33m,\u001b[0m \u001b[0mright\u001b[0m\u001b[1;33m)\u001b[0m\u001b[1;33m\u001b[0m\u001b[1;33m\u001b[0m\u001b[0m\n\u001b[0m\u001b[0;32m    420\u001b[0m     \u001b[1;32mreturn\u001b[0m \u001b[0mnew_data\u001b[0m\u001b[1;33m\u001b[0m\u001b[1;33m\u001b[0m\u001b[0m\n\u001b[0;32m    421\u001b[0m \u001b[1;33m\u001b[0m\u001b[0m\n",
      "\u001b[1;32mC:\\ProgramData\\Anaconda3\\lib\\site-packages\\pandas\\core\\computation\\expressions.py\u001b[0m in \u001b[0;36mevaluate\u001b[1;34m(op, op_str, a, b, use_numexpr)\u001b[0m\n\u001b[0;32m    206\u001b[0m     \u001b[0muse_numexpr\u001b[0m \u001b[1;33m=\u001b[0m \u001b[0muse_numexpr\u001b[0m \u001b[1;32mand\u001b[0m \u001b[0m_bool_arith_check\u001b[0m\u001b[1;33m(\u001b[0m\u001b[0mop_str\u001b[0m\u001b[1;33m,\u001b[0m \u001b[0ma\u001b[0m\u001b[1;33m,\u001b[0m \u001b[0mb\u001b[0m\u001b[1;33m)\u001b[0m\u001b[1;33m\u001b[0m\u001b[1;33m\u001b[0m\u001b[0m\n\u001b[0;32m    207\u001b[0m     \u001b[1;32mif\u001b[0m \u001b[0muse_numexpr\u001b[0m\u001b[1;33m:\u001b[0m\u001b[1;33m\u001b[0m\u001b[1;33m\u001b[0m\u001b[0m\n\u001b[1;32m--> 208\u001b[1;33m         \u001b[1;32mreturn\u001b[0m \u001b[0m_evaluate\u001b[0m\u001b[1;33m(\u001b[0m\u001b[0mop\u001b[0m\u001b[1;33m,\u001b[0m \u001b[0mop_str\u001b[0m\u001b[1;33m,\u001b[0m \u001b[0ma\u001b[0m\u001b[1;33m,\u001b[0m \u001b[0mb\u001b[0m\u001b[1;33m)\u001b[0m\u001b[1;33m\u001b[0m\u001b[1;33m\u001b[0m\u001b[0m\n\u001b[0m\u001b[0;32m    209\u001b[0m     \u001b[1;32mreturn\u001b[0m \u001b[0m_evaluate_standard\u001b[0m\u001b[1;33m(\u001b[0m\u001b[0mop\u001b[0m\u001b[1;33m,\u001b[0m \u001b[0mop_str\u001b[0m\u001b[1;33m,\u001b[0m \u001b[0ma\u001b[0m\u001b[1;33m,\u001b[0m \u001b[0mb\u001b[0m\u001b[1;33m)\u001b[0m\u001b[1;33m\u001b[0m\u001b[1;33m\u001b[0m\u001b[0m\n\u001b[0;32m    210\u001b[0m \u001b[1;33m\u001b[0m\u001b[0m\n",
      "\u001b[1;32mC:\\ProgramData\\Anaconda3\\lib\\site-packages\\pandas\\core\\computation\\expressions.py\u001b[0m in \u001b[0;36m_evaluate_numexpr\u001b[1;34m(op, op_str, a, b)\u001b[0m\n\u001b[0;32m    119\u001b[0m \u001b[1;33m\u001b[0m\u001b[0m\n\u001b[0;32m    120\u001b[0m     \u001b[1;32mif\u001b[0m \u001b[0mresult\u001b[0m \u001b[1;32mis\u001b[0m \u001b[1;32mNone\u001b[0m\u001b[1;33m:\u001b[0m\u001b[1;33m\u001b[0m\u001b[1;33m\u001b[0m\u001b[0m\n\u001b[1;32m--> 121\u001b[1;33m         \u001b[0mresult\u001b[0m \u001b[1;33m=\u001b[0m \u001b[0m_evaluate_standard\u001b[0m\u001b[1;33m(\u001b[0m\u001b[0mop\u001b[0m\u001b[1;33m,\u001b[0m \u001b[0mop_str\u001b[0m\u001b[1;33m,\u001b[0m \u001b[0ma\u001b[0m\u001b[1;33m,\u001b[0m \u001b[0mb\u001b[0m\u001b[1;33m)\u001b[0m\u001b[1;33m\u001b[0m\u001b[1;33m\u001b[0m\u001b[0m\n\u001b[0m\u001b[0;32m    122\u001b[0m \u001b[1;33m\u001b[0m\u001b[0m\n\u001b[0;32m    123\u001b[0m     \u001b[1;32mreturn\u001b[0m \u001b[0mresult\u001b[0m\u001b[1;33m\u001b[0m\u001b[1;33m\u001b[0m\u001b[0m\n",
      "\u001b[1;32mC:\\ProgramData\\Anaconda3\\lib\\site-packages\\pandas\\core\\computation\\expressions.py\u001b[0m in \u001b[0;36m_evaluate_standard\u001b[1;34m(op, op_str, a, b)\u001b[0m\n\u001b[0;32m     68\u001b[0m         \u001b[0m_store_test_result\u001b[0m\u001b[1;33m(\u001b[0m\u001b[1;32mFalse\u001b[0m\u001b[1;33m)\u001b[0m\u001b[1;33m\u001b[0m\u001b[1;33m\u001b[0m\u001b[0m\n\u001b[0;32m     69\u001b[0m     \u001b[1;32mwith\u001b[0m \u001b[0mnp\u001b[0m\u001b[1;33m.\u001b[0m\u001b[0merrstate\u001b[0m\u001b[1;33m(\u001b[0m\u001b[0mall\u001b[0m\u001b[1;33m=\u001b[0m\u001b[1;34m\"ignore\"\u001b[0m\u001b[1;33m)\u001b[0m\u001b[1;33m:\u001b[0m\u001b[1;33m\u001b[0m\u001b[1;33m\u001b[0m\u001b[0m\n\u001b[1;32m---> 70\u001b[1;33m         \u001b[1;32mreturn\u001b[0m \u001b[0mop\u001b[0m\u001b[1;33m(\u001b[0m\u001b[0ma\u001b[0m\u001b[1;33m,\u001b[0m \u001b[0mb\u001b[0m\u001b[1;33m)\u001b[0m\u001b[1;33m\u001b[0m\u001b[1;33m\u001b[0m\u001b[0m\n\u001b[0m\u001b[0;32m     71\u001b[0m \u001b[1;33m\u001b[0m\u001b[0m\n\u001b[0;32m     72\u001b[0m \u001b[1;33m\u001b[0m\u001b[0m\n",
      "\u001b[1;32mC:\\ProgramData\\Anaconda3\\lib\\site-packages\\pandas\\core\\ops\\__init__.py\u001b[0m in \u001b[0;36mcolumn_op\u001b[1;34m(a, b)\u001b[0m\n\u001b[0;32m    405\u001b[0m \u001b[1;33m\u001b[0m\u001b[0m\n\u001b[0;32m    406\u001b[0m             \u001b[1;32mdef\u001b[0m \u001b[0mcolumn_op\u001b[0m\u001b[1;33m(\u001b[0m\u001b[0ma\u001b[0m\u001b[1;33m,\u001b[0m \u001b[0mb\u001b[0m\u001b[1;33m)\u001b[0m\u001b[1;33m:\u001b[0m\u001b[1;33m\u001b[0m\u001b[1;33m\u001b[0m\u001b[0m\n\u001b[1;32m--> 407\u001b[1;33m                 \u001b[1;32mreturn\u001b[0m \u001b[1;33m{\u001b[0m\u001b[0mi\u001b[0m\u001b[1;33m:\u001b[0m \u001b[0mfunc\u001b[0m\u001b[1;33m(\u001b[0m\u001b[0ma\u001b[0m\u001b[1;33m.\u001b[0m\u001b[0miloc\u001b[0m\u001b[1;33m[\u001b[0m\u001b[1;33m:\u001b[0m\u001b[1;33m,\u001b[0m \u001b[0mi\u001b[0m\u001b[1;33m]\u001b[0m\u001b[1;33m,\u001b[0m \u001b[0mb\u001b[0m\u001b[1;33m.\u001b[0m\u001b[0miloc\u001b[0m\u001b[1;33m[\u001b[0m\u001b[0mi\u001b[0m\u001b[1;33m]\u001b[0m\u001b[1;33m)\u001b[0m \u001b[1;32mfor\u001b[0m \u001b[0mi\u001b[0m \u001b[1;32min\u001b[0m \u001b[0mrange\u001b[0m\u001b[1;33m(\u001b[0m\u001b[0mlen\u001b[0m\u001b[1;33m(\u001b[0m\u001b[0ma\u001b[0m\u001b[1;33m.\u001b[0m\u001b[0mcolumns\u001b[0m\u001b[1;33m)\u001b[0m\u001b[1;33m)\u001b[0m\u001b[1;33m}\u001b[0m\u001b[1;33m\u001b[0m\u001b[1;33m\u001b[0m\u001b[0m\n\u001b[0m\u001b[0;32m    408\u001b[0m \u001b[1;33m\u001b[0m\u001b[0m\n\u001b[0;32m    409\u001b[0m     \u001b[1;32melif\u001b[0m \u001b[0misinstance\u001b[0m\u001b[1;33m(\u001b[0m\u001b[0mright\u001b[0m\u001b[1;33m,\u001b[0m \u001b[0mABCSeries\u001b[0m\u001b[1;33m)\u001b[0m\u001b[1;33m:\u001b[0m\u001b[1;33m\u001b[0m\u001b[1;33m\u001b[0m\u001b[0m\n",
      "\u001b[1;32mC:\\ProgramData\\Anaconda3\\lib\\site-packages\\pandas\\core\\ops\\__init__.py\u001b[0m in \u001b[0;36m<dictcomp>\u001b[1;34m(.0)\u001b[0m\n\u001b[0;32m    405\u001b[0m \u001b[1;33m\u001b[0m\u001b[0m\n\u001b[0;32m    406\u001b[0m             \u001b[1;32mdef\u001b[0m \u001b[0mcolumn_op\u001b[0m\u001b[1;33m(\u001b[0m\u001b[0ma\u001b[0m\u001b[1;33m,\u001b[0m \u001b[0mb\u001b[0m\u001b[1;33m)\u001b[0m\u001b[1;33m:\u001b[0m\u001b[1;33m\u001b[0m\u001b[1;33m\u001b[0m\u001b[0m\n\u001b[1;32m--> 407\u001b[1;33m                 \u001b[1;32mreturn\u001b[0m \u001b[1;33m{\u001b[0m\u001b[0mi\u001b[0m\u001b[1;33m:\u001b[0m \u001b[0mfunc\u001b[0m\u001b[1;33m(\u001b[0m\u001b[0ma\u001b[0m\u001b[1;33m.\u001b[0m\u001b[0miloc\u001b[0m\u001b[1;33m[\u001b[0m\u001b[1;33m:\u001b[0m\u001b[1;33m,\u001b[0m \u001b[0mi\u001b[0m\u001b[1;33m]\u001b[0m\u001b[1;33m,\u001b[0m \u001b[0mb\u001b[0m\u001b[1;33m.\u001b[0m\u001b[0miloc\u001b[0m\u001b[1;33m[\u001b[0m\u001b[0mi\u001b[0m\u001b[1;33m]\u001b[0m\u001b[1;33m)\u001b[0m \u001b[1;32mfor\u001b[0m \u001b[0mi\u001b[0m \u001b[1;32min\u001b[0m \u001b[0mrange\u001b[0m\u001b[1;33m(\u001b[0m\u001b[0mlen\u001b[0m\u001b[1;33m(\u001b[0m\u001b[0ma\u001b[0m\u001b[1;33m.\u001b[0m\u001b[0mcolumns\u001b[0m\u001b[1;33m)\u001b[0m\u001b[1;33m)\u001b[0m\u001b[1;33m}\u001b[0m\u001b[1;33m\u001b[0m\u001b[1;33m\u001b[0m\u001b[0m\n\u001b[0m\u001b[0;32m    408\u001b[0m \u001b[1;33m\u001b[0m\u001b[0m\n\u001b[0;32m    409\u001b[0m     \u001b[1;32melif\u001b[0m \u001b[0misinstance\u001b[0m\u001b[1;33m(\u001b[0m\u001b[0mright\u001b[0m\u001b[1;33m,\u001b[0m \u001b[0mABCSeries\u001b[0m\u001b[1;33m)\u001b[0m\u001b[1;33m:\u001b[0m\u001b[1;33m\u001b[0m\u001b[1;33m\u001b[0m\u001b[0m\n",
      "\u001b[1;32mC:\\ProgramData\\Anaconda3\\lib\\site-packages\\pandas\\core\\ops\\common.py\u001b[0m in \u001b[0;36mnew_method\u001b[1;34m(self, other)\u001b[0m\n\u001b[0;32m     62\u001b[0m         \u001b[0mother\u001b[0m \u001b[1;33m=\u001b[0m \u001b[0mitem_from_zerodim\u001b[0m\u001b[1;33m(\u001b[0m\u001b[0mother\u001b[0m\u001b[1;33m)\u001b[0m\u001b[1;33m\u001b[0m\u001b[1;33m\u001b[0m\u001b[0m\n\u001b[0;32m     63\u001b[0m \u001b[1;33m\u001b[0m\u001b[0m\n\u001b[1;32m---> 64\u001b[1;33m         \u001b[1;32mreturn\u001b[0m \u001b[0mmethod\u001b[0m\u001b[1;33m(\u001b[0m\u001b[0mself\u001b[0m\u001b[1;33m,\u001b[0m \u001b[0mother\u001b[0m\u001b[1;33m)\u001b[0m\u001b[1;33m\u001b[0m\u001b[1;33m\u001b[0m\u001b[0m\n\u001b[0m\u001b[0;32m     65\u001b[0m \u001b[1;33m\u001b[0m\u001b[0m\n\u001b[0;32m     66\u001b[0m     \u001b[1;32mreturn\u001b[0m \u001b[0mnew_method\u001b[0m\u001b[1;33m\u001b[0m\u001b[1;33m\u001b[0m\u001b[0m\n",
      "\u001b[1;32mC:\\ProgramData\\Anaconda3\\lib\\site-packages\\pandas\\core\\ops\\__init__.py\u001b[0m in \u001b[0;36mwrapper\u001b[1;34m(left, right)\u001b[0m\n\u001b[0;32m    501\u001b[0m         \u001b[0mlvalues\u001b[0m \u001b[1;33m=\u001b[0m \u001b[0mextract_array\u001b[0m\u001b[1;33m(\u001b[0m\u001b[0mleft\u001b[0m\u001b[1;33m,\u001b[0m \u001b[0mextract_numpy\u001b[0m\u001b[1;33m=\u001b[0m\u001b[1;32mTrue\u001b[0m\u001b[1;33m)\u001b[0m\u001b[1;33m\u001b[0m\u001b[1;33m\u001b[0m\u001b[0m\n\u001b[0;32m    502\u001b[0m         \u001b[0mrvalues\u001b[0m \u001b[1;33m=\u001b[0m \u001b[0mextract_array\u001b[0m\u001b[1;33m(\u001b[0m\u001b[0mright\u001b[0m\u001b[1;33m,\u001b[0m \u001b[0mextract_numpy\u001b[0m\u001b[1;33m=\u001b[0m\u001b[1;32mTrue\u001b[0m\u001b[1;33m)\u001b[0m\u001b[1;33m\u001b[0m\u001b[1;33m\u001b[0m\u001b[0m\n\u001b[1;32m--> 503\u001b[1;33m         \u001b[0mresult\u001b[0m \u001b[1;33m=\u001b[0m \u001b[0marithmetic_op\u001b[0m\u001b[1;33m(\u001b[0m\u001b[0mlvalues\u001b[0m\u001b[1;33m,\u001b[0m \u001b[0mrvalues\u001b[0m\u001b[1;33m,\u001b[0m \u001b[0mop\u001b[0m\u001b[1;33m,\u001b[0m \u001b[0mstr_rep\u001b[0m\u001b[1;33m)\u001b[0m\u001b[1;33m\u001b[0m\u001b[1;33m\u001b[0m\u001b[0m\n\u001b[0m\u001b[0;32m    504\u001b[0m \u001b[1;33m\u001b[0m\u001b[0m\n\u001b[0;32m    505\u001b[0m         \u001b[1;32mreturn\u001b[0m \u001b[0m_construct_result\u001b[0m\u001b[1;33m(\u001b[0m\u001b[0mleft\u001b[0m\u001b[1;33m,\u001b[0m \u001b[0mresult\u001b[0m\u001b[1;33m,\u001b[0m \u001b[0mindex\u001b[0m\u001b[1;33m=\u001b[0m\u001b[0mleft\u001b[0m\u001b[1;33m.\u001b[0m\u001b[0mindex\u001b[0m\u001b[1;33m,\u001b[0m \u001b[0mname\u001b[0m\u001b[1;33m=\u001b[0m\u001b[0mres_name\u001b[0m\u001b[1;33m)\u001b[0m\u001b[1;33m\u001b[0m\u001b[1;33m\u001b[0m\u001b[0m\n",
      "\u001b[1;32mC:\\ProgramData\\Anaconda3\\lib\\site-packages\\pandas\\core\\ops\\array_ops.py\u001b[0m in \u001b[0;36marithmetic_op\u001b[1;34m(left, right, op, str_rep)\u001b[0m\n\u001b[0;32m    195\u001b[0m     \u001b[1;32melse\u001b[0m\u001b[1;33m:\u001b[0m\u001b[1;33m\u001b[0m\u001b[1;33m\u001b[0m\u001b[0m\n\u001b[0;32m    196\u001b[0m         \u001b[1;32mwith\u001b[0m \u001b[0mnp\u001b[0m\u001b[1;33m.\u001b[0m\u001b[0merrstate\u001b[0m\u001b[1;33m(\u001b[0m\u001b[0mall\u001b[0m\u001b[1;33m=\u001b[0m\u001b[1;34m\"ignore\"\u001b[0m\u001b[1;33m)\u001b[0m\u001b[1;33m:\u001b[0m\u001b[1;33m\u001b[0m\u001b[1;33m\u001b[0m\u001b[0m\n\u001b[1;32m--> 197\u001b[1;33m             \u001b[0mres_values\u001b[0m \u001b[1;33m=\u001b[0m \u001b[0mna_arithmetic_op\u001b[0m\u001b[1;33m(\u001b[0m\u001b[0mlvalues\u001b[0m\u001b[1;33m,\u001b[0m \u001b[0mrvalues\u001b[0m\u001b[1;33m,\u001b[0m \u001b[0mop\u001b[0m\u001b[1;33m,\u001b[0m \u001b[0mstr_rep\u001b[0m\u001b[1;33m)\u001b[0m\u001b[1;33m\u001b[0m\u001b[1;33m\u001b[0m\u001b[0m\n\u001b[0m\u001b[0;32m    198\u001b[0m \u001b[1;33m\u001b[0m\u001b[0m\n\u001b[0;32m    199\u001b[0m     \u001b[1;32mreturn\u001b[0m \u001b[0mres_values\u001b[0m\u001b[1;33m\u001b[0m\u001b[1;33m\u001b[0m\u001b[0m\n",
      "\u001b[1;32mC:\\ProgramData\\Anaconda3\\lib\\site-packages\\pandas\\core\\ops\\array_ops.py\u001b[0m in \u001b[0;36mna_arithmetic_op\u001b[1;34m(left, right, op, str_rep)\u001b[0m\n\u001b[0;32m    149\u001b[0m         \u001b[0mresult\u001b[0m \u001b[1;33m=\u001b[0m \u001b[0mexpressions\u001b[0m\u001b[1;33m.\u001b[0m\u001b[0mevaluate\u001b[0m\u001b[1;33m(\u001b[0m\u001b[0mop\u001b[0m\u001b[1;33m,\u001b[0m \u001b[0mstr_rep\u001b[0m\u001b[1;33m,\u001b[0m \u001b[0mleft\u001b[0m\u001b[1;33m,\u001b[0m \u001b[0mright\u001b[0m\u001b[1;33m)\u001b[0m\u001b[1;33m\u001b[0m\u001b[1;33m\u001b[0m\u001b[0m\n\u001b[0;32m    150\u001b[0m     \u001b[1;32mexcept\u001b[0m \u001b[0mTypeError\u001b[0m\u001b[1;33m:\u001b[0m\u001b[1;33m\u001b[0m\u001b[1;33m\u001b[0m\u001b[0m\n\u001b[1;32m--> 151\u001b[1;33m         \u001b[0mresult\u001b[0m \u001b[1;33m=\u001b[0m \u001b[0mmasked_arith_op\u001b[0m\u001b[1;33m(\u001b[0m\u001b[0mleft\u001b[0m\u001b[1;33m,\u001b[0m \u001b[0mright\u001b[0m\u001b[1;33m,\u001b[0m \u001b[0mop\u001b[0m\u001b[1;33m)\u001b[0m\u001b[1;33m\u001b[0m\u001b[1;33m\u001b[0m\u001b[0m\n\u001b[0m\u001b[0;32m    152\u001b[0m \u001b[1;33m\u001b[0m\u001b[0m\n\u001b[0;32m    153\u001b[0m     \u001b[1;32mreturn\u001b[0m \u001b[0mmissing\u001b[0m\u001b[1;33m.\u001b[0m\u001b[0mdispatch_fill_zeros\u001b[0m\u001b[1;33m(\u001b[0m\u001b[0mop\u001b[0m\u001b[1;33m,\u001b[0m \u001b[0mleft\u001b[0m\u001b[1;33m,\u001b[0m \u001b[0mright\u001b[0m\u001b[1;33m,\u001b[0m \u001b[0mresult\u001b[0m\u001b[1;33m)\u001b[0m\u001b[1;33m\u001b[0m\u001b[1;33m\u001b[0m\u001b[0m\n",
      "\u001b[1;32mC:\\ProgramData\\Anaconda3\\lib\\site-packages\\pandas\\core\\ops\\array_ops.py\u001b[0m in \u001b[0;36mmasked_arith_op\u001b[1;34m(x, y, op)\u001b[0m\n\u001b[0;32m    110\u001b[0m         \u001b[1;32mif\u001b[0m \u001b[0mmask\u001b[0m\u001b[1;33m.\u001b[0m\u001b[0many\u001b[0m\u001b[1;33m(\u001b[0m\u001b[1;33m)\u001b[0m\u001b[1;33m:\u001b[0m\u001b[1;33m\u001b[0m\u001b[1;33m\u001b[0m\u001b[0m\n\u001b[0;32m    111\u001b[0m             \u001b[1;32mwith\u001b[0m \u001b[0mnp\u001b[0m\u001b[1;33m.\u001b[0m\u001b[0merrstate\u001b[0m\u001b[1;33m(\u001b[0m\u001b[0mall\u001b[0m\u001b[1;33m=\u001b[0m\u001b[1;34m\"ignore\"\u001b[0m\u001b[1;33m)\u001b[0m\u001b[1;33m:\u001b[0m\u001b[1;33m\u001b[0m\u001b[1;33m\u001b[0m\u001b[0m\n\u001b[1;32m--> 112\u001b[1;33m                 \u001b[0mresult\u001b[0m\u001b[1;33m[\u001b[0m\u001b[0mmask\u001b[0m\u001b[1;33m]\u001b[0m \u001b[1;33m=\u001b[0m \u001b[0mop\u001b[0m\u001b[1;33m(\u001b[0m\u001b[0mxrav\u001b[0m\u001b[1;33m[\u001b[0m\u001b[0mmask\u001b[0m\u001b[1;33m]\u001b[0m\u001b[1;33m,\u001b[0m \u001b[0my\u001b[0m\u001b[1;33m)\u001b[0m\u001b[1;33m\u001b[0m\u001b[1;33m\u001b[0m\u001b[0m\n\u001b[0m\u001b[0;32m    113\u001b[0m \u001b[1;33m\u001b[0m\u001b[0m\n\u001b[0;32m    114\u001b[0m     \u001b[0mresult\u001b[0m\u001b[1;33m,\u001b[0m \u001b[0m_\u001b[0m \u001b[1;33m=\u001b[0m \u001b[0mmaybe_upcast_putmask\u001b[0m\u001b[1;33m(\u001b[0m\u001b[0mresult\u001b[0m\u001b[1;33m,\u001b[0m \u001b[1;33m~\u001b[0m\u001b[0mmask\u001b[0m\u001b[1;33m,\u001b[0m \u001b[0mnp\u001b[0m\u001b[1;33m.\u001b[0m\u001b[0mnan\u001b[0m\u001b[1;33m)\u001b[0m\u001b[1;33m\u001b[0m\u001b[1;33m\u001b[0m\u001b[0m\n",
      "\u001b[1;31mTypeError\u001b[0m: unsupported operand type(s) for -: 'str' and 'float'"
     ]
    }
   ],
   "source": [
    "Z = ((new_salary-new_salary.mean())/new_salary.std())\n",
    "Z.describe()"
   ]
  },
  {
   "cell_type": "code",
   "execution_count": 31,
   "metadata": {},
   "outputs": [
    {
     "data": {
      "text/html": [
       "<div>\n",
       "<style scoped>\n",
       "    .dataframe tbody tr th:only-of-type {\n",
       "        vertical-align: middle;\n",
       "    }\n",
       "\n",
       "    .dataframe tbody tr th {\n",
       "        vertical-align: top;\n",
       "    }\n",
       "\n",
       "    .dataframe thead th {\n",
       "        text-align: right;\n",
       "    }\n",
       "</style>\n",
       "<table border=\"1\" class=\"dataframe\">\n",
       "  <thead>\n",
       "    <tr style=\"text-align: right;\">\n",
       "      <th></th>\n",
       "      <th>work_type</th>\n",
       "      <th>age</th>\n",
       "      <th>weight</th>\n",
       "      <th>education</th>\n",
       "      <th>education_years</th>\n",
       "      <th>marital_status</th>\n",
       "      <th>occupation</th>\n",
       "      <th>relationship</th>\n",
       "      <th>race</th>\n",
       "      <th>sex</th>\n",
       "      <th>investment_gain</th>\n",
       "      <th>investment_loss</th>\n",
       "      <th>company_size</th>\n",
       "      <th>weekly_hours</th>\n",
       "      <th>country</th>\n",
       "      <th>salary_range</th>\n",
       "    </tr>\n",
       "  </thead>\n",
       "  <tbody>\n",
       "    <tr>\n",
       "      <th>0</th>\n",
       "      <td>Private</td>\n",
       "      <td>19</td>\n",
       "      <td>216804</td>\n",
       "      <td>7th-8th</td>\n",
       "      <td>4.0</td>\n",
       "      <td>Never-married</td>\n",
       "      <td>Other-service</td>\n",
       "      <td>Own-child</td>\n",
       "      <td>White</td>\n",
       "      <td>Male</td>\n",
       "      <td>0</td>\n",
       "      <td>0</td>\n",
       "      <td>825</td>\n",
       "      <td>33</td>\n",
       "      <td>United-States</td>\n",
       "      <td>low</td>\n",
       "    </tr>\n",
       "    <tr>\n",
       "      <th>1</th>\n",
       "      <td>Private</td>\n",
       "      <td>23</td>\n",
       "      <td>207546</td>\n",
       "      <td>11th</td>\n",
       "      <td>7.0</td>\n",
       "      <td>Married-civ-spouse</td>\n",
       "      <td>Machine-op-inspct</td>\n",
       "      <td>Husband</td>\n",
       "      <td>White</td>\n",
       "      <td>Male</td>\n",
       "      <td>0</td>\n",
       "      <td>0</td>\n",
       "      <td>865</td>\n",
       "      <td>40</td>\n",
       "      <td>United-States</td>\n",
       "      <td>low</td>\n",
       "    </tr>\n",
       "    <tr>\n",
       "      <th>2</th>\n",
       "      <td>Private</td>\n",
       "      <td>41</td>\n",
       "      <td>253759</td>\n",
       "      <td>HS-grad</td>\n",
       "      <td>9.0</td>\n",
       "      <td>Never-married</td>\n",
       "      <td>Sales</td>\n",
       "      <td>Unmarried</td>\n",
       "      <td>Black</td>\n",
       "      <td>Female</td>\n",
       "      <td>0</td>\n",
       "      <td>0</td>\n",
       "      <td>727</td>\n",
       "      <td>40</td>\n",
       "      <td>United-States</td>\n",
       "      <td>low</td>\n",
       "    </tr>\n",
       "    <tr>\n",
       "      <th>3</th>\n",
       "      <td>Private</td>\n",
       "      <td>28</td>\n",
       "      <td>180928</td>\n",
       "      <td>Some-college</td>\n",
       "      <td>10.0</td>\n",
       "      <td>Married-civ-spouse</td>\n",
       "      <td>Handlers-cleaners</td>\n",
       "      <td>Husband</td>\n",
       "      <td>White</td>\n",
       "      <td>Male</td>\n",
       "      <td>5013</td>\n",
       "      <td>0</td>\n",
       "      <td>328</td>\n",
       "      <td>55</td>\n",
       "      <td>United-States</td>\n",
       "      <td>low</td>\n",
       "    </tr>\n",
       "    <tr>\n",
       "      <th>4</th>\n",
       "      <td>Private</td>\n",
       "      <td>17</td>\n",
       "      <td>208463</td>\n",
       "      <td>HS-grad</td>\n",
       "      <td>9.0</td>\n",
       "      <td>Never-married</td>\n",
       "      <td>Sales</td>\n",
       "      <td>Own-child</td>\n",
       "      <td>White</td>\n",
       "      <td>Female</td>\n",
       "      <td>0</td>\n",
       "      <td>0</td>\n",
       "      <td>977</td>\n",
       "      <td>20</td>\n",
       "      <td>United-States</td>\n",
       "      <td>low</td>\n",
       "    </tr>\n",
       "    <tr>\n",
       "      <th>...</th>\n",
       "      <td>...</td>\n",
       "      <td>...</td>\n",
       "      <td>...</td>\n",
       "      <td>...</td>\n",
       "      <td>...</td>\n",
       "      <td>...</td>\n",
       "      <td>...</td>\n",
       "      <td>...</td>\n",
       "      <td>...</td>\n",
       "      <td>...</td>\n",
       "      <td>...</td>\n",
       "      <td>...</td>\n",
       "      <td>...</td>\n",
       "      <td>...</td>\n",
       "      <td>...</td>\n",
       "      <td>...</td>\n",
       "    </tr>\n",
       "    <tr>\n",
       "      <th>32553</th>\n",
       "      <td>Private</td>\n",
       "      <td>52</td>\n",
       "      <td>146378</td>\n",
       "      <td>HS-grad</td>\n",
       "      <td>9.0</td>\n",
       "      <td>Married-civ-spouse</td>\n",
       "      <td>Craft-repair</td>\n",
       "      <td>Husband</td>\n",
       "      <td>White</td>\n",
       "      <td>Male</td>\n",
       "      <td>0</td>\n",
       "      <td>0</td>\n",
       "      <td>940</td>\n",
       "      <td>40</td>\n",
       "      <td>United-States</td>\n",
       "      <td>high</td>\n",
       "    </tr>\n",
       "    <tr>\n",
       "      <th>32555</th>\n",
       "      <td>Private</td>\n",
       "      <td>54</td>\n",
       "      <td>210736</td>\n",
       "      <td>HS-grad</td>\n",
       "      <td>9.0</td>\n",
       "      <td>Married-civ-spouse</td>\n",
       "      <td>Craft-repair</td>\n",
       "      <td>Husband</td>\n",
       "      <td>White</td>\n",
       "      <td>Male</td>\n",
       "      <td>0</td>\n",
       "      <td>0</td>\n",
       "      <td>843</td>\n",
       "      <td>40</td>\n",
       "      <td>United-States</td>\n",
       "      <td>high</td>\n",
       "    </tr>\n",
       "    <tr>\n",
       "      <th>32556</th>\n",
       "      <td>Self-emp-not-inc</td>\n",
       "      <td>56</td>\n",
       "      <td>84774</td>\n",
       "      <td>Assoc-acdm</td>\n",
       "      <td>12.0</td>\n",
       "      <td>Married-civ-spouse</td>\n",
       "      <td>Farming-fishing</td>\n",
       "      <td>Wife</td>\n",
       "      <td>White</td>\n",
       "      <td>Female</td>\n",
       "      <td>0</td>\n",
       "      <td>0</td>\n",
       "      <td>544</td>\n",
       "      <td>40</td>\n",
       "      <td>United-States</td>\n",
       "      <td>low</td>\n",
       "    </tr>\n",
       "    <tr>\n",
       "      <th>32557</th>\n",
       "      <td>Self-emp-inc</td>\n",
       "      <td>42</td>\n",
       "      <td>50122</td>\n",
       "      <td>HS-grad</td>\n",
       "      <td>9.0</td>\n",
       "      <td>Married-civ-spouse</td>\n",
       "      <td>Sales</td>\n",
       "      <td>Husband</td>\n",
       "      <td>White</td>\n",
       "      <td>Male</td>\n",
       "      <td>0</td>\n",
       "      <td>0</td>\n",
       "      <td>596</td>\n",
       "      <td>60</td>\n",
       "      <td>United-States</td>\n",
       "      <td>low</td>\n",
       "    </tr>\n",
       "    <tr>\n",
       "      <th>32558</th>\n",
       "      <td>Private</td>\n",
       "      <td>27</td>\n",
       "      <td>660870</td>\n",
       "      <td>Bachelors</td>\n",
       "      <td>13.0</td>\n",
       "      <td>Never-married</td>\n",
       "      <td>Prof-specialty</td>\n",
       "      <td>Not-in-family</td>\n",
       "      <td>White</td>\n",
       "      <td>Female</td>\n",
       "      <td>0</td>\n",
       "      <td>0</td>\n",
       "      <td>453</td>\n",
       "      <td>60</td>\n",
       "      <td>United-States</td>\n",
       "      <td>low</td>\n",
       "    </tr>\n",
       "  </tbody>\n",
       "</table>\n",
       "<p>30153 rows × 16 columns</p>\n",
       "</div>"
      ],
      "text/plain": [
       "              work_type  age  weight     education  education_years  \\\n",
       "0               Private   19  216804       7th-8th              4.0   \n",
       "1               Private   23  207546          11th              7.0   \n",
       "2               Private   41  253759       HS-grad              9.0   \n",
       "3               Private   28  180928  Some-college             10.0   \n",
       "4               Private   17  208463       HS-grad              9.0   \n",
       "...                 ...  ...     ...           ...              ...   \n",
       "32553           Private   52  146378       HS-grad              9.0   \n",
       "32555           Private   54  210736       HS-grad              9.0   \n",
       "32556  Self-emp-not-inc   56   84774    Assoc-acdm             12.0   \n",
       "32557      Self-emp-inc   42   50122       HS-grad              9.0   \n",
       "32558           Private   27  660870     Bachelors             13.0   \n",
       "\n",
       "           marital_status         occupation   relationship   race     sex  \\\n",
       "0           Never-married      Other-service      Own-child  White    Male   \n",
       "1      Married-civ-spouse  Machine-op-inspct        Husband  White    Male   \n",
       "2           Never-married              Sales      Unmarried  Black  Female   \n",
       "3      Married-civ-spouse  Handlers-cleaners        Husband  White    Male   \n",
       "4           Never-married              Sales      Own-child  White  Female   \n",
       "...                   ...                ...            ...    ...     ...   \n",
       "32553  Married-civ-spouse       Craft-repair        Husband  White    Male   \n",
       "32555  Married-civ-spouse       Craft-repair        Husband  White    Male   \n",
       "32556  Married-civ-spouse    Farming-fishing           Wife  White  Female   \n",
       "32557  Married-civ-spouse              Sales        Husband  White    Male   \n",
       "32558       Never-married     Prof-specialty  Not-in-family  White  Female   \n",
       "\n",
       "       investment_gain  investment_loss  company_size  weekly_hours  \\\n",
       "0                    0                0           825            33   \n",
       "1                    0                0           865            40   \n",
       "2                    0                0           727            40   \n",
       "3                 5013                0           328            55   \n",
       "4                    0                0           977            20   \n",
       "...                ...              ...           ...           ...   \n",
       "32553                0                0           940            40   \n",
       "32555                0                0           843            40   \n",
       "32556                0                0           544            40   \n",
       "32557                0                0           596            60   \n",
       "32558                0                0           453            60   \n",
       "\n",
       "             country salary_range  \n",
       "0      United-States          low  \n",
       "1      United-States          low  \n",
       "2      United-States          low  \n",
       "3      United-States          low  \n",
       "4      United-States          low  \n",
       "...              ...          ...  \n",
       "32553  United-States         high  \n",
       "32555  United-States         high  \n",
       "32556  United-States          low  \n",
       "32557  United-States          low  \n",
       "32558  United-States          low  \n",
       "\n",
       "[30153 rows x 16 columns]"
      ]
     },
     "execution_count": 31,
     "metadata": {},
     "output_type": "execute_result"
    }
   ],
   "source": [
    "new_salary"
   ]
  },
  {
   "cell_type": "code",
   "execution_count": 32,
   "metadata": {},
   "outputs": [
    {
     "name": "stdout",
     "output_type": "stream",
     "text": [
      "<class 'pandas.core.frame.DataFrame'>\n",
      "Int64Index: 30153 entries, 0 to 32558\n",
      "Data columns (total 16 columns):\n",
      " #   Column           Non-Null Count  Dtype  \n",
      "---  ------           --------------  -----  \n",
      " 0   work_type        30153 non-null  object \n",
      " 1   age              30153 non-null  int64  \n",
      " 2   weight           30153 non-null  int64  \n",
      " 3   education        30153 non-null  object \n",
      " 4   education_years  30153 non-null  float64\n",
      " 5   marital_status   30153 non-null  object \n",
      " 6   occupation       30153 non-null  object \n",
      " 7   relationship     30153 non-null  object \n",
      " 8   race             30153 non-null  object \n",
      " 9   sex              30153 non-null  object \n",
      " 10  investment_gain  30153 non-null  int64  \n",
      " 11  investment_loss  30153 non-null  int64  \n",
      " 12  company_size     30153 non-null  int64  \n",
      " 13  weekly_hours     30153 non-null  int64  \n",
      " 14  country          30153 non-null  object \n",
      " 15  salary_range     30153 non-null  object \n",
      "dtypes: float64(1), int64(6), object(9)\n",
      "memory usage: 3.9+ MB\n"
     ]
    }
   ],
   "source": [
    "new_salary.info()"
   ]
  },
  {
   "cell_type": "code",
   "execution_count": 33,
   "metadata": {},
   "outputs": [
    {
     "name": "stdout",
     "output_type": "stream",
     "text": [
      "Number of rows before discarding outliers = 30153\n",
      "Number of rows after discarding outliers = 27613\n"
     ]
    }
   ],
   "source": [
    "import scipy.stats as stats\n",
    "import numpy as np\n",
    "print('Number of rows before discarding outliers = %d' % (new_salary.shape[0]))\n",
    "\n",
    "#since it can be remove the numerical attributes so we have to declare it before process\n",
    "num_attribute = ['age','weight','education_years','investment_gain','investment_loss','company_size','weekly_hours']\n",
    "z_scores = stats.zscore(new_salary[num_attribute])\n",
    "\n",
    "abs_z_scores = np.abs(z_scores)\n",
    "filtered_entries = (abs_z_scores <= 3).all(axis=1)\n",
    "new_salary1 = new_salary[filtered_entries]\n",
    "\n",
    "print('Number of rows after discarding outliers = %d' % new_salary1.shape[0])"
   ]
  },
  {
   "cell_type": "markdown",
   "metadata": {},
   "source": [
    "### Check Duplicate"
   ]
  },
  {
   "cell_type": "code",
   "execution_count": 34,
   "metadata": {},
   "outputs": [
    {
     "name": "stdout",
     "output_type": "stream",
     "text": [
      "Number of duplicate rows = 0\n"
     ]
    }
   ],
   "source": [
    "dups = new_salary1.duplicated()\n",
    "print('Number of duplicate rows = %d' % (dups.sum()))"
   ]
  },
  {
   "cell_type": "markdown",
   "metadata": {},
   "source": [
    "*There is no any duplicate data*\n",
    "\n",
    "---"
   ]
  },
  {
   "cell_type": "markdown",
   "metadata": {},
   "source": [
    "# Preprocessing"
   ]
  },
  {
   "cell_type": "markdown",
   "metadata": {},
   "source": [
    "There are various steps will be perform in this section:\n",
    "1. Standardization\n",
    "2. Normalization\n",
    "3. Dummy Variables\n",
    "4. Label Encoding vs OHE"
   ]
  },
  {
   "cell_type": "markdown",
   "metadata": {},
   "source": [
    "**Standardization**\n",
    "1. used when want to convert data into gaussian distribution meaning mean = 0 and variance = 1\n",
    "2. less sensitive to Outliers\n",
    "3. More  deviation on data"
   ]
  },
  {
   "cell_type": "code",
   "execution_count": null,
   "metadata": {},
   "outputs": [],
   "source": []
  },
  {
   "cell_type": "markdown",
   "metadata": {},
   "source": [
    "**Normalization**\n",
    "1. Also known as minmax scaler and reduce data between (0 to 1) or (-1 to 1 in case of negative values) \n",
    "2. Sensitve t outliers \n",
    "3. Identically used when the deviation is small distribution is not gaussian \n",
    "4. Works better where standardization is not working fine."
   ]
  },
  {
   "cell_type": "code",
   "execution_count": null,
   "metadata": {},
   "outputs": [],
   "source": []
  },
  {
   "cell_type": "markdown",
   "metadata": {},
   "source": [
    "## Handling Categorical Data"
   ]
  },
  {
   "cell_type": "markdown",
   "metadata": {},
   "source": [
    "Methods involved in handling categorical data\n",
    "1. Label Encoding: works well for ordinal data (eg: scale, values item)\n",
    "2. dummy variable: for generating dummy data for replacing categorical data\n",
    "3. OHE: works well with nominal data (eg: male, female)\n",
    "4. Dict vectorize: use to combine steps label encoder and OHE"
   ]
  },
  {
   "cell_type": "markdown",
   "metadata": {},
   "source": [
    "sal_dummy = pd.get_dummies(X_train_cat)\n",
    "sal_dummy"
   ]
  },
  {
   "cell_type": "markdown",
   "metadata": {},
   "source": [
    "## Handle Missing Data"
   ]
  },
  {
   "cell_type": "markdown",
   "metadata": {},
   "source": [
    "Methods/Techniques used to handling missing values in dataset\n",
    "1. dropna\n",
    "2. fillna\n",
    "3. Impute"
   ]
  },
  {
   "cell_type": "code",
   "execution_count": null,
   "metadata": {},
   "outputs": [],
   "source": []
  },
  {
   "cell_type": "markdown",
   "metadata": {},
   "source": [
    "### Separate output vector from input matrix "
   ]
  },
  {
   "cell_type": "markdown",
   "metadata": {},
   "source": [
    "new_salary1 = new_salary"
   ]
  },
  {
   "cell_type": "code",
   "execution_count": 35,
   "metadata": {},
   "outputs": [
    {
     "data": {
      "text/html": [
       "<div>\n",
       "<style scoped>\n",
       "    .dataframe tbody tr th:only-of-type {\n",
       "        vertical-align: middle;\n",
       "    }\n",
       "\n",
       "    .dataframe tbody tr th {\n",
       "        vertical-align: top;\n",
       "    }\n",
       "\n",
       "    .dataframe thead th {\n",
       "        text-align: right;\n",
       "    }\n",
       "</style>\n",
       "<table border=\"1\" class=\"dataframe\">\n",
       "  <thead>\n",
       "    <tr style=\"text-align: right;\">\n",
       "      <th></th>\n",
       "      <th>work_type</th>\n",
       "      <th>age</th>\n",
       "      <th>weight</th>\n",
       "      <th>education</th>\n",
       "      <th>education_years</th>\n",
       "      <th>marital_status</th>\n",
       "      <th>occupation</th>\n",
       "      <th>relationship</th>\n",
       "      <th>race</th>\n",
       "      <th>sex</th>\n",
       "      <th>investment_gain</th>\n",
       "      <th>investment_loss</th>\n",
       "      <th>company_size</th>\n",
       "      <th>weekly_hours</th>\n",
       "      <th>country</th>\n",
       "      <th>salary_range</th>\n",
       "    </tr>\n",
       "  </thead>\n",
       "  <tbody>\n",
       "    <tr>\n",
       "      <th>0</th>\n",
       "      <td>Private</td>\n",
       "      <td>19</td>\n",
       "      <td>216804</td>\n",
       "      <td>7th-8th</td>\n",
       "      <td>4.0</td>\n",
       "      <td>Never-married</td>\n",
       "      <td>Other-service</td>\n",
       "      <td>Own-child</td>\n",
       "      <td>White</td>\n",
       "      <td>Male</td>\n",
       "      <td>0</td>\n",
       "      <td>0</td>\n",
       "      <td>825</td>\n",
       "      <td>33</td>\n",
       "      <td>United-States</td>\n",
       "      <td>low</td>\n",
       "    </tr>\n",
       "    <tr>\n",
       "      <th>1</th>\n",
       "      <td>Private</td>\n",
       "      <td>23</td>\n",
       "      <td>207546</td>\n",
       "      <td>11th</td>\n",
       "      <td>7.0</td>\n",
       "      <td>Married-civ-spouse</td>\n",
       "      <td>Machine-op-inspct</td>\n",
       "      <td>Husband</td>\n",
       "      <td>White</td>\n",
       "      <td>Male</td>\n",
       "      <td>0</td>\n",
       "      <td>0</td>\n",
       "      <td>865</td>\n",
       "      <td>40</td>\n",
       "      <td>United-States</td>\n",
       "      <td>low</td>\n",
       "    </tr>\n",
       "    <tr>\n",
       "      <th>2</th>\n",
       "      <td>Private</td>\n",
       "      <td>41</td>\n",
       "      <td>253759</td>\n",
       "      <td>HS-grad</td>\n",
       "      <td>9.0</td>\n",
       "      <td>Never-married</td>\n",
       "      <td>Sales</td>\n",
       "      <td>Unmarried</td>\n",
       "      <td>Black</td>\n",
       "      <td>Female</td>\n",
       "      <td>0</td>\n",
       "      <td>0</td>\n",
       "      <td>727</td>\n",
       "      <td>40</td>\n",
       "      <td>United-States</td>\n",
       "      <td>low</td>\n",
       "    </tr>\n",
       "    <tr>\n",
       "      <th>3</th>\n",
       "      <td>Private</td>\n",
       "      <td>28</td>\n",
       "      <td>180928</td>\n",
       "      <td>Some-college</td>\n",
       "      <td>10.0</td>\n",
       "      <td>Married-civ-spouse</td>\n",
       "      <td>Handlers-cleaners</td>\n",
       "      <td>Husband</td>\n",
       "      <td>White</td>\n",
       "      <td>Male</td>\n",
       "      <td>5013</td>\n",
       "      <td>0</td>\n",
       "      <td>328</td>\n",
       "      <td>55</td>\n",
       "      <td>United-States</td>\n",
       "      <td>low</td>\n",
       "    </tr>\n",
       "    <tr>\n",
       "      <th>4</th>\n",
       "      <td>Private</td>\n",
       "      <td>17</td>\n",
       "      <td>208463</td>\n",
       "      <td>HS-grad</td>\n",
       "      <td>9.0</td>\n",
       "      <td>Never-married</td>\n",
       "      <td>Sales</td>\n",
       "      <td>Own-child</td>\n",
       "      <td>White</td>\n",
       "      <td>Female</td>\n",
       "      <td>0</td>\n",
       "      <td>0</td>\n",
       "      <td>977</td>\n",
       "      <td>20</td>\n",
       "      <td>United-States</td>\n",
       "      <td>low</td>\n",
       "    </tr>\n",
       "    <tr>\n",
       "      <th>...</th>\n",
       "      <td>...</td>\n",
       "      <td>...</td>\n",
       "      <td>...</td>\n",
       "      <td>...</td>\n",
       "      <td>...</td>\n",
       "      <td>...</td>\n",
       "      <td>...</td>\n",
       "      <td>...</td>\n",
       "      <td>...</td>\n",
       "      <td>...</td>\n",
       "      <td>...</td>\n",
       "      <td>...</td>\n",
       "      <td>...</td>\n",
       "      <td>...</td>\n",
       "      <td>...</td>\n",
       "      <td>...</td>\n",
       "    </tr>\n",
       "    <tr>\n",
       "      <th>32552</th>\n",
       "      <td>Local-gov</td>\n",
       "      <td>40</td>\n",
       "      <td>26929</td>\n",
       "      <td>Masters</td>\n",
       "      <td>14.0</td>\n",
       "      <td>Never-married</td>\n",
       "      <td>Prof-specialty</td>\n",
       "      <td>Not-in-family</td>\n",
       "      <td>White</td>\n",
       "      <td>Female</td>\n",
       "      <td>0</td>\n",
       "      <td>0</td>\n",
       "      <td>796</td>\n",
       "      <td>40</td>\n",
       "      <td>United-States</td>\n",
       "      <td>low</td>\n",
       "    </tr>\n",
       "    <tr>\n",
       "      <th>32553</th>\n",
       "      <td>Private</td>\n",
       "      <td>52</td>\n",
       "      <td>146378</td>\n",
       "      <td>HS-grad</td>\n",
       "      <td>9.0</td>\n",
       "      <td>Married-civ-spouse</td>\n",
       "      <td>Craft-repair</td>\n",
       "      <td>Husband</td>\n",
       "      <td>White</td>\n",
       "      <td>Male</td>\n",
       "      <td>0</td>\n",
       "      <td>0</td>\n",
       "      <td>940</td>\n",
       "      <td>40</td>\n",
       "      <td>United-States</td>\n",
       "      <td>high</td>\n",
       "    </tr>\n",
       "    <tr>\n",
       "      <th>32555</th>\n",
       "      <td>Private</td>\n",
       "      <td>54</td>\n",
       "      <td>210736</td>\n",
       "      <td>HS-grad</td>\n",
       "      <td>9.0</td>\n",
       "      <td>Married-civ-spouse</td>\n",
       "      <td>Craft-repair</td>\n",
       "      <td>Husband</td>\n",
       "      <td>White</td>\n",
       "      <td>Male</td>\n",
       "      <td>0</td>\n",
       "      <td>0</td>\n",
       "      <td>843</td>\n",
       "      <td>40</td>\n",
       "      <td>United-States</td>\n",
       "      <td>high</td>\n",
       "    </tr>\n",
       "    <tr>\n",
       "      <th>32556</th>\n",
       "      <td>Self-emp-not-inc</td>\n",
       "      <td>56</td>\n",
       "      <td>84774</td>\n",
       "      <td>Assoc-acdm</td>\n",
       "      <td>12.0</td>\n",
       "      <td>Married-civ-spouse</td>\n",
       "      <td>Farming-fishing</td>\n",
       "      <td>Wife</td>\n",
       "      <td>White</td>\n",
       "      <td>Female</td>\n",
       "      <td>0</td>\n",
       "      <td>0</td>\n",
       "      <td>544</td>\n",
       "      <td>40</td>\n",
       "      <td>United-States</td>\n",
       "      <td>low</td>\n",
       "    </tr>\n",
       "    <tr>\n",
       "      <th>32557</th>\n",
       "      <td>Self-emp-inc</td>\n",
       "      <td>42</td>\n",
       "      <td>50122</td>\n",
       "      <td>HS-grad</td>\n",
       "      <td>9.0</td>\n",
       "      <td>Married-civ-spouse</td>\n",
       "      <td>Sales</td>\n",
       "      <td>Husband</td>\n",
       "      <td>White</td>\n",
       "      <td>Male</td>\n",
       "      <td>0</td>\n",
       "      <td>0</td>\n",
       "      <td>596</td>\n",
       "      <td>60</td>\n",
       "      <td>United-States</td>\n",
       "      <td>low</td>\n",
       "    </tr>\n",
       "  </tbody>\n",
       "</table>\n",
       "<p>27613 rows × 16 columns</p>\n",
       "</div>"
      ],
      "text/plain": [
       "              work_type  age  weight     education  education_years  \\\n",
       "0               Private   19  216804       7th-8th              4.0   \n",
       "1               Private   23  207546          11th              7.0   \n",
       "2               Private   41  253759       HS-grad              9.0   \n",
       "3               Private   28  180928  Some-college             10.0   \n",
       "4               Private   17  208463       HS-grad              9.0   \n",
       "...                 ...  ...     ...           ...              ...   \n",
       "32552         Local-gov   40   26929       Masters             14.0   \n",
       "32553           Private   52  146378       HS-grad              9.0   \n",
       "32555           Private   54  210736       HS-grad              9.0   \n",
       "32556  Self-emp-not-inc   56   84774    Assoc-acdm             12.0   \n",
       "32557      Self-emp-inc   42   50122       HS-grad              9.0   \n",
       "\n",
       "           marital_status         occupation   relationship   race     sex  \\\n",
       "0           Never-married      Other-service      Own-child  White    Male   \n",
       "1      Married-civ-spouse  Machine-op-inspct        Husband  White    Male   \n",
       "2           Never-married              Sales      Unmarried  Black  Female   \n",
       "3      Married-civ-spouse  Handlers-cleaners        Husband  White    Male   \n",
       "4           Never-married              Sales      Own-child  White  Female   \n",
       "...                   ...                ...            ...    ...     ...   \n",
       "32552       Never-married     Prof-specialty  Not-in-family  White  Female   \n",
       "32553  Married-civ-spouse       Craft-repair        Husband  White    Male   \n",
       "32555  Married-civ-spouse       Craft-repair        Husband  White    Male   \n",
       "32556  Married-civ-spouse    Farming-fishing           Wife  White  Female   \n",
       "32557  Married-civ-spouse              Sales        Husband  White    Male   \n",
       "\n",
       "       investment_gain  investment_loss  company_size  weekly_hours  \\\n",
       "0                    0                0           825            33   \n",
       "1                    0                0           865            40   \n",
       "2                    0                0           727            40   \n",
       "3                 5013                0           328            55   \n",
       "4                    0                0           977            20   \n",
       "...                ...              ...           ...           ...   \n",
       "32552                0                0           796            40   \n",
       "32553                0                0           940            40   \n",
       "32555                0                0           843            40   \n",
       "32556                0                0           544            40   \n",
       "32557                0                0           596            60   \n",
       "\n",
       "             country salary_range  \n",
       "0      United-States          low  \n",
       "1      United-States          low  \n",
       "2      United-States          low  \n",
       "3      United-States          low  \n",
       "4      United-States          low  \n",
       "...              ...          ...  \n",
       "32552  United-States          low  \n",
       "32553  United-States         high  \n",
       "32555  United-States         high  \n",
       "32556  United-States          low  \n",
       "32557  United-States          low  \n",
       "\n",
       "[27613 rows x 16 columns]"
      ]
     },
     "execution_count": 35,
     "metadata": {},
     "output_type": "execute_result"
    }
   ],
   "source": [
    "new_salary1"
   ]
  },
  {
   "cell_type": "code",
   "execution_count": 36,
   "metadata": {},
   "outputs": [],
   "source": [
    "#Drop targeted variable from the matrix X as the input matrix Y \n",
    "X = new_salary1.drop('salary_range', axis = 1)\n",
    "\n",
    "#Convert the target attribute's value into boolean type (easy when process, since it only has \"high\" and \"low\")\n",
    "new_salary1['salary_range'] = [1 if x=='high' else 0 for x in new_salary1['salary_range']]\n",
    "y = new_salary1['salary_range']"
   ]
  },
  {
   "cell_type": "code",
   "execution_count": 37,
   "metadata": {},
   "outputs": [
    {
     "name": "stdout",
     "output_type": "stream",
     "text": [
      "Shape original dataFrame (27613, 16)\n",
      "X shape (27613, 15) type =  <class 'pandas.core.frame.DataFrame'>\n",
      "Y shape (27613,) type =  <class 'pandas.core.series.Series'>\n"
     ]
    }
   ],
   "source": [
    "#Show the shape and type class of the dataFrame for matrix X and Y\n",
    "print(\"Shape original dataFrame\", new_salary1.shape)\n",
    "print(\"X shape\",  X.shape, \"type = \", type(X))\n",
    "print(\"Y shape\",  y.shape, \"type = \", type(y))"
   ]
  },
  {
   "cell_type": "markdown",
   "metadata": {},
   "source": [
    "### Split the Dataset - Training, Testing"
   ]
  },
  {
   "cell_type": "code",
   "execution_count": 38,
   "metadata": {
    "scrolled": true
   },
   "outputs": [
    {
     "name": "stdout",
     "output_type": "stream",
     "text": [
      "Original Dataset = (27613, 15)\n",
      "Training Dataset = (22090, 15)\n",
      "Testing Dataset = (5523, 15)\n"
     ]
    }
   ],
   "source": [
    "#Load the python library - sklearn  \n",
    "from sklearn.model_selection import train_test_split\n",
    "\n",
    "#Split dataset into train and test set\n",
    "X_train, X_test, y_train, y_test = train_test_split(X, y, test_size=0.2, random_state=10, stratify=y)\n",
    "\n",
    "print('Original Dataset =', X.shape)\n",
    "print('Training Dataset =', X_train.shape)\n",
    "print('Testing Dataset =', X_test.shape)"
   ]
  },
  {
   "cell_type": "markdown",
   "metadata": {},
   "source": [
    "### Split the input matrix - numerical and categorical sets"
   ]
  },
  {
   "cell_type": "code",
   "execution_count": 39,
   "metadata": {},
   "outputs": [],
   "source": [
    "cat_attribute = ['work_type','education', 'marital_status', 'occupation', 'relationship','race','sex','country']\n",
    "X_train_num = X_train.drop(cat_attribute, axis = 1)\n",
    "X_train_cat = X_train[cat_attribute]"
   ]
  },
  {
   "cell_type": "code",
   "execution_count": 40,
   "metadata": {},
   "outputs": [
    {
     "name": "stdout",
     "output_type": "stream",
     "text": [
      "(22090, 7)\n",
      "(22090, 8)\n"
     ]
    }
   ],
   "source": [
    "print(X_train_num.shape)\n",
    "print(X_train_cat.shape)"
   ]
  },
  {
   "cell_type": "markdown",
   "metadata": {},
   "source": [
    "### Standardize numeric data"
   ]
  },
  {
   "cell_type": "code",
   "execution_count": 41,
   "metadata": {},
   "outputs": [],
   "source": [
    "from sklearn.preprocessing import StandardScaler\n",
    "\n",
    "#Standardisation of the Numerical Attribute\n",
    "X_train_num_tr = StandardScaler().fit_transform(X_train_num)"
   ]
  },
  {
   "cell_type": "code",
   "execution_count": 42,
   "metadata": {},
   "outputs": [
    {
     "name": "stdout",
     "output_type": "stream",
     "text": [
      "Mean:\n",
      " [-4.63187659e-17  3.92422878e-17 -1.85275064e-16 -1.80128534e-17\n",
      " -9.97140100e-18 -3.40957583e-17  1.01643959e-16]\n",
      "\n",
      "Standard Deviation:\n",
      " [1. 1. 1. 1. 1. 1. 1.]\n"
     ]
    }
   ],
   "source": [
    "print('Mean:\\n',X_train_num_tr.mean (axis=0))\n",
    "print('\\nStandard Deviation:\\n',X_train_num_tr.std (axis=0))"
   ]
  },
  {
   "cell_type": "code",
   "execution_count": 43,
   "metadata": {},
   "outputs": [
    {
     "data": {
      "text/plain": [
       "array([[-1.24690729,  0.45774738, -0.45794306, ..., -0.03799699,\n",
       "         0.63229247, -0.03557418],\n",
       "       [-1.40255447,  0.36034926, -1.27997803, ..., -0.03799699,\n",
       "        -1.57134843,  1.82526817],\n",
       "       [-0.85778932,  0.38839501, -0.45794306, ..., -0.03799699,\n",
       "         0.05864627, -0.03557418],\n",
       "       ...,\n",
       "       [ 2.17733079, -0.28861878, -0.45794306, ..., -0.03799699,\n",
       "         1.12199044, -0.03557418],\n",
       "       [-1.0912601 , -0.78065763, -1.69099551, ..., -0.03799699,\n",
       "        -1.37896708,  2.29047876],\n",
       "       [-1.0912601 , -1.33420662,  1.18612686, ..., -0.03799699,\n",
       "         0.50986797, -0.03557418]])"
      ]
     },
     "execution_count": 43,
     "metadata": {},
     "output_type": "execute_result"
    }
   ],
   "source": [
    "X_train_num_tr  #transformed into ndArray"
   ]
  },
  {
   "cell_type": "markdown",
   "metadata": {},
   "source": [
    "### One-hot encode categorical data"
   ]
  },
  {
   "cell_type": "code",
   "execution_count": 44,
   "metadata": {},
   "outputs": [
    {
     "name": "stdout",
     "output_type": "stream",
     "text": [
      "<class 'pandas.core.frame.DataFrame'>\n",
      "Int64Index: 22090 entries, 13063 to 27116\n",
      "Data columns (total 8 columns):\n",
      " #   Column          Non-Null Count  Dtype \n",
      "---  ------          --------------  ----- \n",
      " 0   work_type       22090 non-null  object\n",
      " 1   education       22090 non-null  object\n",
      " 2   marital_status  22090 non-null  object\n",
      " 3   occupation      22090 non-null  object\n",
      " 4   relationship    22090 non-null  object\n",
      " 5   race            22090 non-null  object\n",
      " 6   sex             22090 non-null  object\n",
      " 7   country         22090 non-null  object\n",
      "dtypes: object(8)\n",
      "memory usage: 1.5+ MB\n"
     ]
    }
   ],
   "source": [
    "X_train_cat.info()"
   ]
  },
  {
   "cell_type": "markdown",
   "metadata": {},
   "source": [
    "### **This is a new type of code (our own)"
   ]
  },
  {
   "cell_type": "markdown",
   "metadata": {},
   "source": [
    "# One-hot encode categorical data\n",
    "from sklearn.preprocessing import LabelBinarizer\n",
    "cat_col = [X_train_cat1,X_train_cat2,X_train_cat3,X_train_cat4,X_train_cat5,X_train_cat6,X_train_cat7,X_train_cat8]\n",
    "\n",
    "def ohe(cat_col, col):\n",
    "    cat_col[]=X_train_cat[col]\n",
    "    lb_encoder = LabelBinarizer()\n",
    "    cat1_encoder=LabelBinarizer()\n",
    "    cat1_encoder.fit(X_train_cat1)\n",
    "    X_train_cat_1=cat1_encoder.transform(X_train_cat1)      # returns numpy array\n",
    "    print(X_train_cat_1.shape)\n",
    "    \n",
    "    #Combine all One Hot Encoded Category Lable in to one Numpy Array\n",
    "    #combine=np.hstack((X_train_cat_1))\n",
    "    #print(\"Combine\",combine.shape)\n",
    "    \n",
    "for i in cat_attribute:\n",
    "    ohe(i)"
   ]
  },
  {
   "cell_type": "markdown",
   "metadata": {},
   "source": [
    "# Need to change!!!"
   ]
  },
  {
   "cell_type": "code",
   "execution_count": 114,
   "metadata": {},
   "outputs": [
    {
     "data": {
      "text/plain": [
       "13063      HS-grad\n",
       "30397         11th\n",
       "1059       HS-grad\n",
       "1982       HS-grad\n",
       "32042      HS-grad\n",
       "           ...    \n",
       "32140    Doctorate\n",
       "18851      7th-8th\n",
       "19407      HS-grad\n",
       "3481          10th\n",
       "27116    Bachelors\n",
       "Name: education, Length: 22090, dtype: object"
      ]
     },
     "execution_count": 114,
     "metadata": {},
     "output_type": "execute_result"
    }
   ],
   "source": [
    "X_train_cat.education"
   ]
  },
  {
   "cell_type": "code",
   "execution_count": 45,
   "metadata": {},
   "outputs": [],
   "source": [
    "#Seperate each of the Categorical Attribute for One Hot Encoding\n",
    "X_train_cat1=X_train_cat.work_type\n",
    "X_train_cat2=X_train_cat.education\n",
    "X_train_cat3=X_train_cat.marital_status\n",
    "X_train_cat4=X_train_cat.occupation\n",
    "X_train_cat5=X_train_cat.relationship\n",
    "X_train_cat6=X_train_cat.race\n",
    "X_train_cat7=X_train_cat.sex\n",
    "X_train_cat8=X_train_cat.country"
   ]
  },
  {
   "cell_type": "code",
   "execution_count": 46,
   "metadata": {},
   "outputs": [],
   "source": [
    "#One hot Encoding for Training Set\n",
    "from sklearn.preprocessing import LabelBinarizer\n",
    "\n",
    "\n",
    "#FIXME!:Convert These to Loops!\n",
    "\n",
    "#Instantaneous the LabelBinarizer Object for each Category\n",
    "lb_encoder=LabelBinarizer()\n",
    "cat1_encoder=LabelBinarizer()\n",
    "cat2_encoder=LabelBinarizer()\n",
    "cat3_encoder=LabelBinarizer()\n",
    "cat4_encoder=LabelBinarizer()\n",
    "cat5_encoder=LabelBinarizer()\n",
    "cat6_encoder=LabelBinarizer()\n",
    "cat7_encoder=LabelBinarizer()\n",
    "cat8_encoder=LabelBinarizer()\n",
    "\n",
    "#Create the Label Binarizer Encoder based on Training Set Values\n",
    "cat1_encoder.fit(X_train_cat1)\n",
    "cat2_encoder.fit(X_train_cat2)\n",
    "cat3_encoder.fit(X_train_cat3)\n",
    "cat4_encoder.fit(X_train_cat4)\n",
    "cat5_encoder.fit(X_train_cat5)\n",
    "cat6_encoder.fit(X_train_cat6)\n",
    "cat7_encoder.fit(X_train_cat7)\n",
    "cat8_encoder.fit(X_train_cat8)\n",
    "\n",
    "#Return the One Hot Encoded value as another Variable\n",
    "X_train_cat_1=cat1_encoder.transform(X_train_cat1)\n",
    "X_train_cat_2=cat2_encoder.transform(X_train_cat2)\n",
    "X_train_cat_3=cat3_encoder.transform(X_train_cat3)\n",
    "X_train_cat_4=cat4_encoder.transform(X_train_cat4)\n",
    "X_train_cat_5=cat5_encoder.transform(X_train_cat5)\n",
    "X_train_cat_6=cat6_encoder.transform(X_train_cat6)\n",
    "X_train_cat_7=cat7_encoder.transform(X_train_cat7)\n",
    "X_train_cat_8=cat8_encoder.transform(X_train_cat8)"
   ]
  },
  {
   "cell_type": "code",
   "execution_count": 47,
   "metadata": {},
   "outputs": [
    {
     "name": "stdout",
     "output_type": "stream",
     "text": [
      "These are the number of different values per category\n",
      "(22090, 7)\n",
      "(22090, 14)\n",
      "(22090, 7)\n",
      "(22090, 14)\n",
      "(22090, 6)\n",
      "(22090, 5)\n",
      "(22090, 1)\n",
      "(22090, 40)\n"
     ]
    }
   ],
   "source": [
    "print(\"These are the number of different values per category\")\n",
    "print(X_train_cat_1.shape)\n",
    "print(X_train_cat_2.shape)\n",
    "print(X_train_cat_3.shape)\n",
    "print(X_train_cat_4.shape)\n",
    "print(X_train_cat_5.shape)\n",
    "print(X_train_cat_6.shape)\n",
    "print(X_train_cat_7.shape)\n",
    "print(X_train_cat_8.shape)"
   ]
  },
  {
   "cell_type": "code",
   "execution_count": 48,
   "metadata": {},
   "outputs": [
    {
     "data": {
      "text/plain": [
       "(22090, 94)"
      ]
     },
     "execution_count": 48,
     "metadata": {},
     "output_type": "execute_result"
    }
   ],
   "source": [
    "#Combine all One Hot Encoded Category Lable in to one Numpy Array\n",
    "combine=np.hstack((X_train_cat_1,X_train_cat_2,X_train_cat_3,X_train_cat_4,X_train_cat_5,X_train_cat_6,X_train_cat_7,X_train_cat_8))\n",
    "combine.shape"
   ]
  },
  {
   "cell_type": "markdown",
   "metadata": {},
   "source": [
    "### Finalize Train Set"
   ]
  },
  {
   "cell_type": "code",
   "execution_count": 49,
   "metadata": {},
   "outputs": [
    {
     "name": "stdout",
     "output_type": "stream",
     "text": [
      "(22090, 101)\n",
      "(22090,)\n"
     ]
    }
   ],
   "source": [
    "#Combine Categorical and Numerical Data Together for Training Set\n",
    "\n",
    "#Original Traning Set\n",
    "X_train_tr=np.hstack((X_train_num_tr,combine))\n",
    "\n",
    "print(X_train_tr.shape)          #Severly Inflate the Attribute Count\n",
    "\n",
    "#Make sure the Samples are the same for X and y!\n",
    "print(y_train.shape)"
   ]
  },
  {
   "cell_type": "code",
   "execution_count": 50,
   "metadata": {
    "scrolled": false
   },
   "outputs": [
    {
     "data": {
      "text/plain": [
       "0    16988\n",
       "1     5102\n",
       "Name: salary_range, dtype: int64"
      ]
     },
     "execution_count": 50,
     "metadata": {},
     "output_type": "execute_result"
    }
   ],
   "source": [
    "y_train.value_counts()"
   ]
  },
  {
   "cell_type": "markdown",
   "metadata": {},
   "source": [
    "*Observation: May cause Imbalanced Class result"
   ]
  },
  {
   "cell_type": "markdown",
   "metadata": {},
   "source": [
    "## Preprocessing on Test set"
   ]
  },
  {
   "cell_type": "markdown",
   "metadata": {},
   "source": [
    "*The preprocessing steps are almost same with training set"
   ]
  },
  {
   "cell_type": "code",
   "execution_count": 51,
   "metadata": {
    "scrolled": true
   },
   "outputs": [
    {
     "name": "stdout",
     "output_type": "stream",
     "text": [
      "(5523, 7)\n",
      "(5523, 8)\n"
     ]
    }
   ],
   "source": [
    "#Seperate Numerical and Categorical Data for Processing\n",
    "cat_attribute = ['work_type','education', 'marital_status', 'occupation', 'relationship','race','sex','country']\n",
    "X_test_num = X_test.drop(cat_attribute, axis = 1)\n",
    "X_test_cat = X_test[cat_attribute]\n",
    "print(X_test_num.shape)\n",
    "print(X_test_cat.shape)"
   ]
  },
  {
   "cell_type": "markdown",
   "metadata": {},
   "source": [
    "### Standardize on Test Set "
   ]
  },
  {
   "cell_type": "code",
   "execution_count": 52,
   "metadata": {},
   "outputs": [],
   "source": [
    "from sklearn.preprocessing import StandardScaler\n",
    "X_test_num_tr = StandardScaler().fit_transform(X_test_num)"
   ]
  },
  {
   "cell_type": "code",
   "execution_count": 53,
   "metadata": {},
   "outputs": [
    {
     "name": "stdout",
     "output_type": "stream",
     "text": [
      "Mean:\n",
      " [-1.25435301e-16  6.30392795e-17 -4.50280568e-17 -3.02331238e-17\n",
      " -1.28651591e-17  8.10505022e-17  2.50227344e-16]\n",
      "\n",
      "Standard Deviation:\n",
      " [1. 1. 1. 1. 1. 1. 1.]\n"
     ]
    },
    {
     "data": {
      "text/plain": [
       "array([[-1.24620531,  1.2613252 , -0.46539946, ..., -0.03653474,\n",
       "         1.26297822, -0.0340742 ],\n",
       "       [ 0.15281513, -0.69891742, -0.05215168, ..., -0.03653474,\n",
       "        -1.71294566, -0.0340742 ],\n",
       "       [-1.01303524, -0.61572115, -0.46539946, ..., -0.03653474,\n",
       "        -1.40061403, -0.0340742 ],\n",
       "       ...,\n",
       "       [ 1.00777206, -0.51150655,  0.7743439 , ..., -0.03653474,\n",
       "        -1.27076829, -0.95839542],\n",
       "       [ 1.86272899, -0.27554956, -0.46539946, ..., -0.03653474,\n",
       "        -0.30218929, -0.40380269],\n",
       "       [-0.46897173,  0.52323179, -0.46539946, ..., -0.03653474,\n",
       "        -0.80051617, -0.0340742 ]])"
      ]
     },
     "execution_count": 53,
     "metadata": {},
     "output_type": "execute_result"
    }
   ],
   "source": [
    "print('Mean:\\n',X_test_num_tr.mean (axis=0))\n",
    "print('\\nStandard Deviation:\\n',X_test_num_tr.std (axis=0))\n",
    "X_test_num_tr  #transformed into ndArray"
   ]
  },
  {
   "cell_type": "markdown",
   "metadata": {},
   "source": [
    "### One Hot Encoding on Test Set"
   ]
  },
  {
   "cell_type": "code",
   "execution_count": 54,
   "metadata": {},
   "outputs": [],
   "source": [
    "#Seperate each of the Categorical Attribute for One Hot Encoding\n",
    "X_test_cat1=X_test_cat.work_type\n",
    "X_test_cat2=X_test_cat.education\n",
    "X_test_cat3=X_test_cat.marital_status\n",
    "X_test_cat4=X_test_cat.occupation\n",
    "X_test_cat5=X_test_cat.relationship\n",
    "X_test_cat6=X_test_cat.race\n",
    "X_test_cat7=X_test_cat.sex\n",
    "X_test_cat8=X_test_cat.country"
   ]
  },
  {
   "cell_type": "code",
   "execution_count": 55,
   "metadata": {},
   "outputs": [],
   "source": [
    "#One hot Encoding for Testing Set\n",
    "from sklearn.preprocessing import LabelBinarizer\n",
    "\n",
    "#Instantaneous the LabelBinarizer Object for each Category\n",
    "lb_encoder=LabelBinarizer()\n",
    "cat1_encoder=LabelBinarizer()\n",
    "cat2_encoder=LabelBinarizer()\n",
    "cat3_encoder=LabelBinarizer()\n",
    "cat4_encoder=LabelBinarizer()\n",
    "cat5_encoder=LabelBinarizer()\n",
    "cat6_encoder=LabelBinarizer()\n",
    "cat7_encoder=LabelBinarizer()\n",
    "cat8_encoder=LabelBinarizer()\n",
    "\n",
    "#Create the Label Binarizer Encoder based on Testing Set Values\n",
    "cat1_encoder.fit(X_test_cat1)\n",
    "cat2_encoder.fit(X_test_cat2)\n",
    "cat3_encoder.fit(X_test_cat3)\n",
    "cat4_encoder.fit(X_test_cat4)\n",
    "cat5_encoder.fit(X_test_cat5)\n",
    "cat6_encoder.fit(X_test_cat6)\n",
    "cat7_encoder.fit(X_test_cat7)\n",
    "cat8_encoder.fit(X_test_cat8)\n",
    "\n",
    "#Return the One Hot Encoded value as another Variable\n",
    "X_test_cat_1=cat1_encoder.transform(X_test_cat1)\n",
    "X_test_cat_2=cat2_encoder.transform(X_test_cat2)\n",
    "X_test_cat_3=cat3_encoder.transform(X_test_cat3)\n",
    "X_test_cat_4=cat4_encoder.transform(X_test_cat4)\n",
    "X_test_cat_5=cat5_encoder.transform(X_test_cat5)\n",
    "X_test_cat_6=cat6_encoder.transform(X_test_cat6)\n",
    "X_test_cat_7=cat7_encoder.transform(X_test_cat7)\n",
    "X_test_cat_8=cat8_encoder.transform(X_test_cat8)"
   ]
  },
  {
   "cell_type": "code",
   "execution_count": 56,
   "metadata": {},
   "outputs": [
    {
     "name": "stdout",
     "output_type": "stream",
     "text": [
      "These are the number of different values per category\n",
      "(5523, 7)\n",
      "(5523, 14)\n",
      "(5523, 7)\n",
      "(5523, 14)\n",
      "(5523, 6)\n",
      "(5523, 5)\n",
      "(5523, 1)\n",
      "(5523, 40)\n"
     ]
    }
   ],
   "source": [
    "print(\"These are the number of different values per category\")\n",
    "print(X_test_cat_1.shape)\n",
    "print(X_test_cat_2.shape)\n",
    "print(X_test_cat_3.shape)\n",
    "print(X_test_cat_4.shape)\n",
    "print(X_test_cat_5.shape)\n",
    "print(X_test_cat_6.shape)\n",
    "print(X_test_cat_7.shape)\n",
    "print(X_test_cat_8.shape)"
   ]
  },
  {
   "cell_type": "code",
   "execution_count": 57,
   "metadata": {},
   "outputs": [
    {
     "data": {
      "text/plain": [
       "(5523, 94)"
      ]
     },
     "execution_count": 57,
     "metadata": {},
     "output_type": "execute_result"
    }
   ],
   "source": [
    "#Combine all One Hot Encoded Category Lable in to one Numpy Array\n",
    "combine_test=np.hstack((X_test_cat_1,X_test_cat_2,X_test_cat_3,X_test_cat_4,X_test_cat_5,X_test_cat_6,X_test_cat_7,X_test_cat_8))\n",
    "combine_test.shape"
   ]
  },
  {
   "cell_type": "markdown",
   "metadata": {},
   "source": [
    "### Finalize Test Set"
   ]
  },
  {
   "cell_type": "code",
   "execution_count": 58,
   "metadata": {},
   "outputs": [
    {
     "name": "stdout",
     "output_type": "stream",
     "text": [
      "(5523, 101)\n",
      "(5523,)\n"
     ]
    }
   ],
   "source": [
    "#Combine Categorical and Numerical Data Together for Testing Dataset\n",
    "X_test_tr=np.hstack((X_test_num_tr,combine_test))\n",
    "#X_test_tr_std=np.hstack((X_test_num_std,combine_test))\n",
    "\n",
    "print(X_test_tr.shape) \n",
    "print(y_test.shape)        #Make Sure the Sample Count on Both are the Same"
   ]
  },
  {
   "cell_type": "code",
   "execution_count": 59,
   "metadata": {
    "scrolled": true
   },
   "outputs": [
    {
     "name": "stdout",
     "output_type": "stream",
     "text": [
      "Just the Summarize and Check,These are the information per array\n",
      "\n",
      "Original Dataset\n",
      "Salary (27613, 16)\n",
      "\n",
      "Preprocessed and Combined Training Set\n",
      "\n",
      "X_train_tr (22090, 101)\n",
      "y_train (22090,)\n",
      "\n",
      "Preprocessed and Combined Testing Set\n",
      "X_test_tr (5523, 101)\n",
      "y_test (5523,)\n",
      "\n",
      "Note: Make sure both X,Y have same No. of sample and Train/Test have same number of attribute\n"
     ]
    }
   ],
   "source": [
    "print(\"Just the Summarize and Check,These are the information per array\")\n",
    "print('\\nOriginal Dataset')\n",
    "print('Salary',new_salary1.shape)\n",
    "print('\\nPreprocessed and Combined Training Set\\n')\n",
    "print('X_train_tr',X_train_tr.shape)\n",
    "print('y_train',y_train.shape)\n",
    "\n",
    "print('\\nPreprocessed and Combined Testing Set')\n",
    "print('X_test_tr',X_test_tr.shape)\n",
    "print('y_test',y_test.shape)\n",
    "\n",
    "print('\\nNote: Make sure both X,Y have same No. of sample and Train/Test have same number of attribute')"
   ]
  },
  {
   "cell_type": "markdown",
   "metadata": {},
   "source": [
    "### Data Preprocessing End\n",
    "---"
   ]
  },
  {
   "cell_type": "markdown",
   "metadata": {},
   "source": [
    "# Training Operation Process Functions"
   ]
  },
  {
   "cell_type": "code",
   "execution_count": 60,
   "metadata": {},
   "outputs": [],
   "source": [
    "from sklearn.metrics import accuracy_score, roc_auc_score, roc_curve, precision_recall_curve, confusion_matrix, classification_report\n",
    "from sklearn.model_selection import cross_val_score, cross_validate, cross_val_predict\n",
    "\n",
    "scores = ['accuracy', 'precision', 'recall', 'f1_macro']\n",
    "overview = pd.DataFrame(columns = [\"Fit Time\",\"Score Time\",\"Accuracy\", \"Precision\", \"Recall\", \"F1 score\"])\n",
    "clf = [\"Logistic Regression\", \"Decision Tree Classifier\", \"Random Forest Classifier\", \"KNN Classifier\", \"Stochastic Gradient Descent\", \"MLP Classifier\"]\n",
    "y_pred_arr = {}\n",
    "overview_acc = pd.DataFrame(columns=[\"Accuracy\"])"
   ]
  },
  {
   "cell_type": "markdown",
   "metadata": {},
   "source": [
    "### Training Function"
   ]
  },
  {
   "cell_type": "code",
   "execution_count": 61,
   "metadata": {},
   "outputs": [],
   "source": [
    "from sklearn.metrics import f1_score, precision_score, recall_score\n",
    "\n",
    "def train(model, i):\n",
    "    model.fit(X_train_tr, y_train)\n",
    "    y_pred = model.predict(X_train_tr)\n",
    "    overview_acc.loc[clf[i]] = round(accuracy_score(y_pred, y_train)*100,4)\n",
    "    #print(clf[i], \"Accuracy: \",round(accuracy_score(y_pred, y_train)*100,4))"
   ]
  },
  {
   "cell_type": "markdown",
   "metadata": {},
   "source": [
    "### Cross Validation Function"
   ]
  },
  {
   "cell_type": "code",
   "execution_count": 62,
   "metadata": {},
   "outputs": [],
   "source": [
    "def cross_val(model, i, x = X_train_tr, y = y_train):\n",
    "    model.fit(x, y)\n",
    "    y_pred = cross_validate(model, x, y, cv= 5, scoring= scores)\n",
    "    report = pd.DataFrame(y_pred)\n",
    "    overview.loc[clf[i]] = [\"{:.4f}\".format(i) for i in report.mean().values]"
   ]
  },
  {
   "cell_type": "markdown",
   "metadata": {},
   "source": [
    "### Classification Report Function"
   ]
  },
  {
   "cell_type": "code",
   "execution_count": 63,
   "metadata": {},
   "outputs": [],
   "source": [
    "from sklearn.metrics import classification_report\n",
    "def classifyReport(model, i):\n",
    "    model.fit(X_train_tr, y_train)\n",
    "    y_pred = cross_val_predict(model, X_train_tr, y_train, cv= 5)\n",
    "    y_pred_arr[clf[i]] = y_pred\n",
    "    print(clf[i], '\\n')\n",
    "    print('Classification Report:\\n')\n",
    "    print(classification_report(y_train, y_pred_arr[clf[i]]))\n",
    "    print()"
   ]
  },
  {
   "cell_type": "markdown",
   "metadata": {},
   "source": [
    "### Confusion Matrix Function"
   ]
  },
  {
   "cell_type": "code",
   "execution_count": 64,
   "metadata": {},
   "outputs": [],
   "source": [
    "from sklearn.metrics import confusion_matrix\n",
    "def confusionMatrix(model, i):\n",
    "    #model.fit(X_train_tr, y_train)\n",
    "    #y_pred = cross_val_predict(model, X_train_tr, y_train, cv= 5)\n",
    "    print(clf[i])\n",
    "    print('Confusion Matrix:')\n",
    "    print(confusion_matrix(y_train,  y_pred_arr[clf[i]]))\n",
    "    print('\\nAccuracy:', accuracy_score(y_train, y_pred_arr[clf[i]]))\n",
    "    tn, fp, fn, tp = confusion_matrix(y_train, y_pred_arr[clf[i]]).ravel()\n",
    "    print(\"TN, FP, FN, TP : \", tn, fp, fn, tp)\n",
    "    print(\"\\n\")"
   ]
  },
  {
   "cell_type": "markdown",
   "metadata": {},
   "source": [
    "### Cross Validation Summary Graph"
   ]
  },
  {
   "cell_type": "code",
   "execution_count": 65,
   "metadata": {},
   "outputs": [],
   "source": [
    "def cv_sum():\n",
    "    pd.DataFrame([float(i) for i in overview.Accuracy], index=clf, columns=['Accuracy']).plot.bar()\n",
    "    \n",
    "    plt.legend(bbox_to_anchor=(1.1, 1.05))\n",
    "    plt.xlabel(\"Machine Learning Algorithms\")\n",
    "    plt.ylabel(\"Accuracy Score\")\n",
    "    plt.title(\"Accuracy Graph\")\n",
    "    plt.show()"
   ]
  },
  {
   "cell_type": "markdown",
   "metadata": {},
   "source": [
    "### Overview Performance Graph"
   ]
  },
  {
   "cell_type": "code",
   "execution_count": 66,
   "metadata": {},
   "outputs": [],
   "source": [
    "def performance_sum():\n",
    "\n",
    "    precision_sco = [float(i) for i in overview['Precision']]\n",
    "    recall_sco    = [float(i) for i in overview['Recall']]\n",
    "    f1_sco        = [float(i) for i in overview['F1 score']]\n",
    "\n",
    "    pd.DataFrame([precision_sco,recall_sco,f1_sco], columns=clf, index=['Precision','Recall','F1 Score']).transpose().plot.bar()\n",
    "    plt.legend(bbox_to_anchor=(1.1, 1.05))\n",
    "    plt.xlabel(\"Machine Learning Algorithms\")\n",
    "    plt.ylabel(\"Score\")\n",
    "    plt.title(\"Results\")\n",
    "    plt.show()"
   ]
  },
  {
   "cell_type": "markdown",
   "metadata": {},
   "source": [
    "---\n",
    "# Model Performance Indicator Functions"
   ]
  },
  {
   "cell_type": "markdown",
   "metadata": {},
   "source": [
    "### Precision-Recall Curve"
   ]
  },
  {
   "cell_type": "code",
   "execution_count": 67,
   "metadata": {},
   "outputs": [],
   "source": [
    "def plot_precision_vs_recall(model, i, x = X_train_tr, y = y_train):\n",
    "    precisions, recalls, thresholds = precision_recall_curve(y, y_pred_arr[clf[i]])\n",
    "    ax.plot(recalls, precisions, linewidth=3, label = clf[i])\n",
    "    ax.plot(np.linspace(0, 1, 20), np.linspace(1, 0, 20), 'k--')"
   ]
  },
  {
   "cell_type": "markdown",
   "metadata": {},
   "source": [
    "###  ROC Curve"
   ]
  },
  {
   "cell_type": "code",
   "execution_count": 68,
   "metadata": {},
   "outputs": [],
   "source": [
    "def plot_roc_curve(i, y = y_train):\n",
    "    fpr, tpr, treshold = roc_curve(y, y_pred_arr[clf[i]])\n",
    "    ax.plot(fpr, tpr, linewidth = 3, label = clf[i])\n",
    "    ax.plot([0,1], [0, 1], 'k--')"
   ]
  },
  {
   "cell_type": "markdown",
   "metadata": {},
   "source": [
    "---\n",
    "# Model Overfitting\n",
    " TO BE COMPLETED"
   ]
  },
  {
   "cell_type": "markdown",
   "metadata": {},
   "source": [
    "---\n",
    "# Model Training\n",
    "6 algorithms are used to train the model:\n",
    "1. Logistic Regression\n",
    "2. Decision Tree\n",
    "3. Random Forest\n",
    "4. K Nearest Neighbour\n",
    "5. Stochastic Gradient Descent (SGD)\n",
    "6. Multi-layer Perceptron (MLP)"
   ]
  },
  {
   "cell_type": "code",
   "execution_count": 69,
   "metadata": {},
   "outputs": [],
   "source": [
    "##Model 1 - Logistic Regression\n",
    "from sklearn.linear_model import LogisticRegression\n",
    "model1 = LogisticRegression(max_iter=100000)\n",
    "\n",
    "##Model 2 - Decision Tree\n",
    "from sklearn.tree import DecisionTreeClassifier\n",
    "model2 = DecisionTreeClassifier(random_state=1)\n",
    "\n",
    "##Model 3 - Random Forest\n",
    "from sklearn.ensemble import RandomForestClassifier\n",
    "model3 = RandomForestClassifier()\n",
    "\n",
    "##Model 4 - K-Nearest Neighbour (KNN)\n",
    "from sklearn.neighbors import KNeighborsClassifier\n",
    "model4 = KNeighborsClassifier(n_neighbors=20)\n",
    "\n",
    "##Model 5 - Stochastic Gradient Descent (SGD)\n",
    "from sklearn.linear_model import SGDClassifier\n",
    "model5 = SGDClassifier(loss=\"hinge\", penalty=\"l2\", max_iter=200,random_state=42)\n",
    "\n",
    "##Model 6 - Multi-layer Perceptron (MLP)\n",
    "from sklearn.neural_network import MLPClassifier\n",
    "model6 = MLPClassifier()"
   ]
  },
  {
   "cell_type": "markdown",
   "metadata": {},
   "source": [
    "### Accuracy Train"
   ]
  },
  {
   "cell_type": "code",
   "execution_count": 70,
   "metadata": {
    "scrolled": true
   },
   "outputs": [],
   "source": [
    "for i, a in enumerate([model1, model2, model3, model4, model5, model6]):\n",
    "    train(a, i)"
   ]
  },
  {
   "cell_type": "code",
   "execution_count": 71,
   "metadata": {},
   "outputs": [
    {
     "data": {
      "text/html": [
       "<div>\n",
       "<style scoped>\n",
       "    .dataframe tbody tr th:only-of-type {\n",
       "        vertical-align: middle;\n",
       "    }\n",
       "\n",
       "    .dataframe tbody tr th {\n",
       "        vertical-align: top;\n",
       "    }\n",
       "\n",
       "    .dataframe thead th {\n",
       "        text-align: right;\n",
       "    }\n",
       "</style>\n",
       "<table border=\"1\" class=\"dataframe\">\n",
       "  <thead>\n",
       "    <tr style=\"text-align: right;\">\n",
       "      <th></th>\n",
       "      <th>Accuracy</th>\n",
       "    </tr>\n",
       "  </thead>\n",
       "  <tbody>\n",
       "    <tr>\n",
       "      <th>Logistic Regression</th>\n",
       "      <td>85.0973</td>\n",
       "    </tr>\n",
       "    <tr>\n",
       "      <th>Decision Tree Classifier</th>\n",
       "      <td>100.0000</td>\n",
       "    </tr>\n",
       "    <tr>\n",
       "      <th>Random Forest Classifier</th>\n",
       "      <td>99.9955</td>\n",
       "    </tr>\n",
       "    <tr>\n",
       "      <th>KNN Classifier</th>\n",
       "      <td>86.3105</td>\n",
       "    </tr>\n",
       "    <tr>\n",
       "      <th>Stochastic Gradient Descent</th>\n",
       "      <td>85.0113</td>\n",
       "    </tr>\n",
       "    <tr>\n",
       "      <th>MLP Classifier</th>\n",
       "      <td>91.1996</td>\n",
       "    </tr>\n",
       "  </tbody>\n",
       "</table>\n",
       "</div>"
      ],
      "text/plain": [
       "                             Accuracy\n",
       "Logistic Regression           85.0973\n",
       "Decision Tree Classifier     100.0000\n",
       "Random Forest Classifier      99.9955\n",
       "KNN Classifier                86.3105\n",
       "Stochastic Gradient Descent   85.0113\n",
       "MLP Classifier                91.1996"
      ]
     },
     "execution_count": 71,
     "metadata": {},
     "output_type": "execute_result"
    }
   ],
   "source": [
    "overview_acc"
   ]
  },
  {
   "cell_type": "markdown",
   "metadata": {},
   "source": [
    "### Cross Validation"
   ]
  },
  {
   "cell_type": "code",
   "execution_count": 72,
   "metadata": {
    "scrolled": true
   },
   "outputs": [],
   "source": [
    "for i, a in enumerate([model1, model2, model3, model4, model5, model6]):\n",
    "    cross_val(a, i)"
   ]
  },
  {
   "cell_type": "markdown",
   "metadata": {},
   "source": [
    "### Classification Report"
   ]
  },
  {
   "cell_type": "code",
   "execution_count": 73,
   "metadata": {
    "scrolled": true
   },
   "outputs": [
    {
     "name": "stdout",
     "output_type": "stream",
     "text": [
      "Logistic Regression \n",
      "\n",
      "Classification Report:\n",
      "\n",
      "              precision    recall  f1-score   support\n",
      "\n",
      "           0       0.88      0.93      0.90     16988\n",
      "           1       0.72      0.57      0.64      5102\n",
      "\n",
      "    accuracy                           0.85     22090\n",
      "   macro avg       0.80      0.75      0.77     22090\n",
      "weighted avg       0.84      0.85      0.84     22090\n",
      "\n",
      "\n",
      "Decision Tree Classifier \n",
      "\n",
      "Classification Report:\n",
      "\n",
      "              precision    recall  f1-score   support\n",
      "\n",
      "           0       0.87      0.87      0.87     16988\n",
      "           1       0.57      0.58      0.58      5102\n",
      "\n",
      "    accuracy                           0.80     22090\n",
      "   macro avg       0.72      0.73      0.72     22090\n",
      "weighted avg       0.80      0.80      0.80     22090\n",
      "\n",
      "\n",
      "Random Forest Classifier \n",
      "\n",
      "Classification Report:\n",
      "\n",
      "              precision    recall  f1-score   support\n",
      "\n",
      "           0       0.88      0.93      0.91     16988\n",
      "           1       0.73      0.59      0.65      5102\n",
      "\n",
      "    accuracy                           0.85     22090\n",
      "   macro avg       0.80      0.76      0.78     22090\n",
      "weighted avg       0.85      0.85      0.85     22090\n",
      "\n",
      "\n",
      "KNN Classifier \n",
      "\n",
      "Classification Report:\n",
      "\n",
      "              precision    recall  f1-score   support\n",
      "\n",
      "           0       0.88      0.93      0.91     16988\n",
      "           1       0.72      0.58      0.64      5102\n",
      "\n",
      "    accuracy                           0.85     22090\n",
      "   macro avg       0.80      0.76      0.77     22090\n",
      "weighted avg       0.84      0.85      0.84     22090\n",
      "\n",
      "\n",
      "Stochastic Gradient Descent \n",
      "\n",
      "Classification Report:\n",
      "\n",
      "              precision    recall  f1-score   support\n",
      "\n",
      "           0       0.88      0.93      0.90     16988\n",
      "           1       0.71      0.57      0.63      5102\n",
      "\n",
      "    accuracy                           0.85     22090\n",
      "   macro avg       0.79      0.75      0.77     22090\n",
      "weighted avg       0.84      0.85      0.84     22090\n",
      "\n",
      "\n",
      "MLP Classifier \n",
      "\n",
      "Classification Report:\n",
      "\n",
      "              precision    recall  f1-score   support\n",
      "\n",
      "           0       0.89      0.92      0.90     16988\n",
      "           1       0.68      0.61      0.64      5102\n",
      "\n",
      "    accuracy                           0.84     22090\n",
      "   macro avg       0.78      0.76      0.77     22090\n",
      "weighted avg       0.84      0.84      0.84     22090\n",
      "\n",
      "\n"
     ]
    }
   ],
   "source": [
    "for i, a in enumerate([model1, model2, model3, model4, model5, model6]):\n",
    "    classifyReport(a, i)"
   ]
  },
  {
   "cell_type": "markdown",
   "metadata": {},
   "source": [
    "### Confusion Matrix"
   ]
  },
  {
   "cell_type": "code",
   "execution_count": 74,
   "metadata": {
    "scrolled": true
   },
   "outputs": [
    {
     "name": "stdout",
     "output_type": "stream",
     "text": [
      "Logistic Regression\n",
      "Confusion Matrix:\n",
      "[[15849  1139]\n",
      " [ 2197  2905]]\n",
      "\n",
      "Accuracy: 0.8489814395654142\n",
      "TN, FP, FN, TP :  15849 1139 2197 2905\n",
      "\n",
      "\n",
      "Decision Tree Classifier\n",
      "Confusion Matrix:\n",
      "[[14735  2253]\n",
      " [ 2123  2979]]\n",
      "\n",
      "Accuracy: 0.8019013128112268\n",
      "TN, FP, FN, TP :  14735 2253 2123 2979\n",
      "\n",
      "\n",
      "Random Forest Classifier\n",
      "Confusion Matrix:\n",
      "[[15856  1132]\n",
      " [ 2100  3002]]\n",
      "\n",
      "Accuracy: 0.8536894522408329\n",
      "TN, FP, FN, TP :  15856 1132 2100 3002\n",
      "\n",
      "\n",
      "KNN Classifier\n",
      "Confusion Matrix:\n",
      "[[15805  1183]\n",
      " [ 2133  2969]]\n",
      "\n",
      "Accuracy: 0.8498868266183793\n",
      "TN, FP, FN, TP :  15805 1183 2133 2969\n",
      "\n",
      "\n",
      "Stochastic Gradient Descent\n",
      "Confusion Matrix:\n",
      "[[15776  1212]\n",
      " [ 2173  2929]]\n",
      "\n",
      "Accuracy: 0.8467632412856496\n",
      "TN, FP, FN, TP :  15776 1212 2173 2929\n",
      "\n",
      "\n",
      "MLP Classifier\n",
      "Confusion Matrix:\n",
      "[[15550  1438]\n",
      " [ 2011  3091]]\n",
      "\n",
      "Accuracy: 0.8438660027161612\n",
      "TN, FP, FN, TP :  15550 1438 2011 3091\n",
      "\n",
      "\n"
     ]
    }
   ],
   "source": [
    "for i, a in enumerate([model1, model2, model3, model4, model5, model6]):\n",
    "    confusionMatrix(a, i)"
   ]
  },
  {
   "cell_type": "markdown",
   "metadata": {},
   "source": [
    "---"
   ]
  },
  {
   "cell_type": "markdown",
   "metadata": {},
   "source": [
    "### Cross Validation Graph"
   ]
  },
  {
   "cell_type": "code",
   "execution_count": 75,
   "metadata": {},
   "outputs": [
    {
     "data": {
      "image/png": "[encoded data removed]",
      "text/plain": [
       "<Figure size 432x288 with 1 Axes>"
      ]
     },
     "metadata": {
      "needs_background": "light"
     },
     "output_type": "display_data"
    }
   ],
   "source": [
    "cv_sum()"
   ]
  },
  {
   "cell_type": "markdown",
   "metadata": {},
   "source": [
    "### Overall Performance"
   ]
  },
  {
   "cell_type": "code",
   "execution_count": 76,
   "metadata": {},
   "outputs": [
    {
     "data": {
      "text/html": [
       "<div>\n",
       "<style scoped>\n",
       "    .dataframe tbody tr th:only-of-type {\n",
       "        vertical-align: middle;\n",
       "    }\n",
       "\n",
       "    .dataframe tbody tr th {\n",
       "        vertical-align: top;\n",
       "    }\n",
       "\n",
       "    .dataframe thead th {\n",
       "        text-align: right;\n",
       "    }\n",
       "</style>\n",
       "<table border=\"1\" class=\"dataframe\">\n",
       "  <thead>\n",
       "    <tr style=\"text-align: right;\">\n",
       "      <th></th>\n",
       "      <th>Fit Time</th>\n",
       "      <th>Score Time</th>\n",
       "      <th>Accuracy</th>\n",
       "      <th>Precision</th>\n",
       "      <th>Recall</th>\n",
       "      <th>F1 score</th>\n",
       "    </tr>\n",
       "  </thead>\n",
       "  <tbody>\n",
       "    <tr>\n",
       "      <th>Logistic Regression</th>\n",
       "      <td>0.6241</td>\n",
       "      <td>0.0090</td>\n",
       "      <td>0.8490</td>\n",
       "      <td>0.7184</td>\n",
       "      <td>0.5694</td>\n",
       "      <td>0.7700</td>\n",
       "    </tr>\n",
       "    <tr>\n",
       "      <th>Decision Tree Classifier</th>\n",
       "      <td>0.1957</td>\n",
       "      <td>0.0072</td>\n",
       "      <td>0.8019</td>\n",
       "      <td>0.5694</td>\n",
       "      <td>0.5839</td>\n",
       "      <td>0.7236</td>\n",
       "    </tr>\n",
       "    <tr>\n",
       "      <th>Random Forest Classifier</th>\n",
       "      <td>2.5042</td>\n",
       "      <td>0.0932</td>\n",
       "      <td>0.8552</td>\n",
       "      <td>0.7288</td>\n",
       "      <td>0.5943</td>\n",
       "      <td>0.7815</td>\n",
       "    </tr>\n",
       "    <tr>\n",
       "      <th>KNN Classifier</th>\n",
       "      <td>1.0072</td>\n",
       "      <td>12.8012</td>\n",
       "      <td>0.8499</td>\n",
       "      <td>0.7152</td>\n",
       "      <td>0.5819</td>\n",
       "      <td>0.7733</td>\n",
       "    </tr>\n",
       "    <tr>\n",
       "      <th>Stochastic Gradient Descent</th>\n",
       "      <td>0.2484</td>\n",
       "      <td>0.0075</td>\n",
       "      <td>0.8468</td>\n",
       "      <td>0.7103</td>\n",
       "      <td>0.5741</td>\n",
       "      <td>0.7681</td>\n",
       "    </tr>\n",
       "    <tr>\n",
       "      <th>MLP Classifier</th>\n",
       "      <td>24.2313</td>\n",
       "      <td>0.0184</td>\n",
       "      <td>0.8400</td>\n",
       "      <td>0.6689</td>\n",
       "      <td>0.6127</td>\n",
       "      <td>0.7678</td>\n",
       "    </tr>\n",
       "  </tbody>\n",
       "</table>\n",
       "</div>"
      ],
      "text/plain": [
       "                            Fit Time Score Time Accuracy Precision  Recall  \\\n",
       "Logistic Regression           0.6241     0.0090   0.8490    0.7184  0.5694   \n",
       "Decision Tree Classifier      0.1957     0.0072   0.8019    0.5694  0.5839   \n",
       "Random Forest Classifier      2.5042     0.0932   0.8552    0.7288  0.5943   \n",
       "KNN Classifier                1.0072    12.8012   0.8499    0.7152  0.5819   \n",
       "Stochastic Gradient Descent   0.2484     0.0075   0.8468    0.7103  0.5741   \n",
       "MLP Classifier               24.2313     0.0184   0.8400    0.6689  0.6127   \n",
       "\n",
       "                            F1 score  \n",
       "Logistic Regression           0.7700  \n",
       "Decision Tree Classifier      0.7236  \n",
       "Random Forest Classifier      0.7815  \n",
       "KNN Classifier                0.7733  \n",
       "Stochastic Gradient Descent   0.7681  \n",
       "MLP Classifier                0.7678  "
      ]
     },
     "execution_count": 76,
     "metadata": {},
     "output_type": "execute_result"
    }
   ],
   "source": [
    "overview"
   ]
  },
  {
   "cell_type": "markdown",
   "metadata": {},
   "source": [
    "### Overall Performance Graph"
   ]
  },
  {
   "cell_type": "code",
   "execution_count": 77,
   "metadata": {},
   "outputs": [
    {
     "data": {
      "image/png": "[encoded data removed]",
      "text/plain": [
       "<Figure size 432x288 with 1 Axes>"
      ]
     },
     "metadata": {
      "needs_background": "light"
     },
     "output_type": "display_data"
    }
   ],
   "source": [
    "performance_sum()"
   ]
  },
  {
   "cell_type": "markdown",
   "metadata": {},
   "source": [
    "## Precision-Recall Curve"
   ]
  },
  {
   "cell_type": "code",
   "execution_count": 78,
   "metadata": {},
   "outputs": [
    {
     "data": {
      "image/png": "[encoded data removed]",
      "text/plain": [
       "<Figure size 576x576 with 1 Axes>"
      ]
     },
     "metadata": {
      "needs_background": "light"
     },
     "output_type": "display_data"
    }
   ],
   "source": [
    "fig, ax = plt.subplots(figsize=(8,8))\n",
    "\n",
    "for i in range(6):\n",
    "    plot_precision_vs_recall(y_pred_arr[clf[i]], i)\n",
    "\n",
    "ax.axis([0, 1, 0, 1])\n",
    "ax.legend(bbox_to_anchor=(1.5, 1.01))\n",
    "plt.xlabel(\"Recall\", fontsize=16)\n",
    "plt.ylabel(\"Precision\", fontsize=16)\n",
    "plt.title ('Precision-Recall Graph', fontsize = 20)\n",
    "plt.show()"
   ]
  },
  {
   "cell_type": "markdown",
   "metadata": {},
   "source": [
    "## ROC Curve"
   ]
  },
  {
   "cell_type": "code",
   "execution_count": 79,
   "metadata": {},
   "outputs": [
    {
     "data": {
      "image/png": "[encoded data removed]",
      "text/plain": [
       "<Figure size 576x576 with 1 Axes>"
      ]
     },
     "metadata": {
      "needs_background": "light"
     },
     "output_type": "display_data"
    }
   ],
   "source": [
    "fig, ax = plt.subplots(figsize=(8,8))\n",
    "\n",
    "for i in range(6):\n",
    "    plot_roc_curve(i)\n",
    "\n",
    "ax.axis([0, 1, 0, 1])\n",
    "ax.legend(bbox_to_anchor=(1.1, 1.01))\n",
    "\n",
    "plt.xlabel ('False Positive Rate')\n",
    "plt.ylabel ('True Positive Rate')\n",
    "plt.title('TPR vs FPR', fontsize=20)\n",
    "plt.show()"
   ]
  },
  {
   "cell_type": "markdown",
   "metadata": {},
   "source": [
    "## AUC Score"
   ]
  },
  {
   "cell_type": "code",
   "execution_count": 80,
   "metadata": {},
   "outputs": [
    {
     "data": {
      "text/html": [
       "<div>\n",
       "<style scoped>\n",
       "    .dataframe tbody tr th:only-of-type {\n",
       "        vertical-align: middle;\n",
       "    }\n",
       "\n",
       "    .dataframe tbody tr th {\n",
       "        vertical-align: top;\n",
       "    }\n",
       "\n",
       "    .dataframe thead th {\n",
       "        text-align: right;\n",
       "    }\n",
       "</style>\n",
       "<table border=\"1\" class=\"dataframe\">\n",
       "  <thead>\n",
       "    <tr style=\"text-align: right;\">\n",
       "      <th></th>\n",
       "      <th>AUC Score</th>\n",
       "    </tr>\n",
       "  </thead>\n",
       "  <tbody>\n",
       "    <tr>\n",
       "      <th>Logistic Regression</th>\n",
       "      <td>0.751169</td>\n",
       "    </tr>\n",
       "    <tr>\n",
       "      <th>Decision Tree Classifier</th>\n",
       "      <td>0.725633</td>\n",
       "    </tr>\n",
       "    <tr>\n",
       "      <th>Random Forest Classifier</th>\n",
       "      <td>0.760881</td>\n",
       "    </tr>\n",
       "    <tr>\n",
       "      <th>KNN Classifier</th>\n",
       "      <td>0.756146</td>\n",
       "    </tr>\n",
       "    <tr>\n",
       "      <th>Stochastic Gradient Descent</th>\n",
       "      <td>0.751372</td>\n",
       "    </tr>\n",
       "    <tr>\n",
       "      <th>MLP Classifier</th>\n",
       "      <td>0.760596</td>\n",
       "    </tr>\n",
       "  </tbody>\n",
       "</table>\n",
       "</div>"
      ],
      "text/plain": [
       "                             AUC Score\n",
       "Logistic Regression           0.751169\n",
       "Decision Tree Classifier      0.725633\n",
       "Random Forest Classifier      0.760881\n",
       "KNN Classifier                0.756146\n",
       "Stochastic Gradient Descent   0.751372\n",
       "MLP Classifier                0.760596"
      ]
     },
     "execution_count": 80,
     "metadata": {},
     "output_type": "execute_result"
    }
   ],
   "source": [
    "roc_auc_score_arr = [roc_auc_score(y_train, y_pred_arr[clf[i]]) for i in range(6)]\n",
    "auc_score_report = pd.DataFrame(roc_auc_score_arr, columns=[\"AUC Score\"], index = clf)\n",
    "auc_score_report"
   ]
  },
  {
   "cell_type": "code",
   "execution_count": 81,
   "metadata": {},
   "outputs": [
    {
     "data": {
      "image/png": "[encoded data removed]",
      "text/plain": [
       "<Figure size 1296x432 with 1 Axes>"
      ]
     },
     "metadata": {
      "needs_background": "light"
     },
     "output_type": "display_data"
    }
   ],
   "source": [
    "temp = auc_score_report[\"AUC Score\"]\n",
    "width = 0.3\n",
    "\n",
    "fig, ax = plt.subplots(figsize=(18,6))\n",
    "\n",
    "x1 = np.arange(len(temp))\n",
    "for i in range(len(temp)):\n",
    "    ax.bar(i,temp[i],width, label=overview.index[i])\n",
    "    ax.text(i-0.10,temp[i],\"{:.4f}\".format(temp[i]))\n",
    "\n",
    "ax.legend(bbox_to_anchor=(1.02, 1.02))\n",
    "plt.xticks(x1,overview.index)\n",
    "plt.xlabel(\"Types of Classifier\")\n",
    "plt.ylabel(\"Accuracy Score\")\n",
    "plt.show()"
   ]
  },
  {
   "cell_type": "markdown",
   "metadata": {},
   "source": [
    "---\n",
    "# Fine Tune Model\n",
    "<br/>\n",
    "So, now we have determined that Random Forest Classifier is the most suitable algorithm, we shall now fine tune the model. Each model comes with different hyperparameters. Hyperparameters are the settings of a machine learning that needs to be set prior to training. To find the best hyperparameter values for these settings, we shall use the Grid Search."
   ]
  },
  {
   "cell_type": "code",
   "execution_count": 82,
   "metadata": {},
   "outputs": [],
   "source": [
    "def evaluate(model, test_features, test_labels):\n",
    "    predictions = model.predict(test_features)\n",
    "    errors = abs(predictions - test_labels)\n",
    "    mape = 100 * np.mean(errors / test_labels)\n",
    "    accuracy = 100 - mape\n",
    "    print('Model Performance')\n",
    "    print('Average Error: {:0.4f} degrees.'.format(np.mean(errors)))\n",
    "    print('Accuracy = {:0.2f}%.'.format(accuracy))\n",
    "    \n",
    "    return accuracy"
   ]
  },
  {
   "cell_type": "code",
   "execution_count": 83,
   "metadata": {},
   "outputs": [],
   "source": [
    "from sklearn.model_selection import GridSearchCV\n",
    "# Create the parameter grid based on the results of random search \n",
    "param_grid = {\n",
    "    'bootstrap': [True],\n",
    "    'max_depth': [80, 90, 100, 110],\n",
    "    'max_features': [2, 3],\n",
    "    'min_samples_leaf': [3, 4, 5],\n",
    "    'min_samples_split': [8, 10, 12],\n",
    "    'n_estimators': [100, 200, 300, 1000]\n",
    "}\n",
    "# Create a based model\n",
    "rf = RandomForestClassifier()\n",
    "# Instantiate the grid search model\n",
    "grid_search = GridSearchCV(estimator = rf, param_grid = param_grid, cv = 3, n_jobs = -1, verbose = 2)"
   ]
  },
  {
   "cell_type": "code",
   "execution_count": 84,
   "metadata": {},
   "outputs": [
    {
     "name": "stdout",
     "output_type": "stream",
     "text": [
      "Fitting 3 folds for each of 288 candidates, totalling 864 fits\n"
     ]
    },
    {
     "name": "stderr",
     "output_type": "stream",
     "text": [
      "[Parallel(n_jobs=-1)]: Using backend LokyBackend with 8 concurrent workers.\n",
      "[Parallel(n_jobs=-1)]: Done  25 tasks      | elapsed:   37.4s\n",
      "[Parallel(n_jobs=-1)]: Done 146 tasks      | elapsed:  3.0min\n",
      "[Parallel(n_jobs=-1)]: Done 349 tasks      | elapsed:  6.7min\n",
      "[Parallel(n_jobs=-1)]: Done 632 tasks      | elapsed: 12.0min\n",
      "[Parallel(n_jobs=-1)]: Done 864 out of 864 | elapsed: 16.1min finished\n"
     ]
    },
    {
     "data": {
      "text/plain": [
       "{'bootstrap': True,\n",
       " 'max_depth': 90,\n",
       " 'max_features': 3,\n",
       " 'min_samples_leaf': 3,\n",
       " 'min_samples_split': 8,\n",
       " 'n_estimators': 100}"
      ]
     },
     "execution_count": 84,
     "metadata": {},
     "output_type": "execute_result"
    }
   ],
   "source": [
    "# Fit the grid search to the data\n",
    "grid_search.fit(X_train_tr, y_train)\n",
    "grid_search.best_params_"
   ]
  },
  {
   "cell_type": "code",
   "execution_count": 86,
   "metadata": {},
   "outputs": [
    {
     "data": {
      "image/png": "[encoded data removed]",
      "text/plain": [
       "<Figure size 432x288 with 1 Axes>"
      ]
     },
     "metadata": {
      "needs_background": "light"
     },
     "output_type": "display_data"
    }
   ],
   "source": [
    "from sklearn.model_selection import validation_curve\n",
    "\n",
    "# Create range of values for parameter\n",
    "param_range = np.arange(1, 250, 2)\n",
    "\n",
    "# Calculate accuracy on training and test set using range of parameter values\n",
    "train_scores, test_scores = validation_curve(RandomForestClassifier(), \n",
    "                                             X_train_tr, \n",
    "                                             y_train, \n",
    "                                             param_name=\"n_estimators\", \n",
    "                                             param_range=param_range,\n",
    "                                             cv=3, \n",
    "                                             scoring=\"accuracy\", \n",
    "                                             n_jobs=-1)\n",
    "\n",
    "\n",
    "# Calculate mean and standard deviation for training set scores\n",
    "train_mean = np.mean(train_scores, axis=1)\n",
    "train_std = np.std(train_scores, axis=1)\n",
    "\n",
    "# Calculate mean and standard deviation for test set scores\n",
    "test_mean = np.mean(test_scores, axis=1)\n",
    "test_std = np.std(test_scores, axis=1)\n",
    "\n",
    "# Plot mean accuracy scores for training and test sets\n",
    "plt.plot(param_range, train_mean, label=\"Training score\", color=\"black\")\n",
    "plt.plot(param_range, test_mean, label=\"Cross-validation score\", color=\"dimgrey\")\n",
    "\n",
    "# Plot accurancy bands for training and test sets\n",
    "plt.fill_between(param_range, train_mean - train_std, train_mean + train_std, color=\"gray\")\n",
    "plt.fill_between(param_range, test_mean - test_std, test_mean + test_std, color=\"gainsboro\")\n",
    "\n",
    "# Create plot\n",
    "plt.title(\"Validation Curve With Random Forest\")\n",
    "plt.xlabel(\"Number Of Trees\")\n",
    "plt.ylabel(\"Accuracy Score\")\n",
    "plt.tight_layout()\n",
    "plt.legend(loc=\"best\")\n",
    "plt.show()"
   ]
  },
  {
   "cell_type": "markdown",
   "metadata": {},
   "source": [
    "---\n",
    "# Testing the Model\n"
   ]
  },
  {
   "cell_type": "code",
   "execution_count": 135,
   "metadata": {},
   "outputs": [],
   "source": [
    "#reset\n",
    "overview = pd.DataFrame(columns=[\"Fit time\",\"Score time\",\"Accuracy\",\"Precision\",\"Recall\",\"F1 Score\"])\n",
    "y_pred_arr = {}\n",
    "\n",
    "#new Data\n",
    "clf.append(\"Extra Tree Classifier(HyperTuned)\")"
   ]
  },
  {
   "cell_type": "code",
   "execution_count": null,
   "metadata": {},
   "outputs": [],
   "source": [
    "##Model 1 - Logistic Regression\n",
    "model1 = LogisticRegression(max_iter=100000)\n",
    "cross_val(model1, 0, X_test_tr, y_test)\n",
    "\n",
    "##Model 2 - Decision Tree\n",
    "model2 = DecisionTreeClassifier(random_state=1)\n",
    "cross_val(model2, 1, X_test_tr, y_test)\n",
    "\n",
    "##Model 3 - Random Forest (Tuned Hyperparameter)\n",
    "model3 = RandomForestClassifier()\n",
    "cross_val(model3, 2, X_test_tr, y_test)\n",
    "\n",
    "##Model 4 - K-Nearest Neighbour (KNN)\n",
    "model4 = KNeighborsClassifier(n_neighbors=20)\n",
    "cross_val(model4, 3, X_test_tr, y_test)\n",
    "\n",
    "##Model 5 - Stochastic Gradient Descent (SGD)\n",
    "model5 = SGDClassifier(loss=\"hinge\", penalty=\"l2\", max_iter=200,random_state=42)\n",
    "cross_val(model5, 4, X_test_tr, y_test)\n",
    "\n",
    "##Model 6 - Multi-layer Perceptron (MLP)\n",
    "model6 = MLPClassifier()\n",
    "cross_val(model6, 5, X_test_tr, y_test)"
   ]
  },
  {
   "cell_type": "code",
   "execution_count": null,
   "metadata": {},
   "outputs": [],
   "source": [
    "overview"
   ]
  },
  {
   "cell_type": "code",
   "execution_count": null,
   "metadata": {},
   "outputs": [],
   "source": [
    "performance_sum()"
   ]
  },
  {
   "cell_type": "code",
   "execution_count": null,
   "metadata": {},
   "outputs": [],
   "source": [
    "cv_sum()"
   ]
  },
  {
   "cell_type": "code",
   "execution_count": null,
   "metadata": {},
   "outputs": [],
   "source": [
    "fig, ax = plt.subplots(figsize=(8,8))\n",
    "\n",
    "for i in range(6):\n",
    "    plot_precision_vs_recall(y_pred_arr[clf[i]], i)\n",
    "\n",
    "ax.axis([0, 1, 0, 1])\n",
    "ax.legend(bbox_to_anchor=(1.5, 1.01))\n",
    "plt.xlabel(\"Recall\", fontsize=16)\n",
    "plt.ylabel(\"Precision\", fontsize=16)\n",
    "plt.title ('Precision-Recall Graph', fontsize = 20)\n",
    "plt.show()"
   ]
  },
  {
   "cell_type": "code",
   "execution_count": null,
   "metadata": {},
   "outputs": [],
   "source": [
    "fig, ax = plt.subplots(figsize=(8,8))\n",
    "\n",
    "for i in range(6):\n",
    "    plot_roc_curve(i)\n",
    "\n",
    "ax.axis([0, 1, 0, 1])\n",
    "ax.legend(bbox_to_anchor=(1.1, 1.01))\n",
    "\n",
    "plt.xlabel ('False Positive Rate')\n",
    "plt.ylabel ('True Positive Rate')\n",
    "plt.title('TPR vs FPR', fontsize=20)\n",
    "plt.show()"
   ]
  },
  {
   "cell_type": "code",
   "execution_count": null,
   "metadata": {},
   "outputs": [],
   "source": [
    "auc_score_report"
   ]
  },
  {
   "cell_type": "code",
   "execution_count": null,
   "metadata": {},
   "outputs": [],
   "source": [
    "temp = auc_score_report[\"AUC Score\"]\n",
    "width = 0.3\n",
    "\n",
    "fig, ax = plt.subplots(figsize=(18,6))\n",
    "\n",
    "x1 = np.arange(len(temp))\n",
    "for i in range(len(temp)):\n",
    "    ax.bar(i,temp[i],width, label=overview.index[i])\n",
    "    ax.text(i-0.10,temp[i],\"{:.4f}\".format(temp[i]))\n",
    "\n",
    "ax.legend(bbox_to_anchor=(1.02, 1.02))\n",
    "plt.xticks(x1,overview.index)\n",
    "plt.xlabel(\"Types of Classifier\")\n",
    "plt.ylabel(\"Accuracy Score\")\n",
    "plt.show()"
   ]
  }
 ],
 "metadata": {
  "kernelspec": {
   "display_name": "Python 3",
   "language": "python",
   "name": "python3"
  },
  "language_info": {
   "codemirror_mode": {
    "name": "ipython",
    "version": 3
   },
   "file_extension": ".py",
   "mimetype": "text/x-python",
   "name": "python",
   "nbconvert_exporter": "python",
   "pygments_lexer": "ipython3",
   "version": "3.8.3"
  }
 },
 "nbformat": 4,
 "nbformat_minor": 5
}
